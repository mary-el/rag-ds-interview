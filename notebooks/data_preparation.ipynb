{
 "cells": [
  {
   "cell_type": "code",
   "execution_count": 5,
   "id": "5cb10de1-1776-4148-b1e6-7df2e0eff6a5",
   "metadata": {
    "scrolled": true
   },
   "outputs": [
    {
     "name": "stdout",
     "output_type": "stream",
     "text": [
      "Collecting pandas==2.2.2 (from -r requirements.txt (line 1))\n",
      "  Downloading pandas-2.2.2-cp312-cp312-win_amd64.whl.metadata (19 kB)\n",
      "Collecting python-docx==1.1.2 (from -r requirements.txt (line 2))\n",
      "  Using cached python_docx-1.1.2-py3-none-any.whl.metadata (2.0 kB)\n",
      "Collecting sentence-transformers==3.0.1 (from -r requirements.txt (line 3))\n",
      "  Using cached sentence_transformers-3.0.1-py3-none-any.whl.metadata (10 kB)\n",
      "Collecting elasticsearch==8.14.0 (from -r requirements.txt (line 4))\n",
      "  Using cached elasticsearch-8.14.0-py3-none-any.whl.metadata (7.2 kB)\n",
      "Collecting huggingface-hub==0.24.5 (from -r requirements.txt (line 5))\n",
      "  Using cached huggingface_hub-0.24.5-py3-none-any.whl.metadata (13 kB)\n",
      "Collecting docx (from -r requirements.txt (line 6))\n",
      "  Using cached docx-0.2.4-py3-none-any.whl\n",
      "Requirement already satisfied: numpy>=1.26.0 in c:\\users\\mary\\anaconda3\\envs\\env12\\lib\\site-packages (from pandas==2.2.2->-r requirements.txt (line 1)) (1.26.4)\n",
      "Requirement already satisfied: python-dateutil>=2.8.2 in c:\\users\\mary\\appdata\\roaming\\python\\python312\\site-packages (from pandas==2.2.2->-r requirements.txt (line 1)) (2.9.0.post0)\n",
      "Requirement already satisfied: pytz>=2020.1 in c:\\users\\mary\\anaconda3\\envs\\env12\\lib\\site-packages (from pandas==2.2.2->-r requirements.txt (line 1)) (2024.1)\n",
      "Requirement already satisfied: tzdata>=2022.7 in c:\\users\\mary\\anaconda3\\envs\\env12\\lib\\site-packages (from pandas==2.2.2->-r requirements.txt (line 1)) (2023.3)\n",
      "Collecting lxml>=3.1.0 (from python-docx==1.1.2->-r requirements.txt (line 2))\n",
      "  Downloading lxml-5.3.1-cp312-cp312-win_amd64.whl.metadata (3.8 kB)\n",
      "Requirement already satisfied: typing-extensions>=4.9.0 in c:\\users\\mary\\anaconda3\\envs\\env12\\lib\\site-packages (from python-docx==1.1.2->-r requirements.txt (line 2)) (4.12.2)\n",
      "Requirement already satisfied: transformers<5.0.0,>=4.34.0 in c:\\users\\mary\\appdata\\roaming\\python\\python312\\site-packages (from sentence-transformers==3.0.1->-r requirements.txt (line 3)) (4.46.3)\n",
      "Requirement already satisfied: tqdm in c:\\users\\mary\\anaconda3\\envs\\env12\\lib\\site-packages (from sentence-transformers==3.0.1->-r requirements.txt (line 3)) (4.67.1)\n",
      "Requirement already satisfied: torch>=1.11.0 in c:\\users\\mary\\anaconda3\\envs\\env12\\lib\\site-packages (from sentence-transformers==3.0.1->-r requirements.txt (line 3)) (2.5.1)\n",
      "Requirement already satisfied: scikit-learn in c:\\users\\mary\\anaconda3\\envs\\env12\\lib\\site-packages (from sentence-transformers==3.0.1->-r requirements.txt (line 3)) (1.5.2)\n",
      "Requirement already satisfied: scipy in c:\\users\\mary\\anaconda3\\envs\\env12\\lib\\site-packages (from sentence-transformers==3.0.1->-r requirements.txt (line 3)) (1.14.1)\n",
      "Requirement already satisfied: Pillow in c:\\users\\mary\\anaconda3\\envs\\env12\\lib\\site-packages (from sentence-transformers==3.0.1->-r requirements.txt (line 3)) (11.0.0)\n",
      "Collecting elastic-transport<9,>=8.13 (from elasticsearch==8.14.0->-r requirements.txt (line 4))\n",
      "  Using cached elastic_transport-8.17.1-py3-none-any.whl.metadata (3.8 kB)\n",
      "Requirement already satisfied: filelock in c:\\users\\mary\\anaconda3\\envs\\env12\\lib\\site-packages (from huggingface-hub==0.24.5->-r requirements.txt (line 5)) (3.16.1)\n",
      "Requirement already satisfied: fsspec>=2023.5.0 in c:\\users\\mary\\anaconda3\\envs\\env12\\lib\\site-packages (from huggingface-hub==0.24.5->-r requirements.txt (line 5)) (2024.6.1)\n",
      "Requirement already satisfied: packaging>=20.9 in c:\\users\\mary\\appdata\\roaming\\python\\python312\\site-packages (from huggingface-hub==0.24.5->-r requirements.txt (line 5)) (24.2)\n",
      "Requirement already satisfied: pyyaml>=5.1 in c:\\users\\mary\\anaconda3\\envs\\env12\\lib\\site-packages (from huggingface-hub==0.24.5->-r requirements.txt (line 5)) (5.4.1)\n",
      "Requirement already satisfied: requests in c:\\users\\mary\\anaconda3\\envs\\env12\\lib\\site-packages (from huggingface-hub==0.24.5->-r requirements.txt (line 5)) (2.32.3)\n",
      "Requirement already satisfied: urllib3<3,>=1.26.2 in c:\\users\\mary\\anaconda3\\envs\\env12\\lib\\site-packages (from elastic-transport<9,>=8.13->elasticsearch==8.14.0->-r requirements.txt (line 4)) (2.3.0)\n",
      "Requirement already satisfied: certifi in c:\\users\\mary\\anaconda3\\envs\\env12\\lib\\site-packages (from elastic-transport<9,>=8.13->elasticsearch==8.14.0->-r requirements.txt (line 4)) (2024.12.14)\n",
      "Requirement already satisfied: six>=1.5 in c:\\users\\mary\\appdata\\roaming\\python\\python312\\site-packages (from python-dateutil>=2.8.2->pandas==2.2.2->-r requirements.txt (line 1)) (1.17.0)\n",
      "Requirement already satisfied: networkx in c:\\users\\mary\\anaconda3\\envs\\env12\\lib\\site-packages (from torch>=1.11.0->sentence-transformers==3.0.1->-r requirements.txt (line 3)) (3.4.2)\n",
      "Requirement already satisfied: jinja2 in c:\\users\\mary\\anaconda3\\envs\\env12\\lib\\site-packages (from torch>=1.11.0->sentence-transformers==3.0.1->-r requirements.txt (line 3)) (3.1.5)\n",
      "Requirement already satisfied: setuptools in c:\\users\\mary\\anaconda3\\envs\\env12\\lib\\site-packages (from torch>=1.11.0->sentence-transformers==3.0.1->-r requirements.txt (line 3)) (75.1.0)\n",
      "Requirement already satisfied: sympy==1.13.1 in c:\\users\\mary\\anaconda3\\envs\\env12\\lib\\site-packages (from torch>=1.11.0->sentence-transformers==3.0.1->-r requirements.txt (line 3)) (1.13.1)\n",
      "Requirement already satisfied: mpmath<1.4,>=1.1.0 in c:\\users\\mary\\anaconda3\\envs\\env12\\lib\\site-packages (from sympy==1.13.1->torch>=1.11.0->sentence-transformers==3.0.1->-r requirements.txt (line 3)) (1.3.0)\n",
      "Requirement already satisfied: colorama in c:\\users\\mary\\appdata\\roaming\\python\\python312\\site-packages (from tqdm->sentence-transformers==3.0.1->-r requirements.txt (line 3)) (0.4.6)\n",
      "Requirement already satisfied: regex!=2019.12.17 in c:\\users\\mary\\anaconda3\\envs\\env12\\lib\\site-packages (from transformers<5.0.0,>=4.34.0->sentence-transformers==3.0.1->-r requirements.txt (line 3)) (2024.11.6)\n",
      "Requirement already satisfied: tokenizers<0.21,>=0.20 in c:\\users\\mary\\appdata\\roaming\\python\\python312\\site-packages (from transformers<5.0.0,>=4.34.0->sentence-transformers==3.0.1->-r requirements.txt (line 3)) (0.20.3)\n",
      "Requirement already satisfied: safetensors>=0.4.1 in c:\\users\\mary\\anaconda3\\envs\\env12\\lib\\site-packages (from transformers<5.0.0,>=4.34.0->sentence-transformers==3.0.1->-r requirements.txt (line 3)) (0.4.5)\n",
      "Requirement already satisfied: charset-normalizer<4,>=2 in c:\\users\\mary\\anaconda3\\envs\\env12\\lib\\site-packages (from requests->huggingface-hub==0.24.5->-r requirements.txt (line 5)) (3.4.1)\n",
      "Requirement already satisfied: idna<4,>=2.5 in c:\\users\\mary\\anaconda3\\envs\\env12\\lib\\site-packages (from requests->huggingface-hub==0.24.5->-r requirements.txt (line 5)) (3.10)\n",
      "Requirement already satisfied: joblib>=1.2.0 in c:\\users\\mary\\anaconda3\\envs\\env12\\lib\\site-packages (from scikit-learn->sentence-transformers==3.0.1->-r requirements.txt (line 3)) (1.4.2)\n",
      "Requirement already satisfied: threadpoolctl>=3.1.0 in c:\\users\\mary\\anaconda3\\envs\\env12\\lib\\site-packages (from scikit-learn->sentence-transformers==3.0.1->-r requirements.txt (line 3)) (3.5.0)\n",
      "Requirement already satisfied: MarkupSafe>=2.0 in c:\\users\\mary\\anaconda3\\envs\\env12\\lib\\site-packages (from jinja2->torch>=1.11.0->sentence-transformers==3.0.1->-r requirements.txt (line 3)) (3.0.2)\n",
      "Downloading pandas-2.2.2-cp312-cp312-win_amd64.whl (11.5 MB)\n",
      "   ---------------------------------------- 0.0/11.5 MB ? eta -:--:--\n",
      "   -- ------------------------------------- 0.8/11.5 MB 6.7 MB/s eta 0:00:02\n",
      "   -------- ------------------------------- 2.4/11.5 MB 7.9 MB/s eta 0:00:02\n",
      "   ------------ --------------------------- 3.7/11.5 MB 7.0 MB/s eta 0:00:02\n",
      "   ------------------ --------------------- 5.2/11.5 MB 6.9 MB/s eta 0:00:01\n",
      "   ----------------------- ---------------- 6.8/11.5 MB 7.0 MB/s eta 0:00:01\n",
      "   ----------------------------- ---------- 8.4/11.5 MB 7.0 MB/s eta 0:00:01\n",
      "   ---------------------------------- ----- 10.0/11.5 MB 7.1 MB/s eta 0:00:01\n",
      "   ---------------------------------------  11.3/11.5 MB 7.1 MB/s eta 0:00:01\n",
      "   ---------------------------------------- 11.5/11.5 MB 6.3 MB/s eta 0:00:00\n",
      "Using cached python_docx-1.1.2-py3-none-any.whl (244 kB)\n",
      "Using cached sentence_transformers-3.0.1-py3-none-any.whl (227 kB)\n",
      "Using cached elasticsearch-8.14.0-py3-none-any.whl (480 kB)\n",
      "Using cached huggingface_hub-0.24.5-py3-none-any.whl (417 kB)\n",
      "Using cached elastic_transport-8.17.1-py3-none-any.whl (64 kB)\n",
      "Downloading lxml-5.3.1-cp312-cp312-win_amd64.whl (3.8 MB)\n",
      "   ---------------------------------------- 0.0/3.8 MB ? eta -:--:--\n",
      "   ---------------- ----------------------- 1.6/3.8 MB 7.6 MB/s eta 0:00:01\n",
      "   -------------------------------- ------- 3.1/3.8 MB 7.7 MB/s eta 0:00:01\n",
      "   ---------------------------------------- 3.8/3.8 MB 7.1 MB/s eta 0:00:00\n",
      "Installing collected packages: lxml, elastic-transport, python-docx, pandas, huggingface-hub, elasticsearch, docx, sentence-transformers\n",
      "  Attempting uninstall: pandas\n",
      "    Found existing installation: pandas 2.2.3\n",
      "    Uninstalling pandas-2.2.3:\n",
      "      Successfully uninstalled pandas-2.2.3\n",
      "  Attempting uninstall: huggingface-hub\n",
      "    Found existing installation: huggingface-hub 0.27.0\n",
      "    Uninstalling huggingface-hub-0.27.0:\n",
      "      Successfully uninstalled huggingface-hub-0.27.0\n",
      "  Attempting uninstall: sentence-transformers\n",
      "    Found existing installation: sentence-transformers 3.3.1\n",
      "    Uninstalling sentence-transformers-3.3.1:\n",
      "      Successfully uninstalled sentence-transformers-3.3.1\n",
      "Successfully installed docx-0.2.4 elastic-transport-8.17.1 elasticsearch-8.14.0 huggingface-hub-0.24.5 lxml-5.3.1 pandas-2.2.2 python-docx-1.1.2 sentence-transformers-3.0.1\n",
      "Note: you may need to restart the kernel to use updated packages.\n"
     ]
    },
    {
     "name": "stderr",
     "output_type": "stream",
     "text": [
      "  WARNING: The script huggingface-cli.exe is installed in 'C:\\Users\\mary\\anaconda3\\envs\\env12\\Scripts' which is not on PATH.\n",
      "  Consider adding this directory to PATH or, if you prefer to suppress this warning, use --no-warn-script-location.\n",
      "ERROR: pip's dependency resolver does not currently take into account all the packages that are installed. This behaviour is the source of the following dependency conflicts.\n",
      "vllm 0.7.3 requires transformers>=4.48.2, but you have transformers 4.46.3 which is incompatible.\n"
     ]
    }
   ],
   "source": [
    "%pip install -r requirements.txt"
   ]
  },
  {
   "cell_type": "code",
   "execution_count": 18,
   "id": "328dedf8-7967-401e-bbe4-fa6c42a71fc9",
   "metadata": {},
   "outputs": [],
   "source": [
    "from docx import Document\n",
    "import pandas as pd\n",
    "import glob\n",
    "import os\n",
    "import tqdm"
   ]
  },
  {
   "cell_type": "code",
   "execution_count": 46,
   "id": "82b80bc7-b216-4b56-b607-b0e609658f8c",
   "metadata": {},
   "outputs": [],
   "source": [
    "def get_data(files):\n",
    "    sections = []\n",
    "    subsections = []\n",
    "    questions = []\n",
    "    answers = []\n",
    "    for file in files:\n",
    "        section = os.path.basename(file)[:-5].replace('_', ' ')  # name of the section\n",
    "        print(f'Section {section}')\n",
    "        doc = Document(file)\n",
    "        current_answer = ''\n",
    "        current_subsection = None\n",
    "        \n",
    "        for par in tqdm.tqdm(doc.paragraphs):\n",
    "            if par.text.strip() == '':\n",
    "                continue\n",
    "            if par.style.name == 'Heading 1':  # subsection started\n",
    "                current_subsection = par.text\n",
    "            elif par.style.name == 'Heading 2':  #question started\n",
    "                if current_answer:\n",
    "                    answers.append(current_answer)\n",
    "                questions.append(par.text)\n",
    "                subsections.append(current_subsection)\n",
    "                sections.append(section)\n",
    "                current_answer = ''\n",
    "            else:\n",
    "                current_answer += par.text + '\\n'\n",
    "        answers.append(current_answer)\n",
    "    return pd.DataFrame({'section': sections, 'subsection': subsections, 'question': questions, 'answer': answers})"
   ]
  },
  {
   "cell_type": "code",
   "execution_count": 47,
   "id": "2ef6f0ab-bfb4-47fd-83d9-140d73455994",
   "metadata": {},
   "outputs": [],
   "source": [
    "files = ['docs/Classical_models.docx', 'docs/Classical_NLP.docx', \n",
    "         'docs/Data.docx', 'docs/Deep_Learning.docx', 'docs/LLM.docx', \n",
    "         'docs/Metrics.docx', 'docs/Probability_and_Statistics.docx']"
   ]
  },
  {
   "cell_type": "code",
   "execution_count": 48,
   "id": "283b3912-0d12-4b7c-af73-9975feac8229",
   "metadata": {},
   "outputs": [
    {
     "name": "stdout",
     "output_type": "stream",
     "text": [
      "Section Classical models\n"
     ]
    },
    {
     "name": "stderr",
     "output_type": "stream",
     "text": [
      "100%|██████████████████████████████████████████████████████████████████████████████| 978/978 [00:00<00:00, 1611.65it/s]\n"
     ]
    },
    {
     "name": "stdout",
     "output_type": "stream",
     "text": [
      "Section Classical NLP\n"
     ]
    },
    {
     "name": "stderr",
     "output_type": "stream",
     "text": [
      "100%|██████████████████████████████████████████████████████████████████████████████| 403/403 [00:00<00:00, 1236.55it/s]\n"
     ]
    },
    {
     "name": "stdout",
     "output_type": "stream",
     "text": [
      "Section Data\n"
     ]
    },
    {
     "name": "stderr",
     "output_type": "stream",
     "text": [
      "100%|██████████████████████████████████████████████████████████████████████████████| 436/436 [00:00<00:00, 1329.69it/s]\n"
     ]
    },
    {
     "name": "stdout",
     "output_type": "stream",
     "text": [
      "Section Deep Learning\n"
     ]
    },
    {
     "name": "stderr",
     "output_type": "stream",
     "text": [
      "100%|██████████████████████████████████████████████████████████████████████████████| 717/717 [00:00<00:00, 1202.42it/s]\n"
     ]
    },
    {
     "name": "stdout",
     "output_type": "stream",
     "text": [
      "Section LLM\n"
     ]
    },
    {
     "name": "stderr",
     "output_type": "stream",
     "text": [
      "100%|████████████████████████████████████████████████████████████████████████████| 1199/1199 [00:00<00:00, 1419.75it/s]\n"
     ]
    },
    {
     "name": "stdout",
     "output_type": "stream",
     "text": [
      "Section Metrics\n"
     ]
    },
    {
     "name": "stderr",
     "output_type": "stream",
     "text": [
      "100%|██████████████████████████████████████████████████████████████████████████████| 498/498 [00:00<00:00, 1545.33it/s]\n"
     ]
    },
    {
     "name": "stdout",
     "output_type": "stream",
     "text": [
      "Section Probability and Statistics\n"
     ]
    },
    {
     "name": "stderr",
     "output_type": "stream",
     "text": [
      "100%|██████████████████████████████████████████████████████████████████████████████| 567/567 [00:00<00:00, 1430.24it/s]\n"
     ]
    },
    {
     "data": {
      "text/html": [
       "<div>\n",
       "<style scoped>\n",
       "    .dataframe tbody tr th:only-of-type {\n",
       "        vertical-align: middle;\n",
       "    }\n",
       "\n",
       "    .dataframe tbody tr th {\n",
       "        vertical-align: top;\n",
       "    }\n",
       "\n",
       "    .dataframe thead th {\n",
       "        text-align: right;\n",
       "    }\n",
       "</style>\n",
       "<table border=\"1\" class=\"dataframe\">\n",
       "  <thead>\n",
       "    <tr style=\"text-align: right;\">\n",
       "      <th></th>\n",
       "      <th>section</th>\n",
       "      <th>subsection</th>\n",
       "      <th>question</th>\n",
       "      <th>answer</th>\n",
       "    </tr>\n",
       "  </thead>\n",
       "  <tbody>\n",
       "    <tr>\n",
       "      <th>0</th>\n",
       "      <td>Classical models</td>\n",
       "      <td>Linear Regression</td>\n",
       "      <td>What Is a Linear Regression Model? List Its Dr...</td>\n",
       "      <td>A linear regression model is a model in which ...</td>\n",
       "    </tr>\n",
       "    <tr>\n",
       "      <th>1</th>\n",
       "      <td>Classical models</td>\n",
       "      <td>Linear Regression</td>\n",
       "      <td>What are various assumptions used in linear re...</td>\n",
       "      <td>Linear regression is done under the following ...</td>\n",
       "    </tr>\n",
       "    <tr>\n",
       "      <th>2</th>\n",
       "      <td>Classical models</td>\n",
       "      <td>Linear Regression</td>\n",
       "      <td>What methods for solving linear regression do ...</td>\n",
       "      <td>To solve linear regression, you need to find t...</td>\n",
       "    </tr>\n",
       "    <tr>\n",
       "      <th>3</th>\n",
       "      <td>Classical models</td>\n",
       "      <td>Linear Regression</td>\n",
       "      <td>Maximum Likelihood Estimation for Linear Regre...</td>\n",
       "      <td>Linear regression can be written as a CPD in t...</td>\n",
       "    </tr>\n",
       "    <tr>\n",
       "      <th>4</th>\n",
       "      <td>Classical models</td>\n",
       "      <td>Linear Regression</td>\n",
       "      <td>Ordinary least squares</td>\n",
       "      <td>The ordinary least squares (OLS) method can be...</td>\n",
       "    </tr>\n",
       "    <tr>\n",
       "      <th>...</th>\n",
       "      <td>...</td>\n",
       "      <td>...</td>\n",
       "      <td>...</td>\n",
       "      <td>...</td>\n",
       "    </tr>\n",
       "    <tr>\n",
       "      <th>520</th>\n",
       "      <td>Probability and Statistics</td>\n",
       "      <td>Miscellaneous</td>\n",
       "      <td>Simpson’s paradox</td>\n",
       "      <td>Simpson’s paradox refers to the situations in ...</td>\n",
       "    </tr>\n",
       "    <tr>\n",
       "      <th>521</th>\n",
       "      <td>Probability and Statistics</td>\n",
       "      <td>Miscellaneous</td>\n",
       "      <td>What Is a Statistical Interaction?</td>\n",
       "      <td>A statistical interaction is when two or more ...</td>\n",
       "    </tr>\n",
       "    <tr>\n",
       "      <th>522</th>\n",
       "      <td>Probability and Statistics</td>\n",
       "      <td>Miscellaneous</td>\n",
       "      <td>How do you identify if a coin is biased?</td>\n",
       "      <td>We collect data by flipping the coin 200 times...</td>\n",
       "    </tr>\n",
       "    <tr>\n",
       "      <th>523</th>\n",
       "      <td>Probability and Statistics</td>\n",
       "      <td>Miscellaneous</td>\n",
       "      <td>What does Design of Experiments mean?</td>\n",
       "      <td>Design of experiments also known as DOE, it is...</td>\n",
       "    </tr>\n",
       "    <tr>\n",
       "      <th>524</th>\n",
       "      <td>Probability and Statistics</td>\n",
       "      <td>Miscellaneous</td>\n",
       "      <td>Given uniform distribution X and Y (mean 0, SD...</td>\n",
       "      <td>0.5\\n</td>\n",
       "    </tr>\n",
       "  </tbody>\n",
       "</table>\n",
       "<p>525 rows × 4 columns</p>\n",
       "</div>"
      ],
      "text/plain": [
       "                        section         subsection  \\\n",
       "0              Classical models  Linear Regression   \n",
       "1              Classical models  Linear Regression   \n",
       "2              Classical models  Linear Regression   \n",
       "3              Classical models  Linear Regression   \n",
       "4              Classical models  Linear Regression   \n",
       "..                          ...                ...   \n",
       "520  Probability and Statistics      Miscellaneous   \n",
       "521  Probability and Statistics      Miscellaneous   \n",
       "522  Probability and Statistics      Miscellaneous   \n",
       "523  Probability and Statistics      Miscellaneous   \n",
       "524  Probability and Statistics      Miscellaneous   \n",
       "\n",
       "                                              question  \\\n",
       "0    What Is a Linear Regression Model? List Its Dr...   \n",
       "1    What are various assumptions used in linear re...   \n",
       "2    What methods for solving linear regression do ...   \n",
       "3    Maximum Likelihood Estimation for Linear Regre...   \n",
       "4                               Ordinary least squares   \n",
       "..                                                 ...   \n",
       "520                                  Simpson’s paradox   \n",
       "521                 What Is a Statistical Interaction?   \n",
       "522           How do you identify if a coin is biased?   \n",
       "523              What does Design of Experiments mean?   \n",
       "524  Given uniform distribution X and Y (mean 0, SD...   \n",
       "\n",
       "                                                answer  \n",
       "0    A linear regression model is a model in which ...  \n",
       "1    Linear regression is done under the following ...  \n",
       "2    To solve linear regression, you need to find t...  \n",
       "3    Linear regression can be written as a CPD in t...  \n",
       "4    The ordinary least squares (OLS) method can be...  \n",
       "..                                                 ...  \n",
       "520  Simpson’s paradox refers to the situations in ...  \n",
       "521  A statistical interaction is when two or more ...  \n",
       "522  We collect data by flipping the coin 200 times...  \n",
       "523  Design of experiments also known as DOE, it is...  \n",
       "524                                              0.5\\n  \n",
       "\n",
       "[525 rows x 4 columns]"
      ]
     },
     "execution_count": 48,
     "metadata": {},
     "output_type": "execute_result"
    }
   ],
   "source": [
    "ds = get_data(files)\n",
    "ds"
   ]
  },
  {
   "cell_type": "code",
   "execution_count": 49,
   "id": "95e5adbf-9445-455e-91c0-912eed734fb4",
   "metadata": {},
   "outputs": [
    {
     "data": {
      "text/plain": [
       "'What methods for solving linear regression do you know?'"
      ]
     },
     "execution_count": 49,
     "metadata": {},
     "output_type": "execute_result"
    }
   ],
   "source": [
    "ds['question'][2]"
   ]
  },
  {
   "cell_type": "code",
   "execution_count": 50,
   "id": "b9d0fd1e-167f-4792-8c82-7d25459f8bc7",
   "metadata": {},
   "outputs": [
    {
     "data": {
      "text/plain": [
       "'Linear regression is done under the following assumptions:\\nThe sample data used for modeling represents the entire population.\\nThere exists a linear relationship between the X-axis variable and the mean of the Y variable.\\nThe residual variance is the same for any X values. This is called homoscedasticity. Residual Variance\\xa0(also called\\xa0unexplained variance\\xa0or\\xa0error variance) is the variance of any\\xa0error (residual).\\nThe errors or residuals of the data are normally distributed and independent from each other.\\xa0\\nThere is minimal multicollinearity between explanatory variables\\xa0\\nExtreme violations of the above assumptions lead to redundant results. Smaller violations of these result in greater variance or bias of the estimates.\\n'"
      ]
     },
     "execution_count": 50,
     "metadata": {},
     "output_type": "execute_result"
    }
   ],
   "source": [
    "ds['answer'][1]"
   ]
  },
  {
   "cell_type": "code",
   "execution_count": 51,
   "id": "8af19042-7633-499f-bba6-78b09a2b52c9",
   "metadata": {},
   "outputs": [],
   "source": [
    "ds_cleaned = ds.replace({'\\u200d': '', '\\xa0': ' ', '\\u200b': ''}, regex=True)  # get rid of Unicode codes"
   ]
  },
  {
   "cell_type": "code",
   "execution_count": 52,
   "id": "8d60dc4a-eeea-4b22-8a8b-55f511fb7511",
   "metadata": {},
   "outputs": [
    {
     "data": {
      "text/plain": [
       "'What methods for solving linear regression do you know?'"
      ]
     },
     "execution_count": 52,
     "metadata": {},
     "output_type": "execute_result"
    }
   ],
   "source": [
    "ds_cleaned['question'][2]"
   ]
  },
  {
   "cell_type": "code",
   "execution_count": 53,
   "id": "840effb3-6598-4252-b10e-bb6bf5bad79e",
   "metadata": {},
   "outputs": [
    {
     "data": {
      "text/plain": [
       "'Linear regression is done under the following assumptions:\\nThe sample data used for modeling represents the entire population.\\nThere exists a linear relationship between the X-axis variable and the mean of the Y variable.\\nThe residual variance is the same for any X values. This is called homoscedasticity. Residual Variance (also called unexplained variance or error variance) is the variance of any error (residual).\\nThe errors or residuals of the data are normally distributed and independent from each other. \\nThere is minimal multicollinearity between explanatory variables \\nExtreme violations of the above assumptions lead to redundant results. Smaller violations of these result in greater variance or bias of the estimates.\\n'"
      ]
     },
     "execution_count": 53,
     "metadata": {},
     "output_type": "execute_result"
    }
   ],
   "source": [
    "ds_cleaned['answer'][1]"
   ]
  },
  {
   "cell_type": "code",
   "execution_count": 54,
   "id": "abffb572-9033-4b68-991f-70be01594d6f",
   "metadata": {},
   "outputs": [],
   "source": [
    "ds_cleaned.to_csv('data/db.csv', index=False)"
   ]
  },
  {
   "cell_type": "code",
   "execution_count": null,
   "id": "de138fa2-3e7f-4f9e-a69d-0823c4a8eb34",
   "metadata": {},
   "outputs": [],
   "source": [
    "from datasets import Dataset\n",
    "\n",
    "comments_dataset = Dataset.from_pandas(ds)\n",
    "comments_dataset"
   ]
  }
 ],
 "metadata": {
  "kernelspec": {
   "display_name": "env12",
   "language": "python",
   "name": "env12"
  },
  "language_info": {
   "codemirror_mode": {
    "name": "ipython",
    "version": 3
   },
   "file_extension": ".py",
   "mimetype": "text/x-python",
   "name": "python",
   "nbconvert_exporter": "python",
   "pygments_lexer": "ipython3",
   "version": "3.12.8"
  }
 },
 "nbformat": 4,
 "nbformat_minor": 5
}
