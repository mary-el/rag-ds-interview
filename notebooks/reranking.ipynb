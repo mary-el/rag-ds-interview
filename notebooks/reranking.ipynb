{
 "cells": [
  {
   "cell_type": "markdown",
   "id": "b73b0d4d-f41e-4ef8-9178-6799ebdd1926",
   "metadata": {},
   "source": [
    "# Reranker\n",
    "\n",
    "A pipeline for RAG normally looks like this:\n",
    "* Retriever → Reranker → Top-k → generator (LLM)\n",
    "\n",
    "I want to compare retrieval metrics with and without a reranker"
   ]
  },
  {
   "cell_type": "code",
   "execution_count": 3,
   "id": "eac28d21-7645-46e6-95be-bf6a31afa9c1",
   "metadata": {},
   "outputs": [
    {
     "name": "stderr",
     "output_type": "stream",
     "text": [
      "C:\\Users\\user\\anaconda3\\envs\\ml-interview-assistant-env\\Lib\\site-packages\\tqdm\\auto.py:21: TqdmWarning: IProgress not found. Please update jupyter and ipywidgets. See https://ipywidgets.readthedocs.io/en/stable/user_install.html\n",
      "  from .autonotebook import tqdm as notebook_tqdm\n"
     ]
    }
   ],
   "source": [
    "import numpy as np\n",
    "import pandas as pd\n",
    "import torch\n",
    "import tqdm\n",
    "from transformers import AutoModel, AutoTokenizer\n",
    "import time\n",
    "import torch.nn.functional as F\n",
    "import faiss\n",
    "\n",
    "from sentence_transformers import SentenceTransformer, CrossEncoder\n",
    "import faiss\n",
    "import numpy as np"
   ]
  },
  {
   "cell_type": "code",
   "execution_count": 4,
   "id": "bcf3495e-c2f7-4d77-8111-f848f5243f2d",
   "metadata": {},
   "outputs": [],
   "source": [
    "device = torch.device(\"cuda\") if torch.cuda.is_available() else torch.device(\"cpu\")"
   ]
  },
  {
   "cell_type": "code",
   "execution_count": 5,
   "id": "a9f1a190-4402-4d6a-9ccb-ac50bbaaf5bc",
   "metadata": {},
   "outputs": [],
   "source": [
    "df_db = pd.read_csv(\"df.csv\", index_col=0)  # loading knowledge base df\n",
    "df_qa = pd.read_csv(\"df_qa.csv\", index_col=0)  # loading generated questions\n",
    "df_qa = df_qa[:-500].dropna()\n",
    "df_chunks = df_db.reset_index(names=['chunk_id'])[['chunk_id', 'text']]\n",
    "df_q = pd.merge(df_qa, df_chunks, left_on='Context', right_on='text').reset_index(names=[\"query_id\"])[['query_id', 'Question', 'chunk_id']]"
   ]
  },
  {
   "cell_type": "code",
   "execution_count": 6,
   "id": "fde934ac-1eb4-4eee-8800-139b84c84adf",
   "metadata": {},
   "outputs": [],
   "source": [
    "emb_model_name = \"sentence-transformers/all-MiniLM-L6-v2\" # embedding model for retrieval"
   ]
  },
  {
   "cell_type": "code",
   "execution_count": 7,
   "id": "bdb545ca-c515-43e2-8422-78c45ecd49bd",
   "metadata": {},
   "outputs": [],
   "source": [
    "reranker_model_name = \"cross-encoder/ms-marco-MiniLM-L6-v2\"  # reranker model"
   ]
  },
  {
   "cell_type": "code",
   "execution_count": 8,
   "id": "01447cd7-e397-468b-ae38-3eddd667b6d9",
   "metadata": {
    "scrolled": true
   },
   "outputs": [
    {
     "data": {
      "text/html": [
       "<div>\n",
       "<style scoped>\n",
       "    .dataframe tbody tr th:only-of-type {\n",
       "        vertical-align: middle;\n",
       "    }\n",
       "\n",
       "    .dataframe tbody tr th {\n",
       "        vertical-align: top;\n",
       "    }\n",
       "\n",
       "    .dataframe thead th {\n",
       "        text-align: right;\n",
       "    }\n",
       "</style>\n",
       "<table border=\"1\" class=\"dataframe\">\n",
       "  <thead>\n",
       "    <tr style=\"text-align: right;\">\n",
       "      <th></th>\n",
       "      <th>section</th>\n",
       "      <th>subsection</th>\n",
       "      <th>question</th>\n",
       "      <th>answer</th>\n",
       "      <th>text</th>\n",
       "      <th>hash_answer</th>\n",
       "    </tr>\n",
       "    <tr>\n",
       "      <th>chunk_id</th>\n",
       "      <th></th>\n",
       "      <th></th>\n",
       "      <th></th>\n",
       "      <th></th>\n",
       "      <th></th>\n",
       "      <th></th>\n",
       "    </tr>\n",
       "  </thead>\n",
       "  <tbody>\n",
       "    <tr>\n",
       "      <th>0</th>\n",
       "      <td>Classical models</td>\n",
       "      <td>Linear Regression</td>\n",
       "      <td>Regression _1</td>\n",
       "      <td>Regression in machine learning refers to a sup...</td>\n",
       "      <td>Classical models\\nLinear Regression\\nRegressio...</td>\n",
       "      <td>8f8499b5f59e9390a87f7d2b183cc8bd</td>\n",
       "    </tr>\n",
       "    <tr>\n",
       "      <th>1</th>\n",
       "      <td>Classical models</td>\n",
       "      <td>Linear Regression</td>\n",
       "      <td>Regression _2</td>\n",
       "      <td>regression.\\n4. Ridge &amp; Lasso Regression\\nRidg...</td>\n",
       "      <td>Classical models\\nLinear Regression\\nRegressio...</td>\n",
       "      <td>a37096af9620af5eca2a696c03a4b397</td>\n",
       "    </tr>\n",
       "    <tr>\n",
       "      <th>2</th>\n",
       "      <td>Classical models</td>\n",
       "      <td>Linear Regression</td>\n",
       "      <td>What Is a Linear Regression Model? List Its Dr...</td>\n",
       "      <td>A linear regression model is a model in which ...</td>\n",
       "      <td>Classical models\\nLinear Regression\\nWhat Is a...</td>\n",
       "      <td>376cf3108393d26d6d09952af3a4f1b8</td>\n",
       "    </tr>\n",
       "    <tr>\n",
       "      <th>3</th>\n",
       "      <td>Classical models</td>\n",
       "      <td>Linear Regression</td>\n",
       "      <td>What are various assumptions used in linear re...</td>\n",
       "      <td>Linear regression is done under the following ...</td>\n",
       "      <td>Classical models\\nLinear Regression\\nWhat are ...</td>\n",
       "      <td>cc89d249384cd42bccf680fb513ae05c</td>\n",
       "    </tr>\n",
       "    <tr>\n",
       "      <th>4</th>\n",
       "      <td>Classical models</td>\n",
       "      <td>Linear Regression</td>\n",
       "      <td>What methods for solving linear regression do ...</td>\n",
       "      <td>To solve linear regression, you need to find t...</td>\n",
       "      <td>Classical models\\nLinear Regression\\nWhat meth...</td>\n",
       "      <td>c7811418f1a69095d8bd9c190adac605</td>\n",
       "    </tr>\n",
       "    <tr>\n",
       "      <th>...</th>\n",
       "      <td>...</td>\n",
       "      <td>...</td>\n",
       "      <td>...</td>\n",
       "      <td>...</td>\n",
       "      <td>...</td>\n",
       "      <td>...</td>\n",
       "    </tr>\n",
       "    <tr>\n",
       "      <th>640</th>\n",
       "      <td>Probability and Statistics</td>\n",
       "      <td>Miscellaneous</td>\n",
       "      <td>How do you identify if a coin is biased?_1</td>\n",
       "      <td>We collect data by flipping the coin 200 times...</td>\n",
       "      <td>Probability and Statistics\\nMiscellaneous\\nHow...</td>\n",
       "      <td>da4450cba0a58f49d04514b63d6c662d</td>\n",
       "    </tr>\n",
       "    <tr>\n",
       "      <th>641</th>\n",
       "      <td>Probability and Statistics</td>\n",
       "      <td>Miscellaneous</td>\n",
       "      <td>How do you identify if a coin is biased?_2</td>\n",
       "      <td>observed value arising by chance is only 1 in ...</td>\n",
       "      <td>Probability and Statistics\\nMiscellaneous\\nHow...</td>\n",
       "      <td>7227d237c94a82f26a43bcbcf9214ffb</td>\n",
       "    </tr>\n",
       "    <tr>\n",
       "      <th>642</th>\n",
       "      <td>Probability and Statistics</td>\n",
       "      <td>Miscellaneous</td>\n",
       "      <td>What does Design of Experiments mean?_1</td>\n",
       "      <td>Design of experiments also known as DOE, it is...</td>\n",
       "      <td>Probability and Statistics\\nMiscellaneous\\nWha...</td>\n",
       "      <td>1b68b299f67ada223609edc3dc1a7bc1</td>\n",
       "    </tr>\n",
       "    <tr>\n",
       "      <th>643</th>\n",
       "      <td>Probability and Statistics</td>\n",
       "      <td>Miscellaneous</td>\n",
       "      <td>Given uniform distribution X and Y (mean 0, SD...</td>\n",
       "      <td>0.5</td>\n",
       "      <td>Probability and Statistics\\nMiscellaneous\\nGiv...</td>\n",
       "      <td>d310cb367d993fb6fb584b198a2fd72c</td>\n",
       "    </tr>\n",
       "    <tr>\n",
       "      <th>644</th>\n",
       "      <td>Probability and Statistics</td>\n",
       "      <td>Miscellaneous</td>\n",
       "      <td>Entropy and Cross-Entropy _1</td>\n",
       "      <td>1. Entropy (Shannon Entropy)\\nWhat it measures...</td>\n",
       "      <td>Probability and Statistics\\nMiscellaneous\\nEnt...</td>\n",
       "      <td>c5e1e36b67c06ceaa8b0a4dd59b98788</td>\n",
       "    </tr>\n",
       "  </tbody>\n",
       "</table>\n",
       "<p>645 rows × 6 columns</p>\n",
       "</div>"
      ],
      "text/plain": [
       "                             section         subsection  \\\n",
       "chunk_id                                                  \n",
       "0                   Classical models  Linear Regression   \n",
       "1                   Classical models  Linear Regression   \n",
       "2                   Classical models  Linear Regression   \n",
       "3                   Classical models  Linear Regression   \n",
       "4                   Classical models  Linear Regression   \n",
       "...                              ...                ...   \n",
       "640       Probability and Statistics      Miscellaneous   \n",
       "641       Probability and Statistics      Miscellaneous   \n",
       "642       Probability and Statistics      Miscellaneous   \n",
       "643       Probability and Statistics      Miscellaneous   \n",
       "644       Probability and Statistics      Miscellaneous   \n",
       "\n",
       "                                                   question  \\\n",
       "chunk_id                                                      \n",
       "0                                             Regression _1   \n",
       "1                                             Regression _2   \n",
       "2         What Is a Linear Regression Model? List Its Dr...   \n",
       "3         What are various assumptions used in linear re...   \n",
       "4         What methods for solving linear regression do ...   \n",
       "...                                                     ...   \n",
       "640              How do you identify if a coin is biased?_1   \n",
       "641              How do you identify if a coin is biased?_2   \n",
       "642                 What does Design of Experiments mean?_1   \n",
       "643       Given uniform distribution X and Y (mean 0, SD...   \n",
       "644                            Entropy and Cross-Entropy _1   \n",
       "\n",
       "                                                     answer  \\\n",
       "chunk_id                                                      \n",
       "0         Regression in machine learning refers to a sup...   \n",
       "1         regression.\\n4. Ridge & Lasso Regression\\nRidg...   \n",
       "2         A linear regression model is a model in which ...   \n",
       "3         Linear regression is done under the following ...   \n",
       "4         To solve linear regression, you need to find t...   \n",
       "...                                                     ...   \n",
       "640       We collect data by flipping the coin 200 times...   \n",
       "641       observed value arising by chance is only 1 in ...   \n",
       "642       Design of experiments also known as DOE, it is...   \n",
       "643                                                     0.5   \n",
       "644       1. Entropy (Shannon Entropy)\\nWhat it measures...   \n",
       "\n",
       "                                                       text  \\\n",
       "chunk_id                                                      \n",
       "0         Classical models\\nLinear Regression\\nRegressio...   \n",
       "1         Classical models\\nLinear Regression\\nRegressio...   \n",
       "2         Classical models\\nLinear Regression\\nWhat Is a...   \n",
       "3         Classical models\\nLinear Regression\\nWhat are ...   \n",
       "4         Classical models\\nLinear Regression\\nWhat meth...   \n",
       "...                                                     ...   \n",
       "640       Probability and Statistics\\nMiscellaneous\\nHow...   \n",
       "641       Probability and Statistics\\nMiscellaneous\\nHow...   \n",
       "642       Probability and Statistics\\nMiscellaneous\\nWha...   \n",
       "643       Probability and Statistics\\nMiscellaneous\\nGiv...   \n",
       "644       Probability and Statistics\\nMiscellaneous\\nEnt...   \n",
       "\n",
       "                               hash_answer  \n",
       "chunk_id                                    \n",
       "0         8f8499b5f59e9390a87f7d2b183cc8bd  \n",
       "1         a37096af9620af5eca2a696c03a4b397  \n",
       "2         376cf3108393d26d6d09952af3a4f1b8  \n",
       "3         cc89d249384cd42bccf680fb513ae05c  \n",
       "4         c7811418f1a69095d8bd9c190adac605  \n",
       "...                                    ...  \n",
       "640       da4450cba0a58f49d04514b63d6c662d  \n",
       "641       7227d237c94a82f26a43bcbcf9214ffb  \n",
       "642       1b68b299f67ada223609edc3dc1a7bc1  \n",
       "643       d310cb367d993fb6fb584b198a2fd72c  \n",
       "644       c5e1e36b67c06ceaa8b0a4dd59b98788  \n",
       "\n",
       "[645 rows x 6 columns]"
      ]
     },
     "execution_count": 8,
     "metadata": {},
     "output_type": "execute_result"
    }
   ],
   "source": [
    "df_db"
   ]
  },
  {
   "cell_type": "code",
   "execution_count": 9,
   "id": "1eb8ef86-8c19-4d78-8ff4-85adf220ee20",
   "metadata": {},
   "outputs": [],
   "source": [
    "bi_encoder = SentenceTransformer(emb_model_name, device=device)"
   ]
  },
  {
   "cell_type": "code",
   "execution_count": 10,
   "id": "98a77007-69a8-40cf-a4d2-7f2a63d27692",
   "metadata": {},
   "outputs": [
    {
     "name": "stderr",
     "output_type": "stream",
     "text": [
      "Batches: 100%|██████████| 21/21 [00:01<00:00, 19.76it/s]\n"
     ]
    }
   ],
   "source": [
    "corpus_embeddings = bi_encoder.encode(df_db[\"text\"].to_list(), normalize_embeddings=True, show_progress_bar=True)"
   ]
  },
  {
   "cell_type": "code",
   "execution_count": 11,
   "id": "31e496ca-4c3d-4f0a-8af5-de45fed2e188",
   "metadata": {},
   "outputs": [
    {
     "data": {
      "text/plain": [
       "(645, 384)"
      ]
     },
     "execution_count": 11,
     "metadata": {},
     "output_type": "execute_result"
    }
   ],
   "source": [
    "corpus_embeddings.shape"
   ]
  },
  {
   "cell_type": "markdown",
   "id": "28d25323-9fb7-4d44-abb4-cd87ea52b0ec",
   "metadata": {},
   "source": [
    "Create a FAISS index:"
   ]
  },
  {
   "cell_type": "code",
   "execution_count": 13,
   "id": "41bec600-71c8-48db-85fb-b44f53d342eb",
   "metadata": {},
   "outputs": [],
   "source": [
    "dim = corpus_embeddings.shape[1]\n",
    "index = faiss.IndexFlatIP(dim)  # Inner product = cosine similarity\n",
    "index.add(corpus_embeddings)"
   ]
  },
  {
   "cell_type": "code",
   "execution_count": 14,
   "id": "9bfea1a2-735e-4cb7-89eb-756b15ca7922",
   "metadata": {},
   "outputs": [],
   "source": [
    "questions = df_q['Question'].tolist()"
   ]
  },
  {
   "cell_type": "code",
   "execution_count": 15,
   "id": "c1834e41-62a9-47f9-8d11-ce3f63f55dc7",
   "metadata": {
    "scrolled": true
   },
   "outputs": [
    {
     "data": {
      "text/plain": [
       "'What is the main goal of regression in machine learning?'"
      ]
     },
     "execution_count": 15,
     "metadata": {},
     "output_type": "execute_result"
    }
   ],
   "source": [
    "query = questions[0]\n",
    "query  # example question"
   ]
  },
  {
   "cell_type": "code",
   "execution_count": 16,
   "id": "b74984ce-f6b7-4774-9442-b24fcad13379",
   "metadata": {},
   "outputs": [],
   "source": [
    "query_emb = bi_encoder.encode([query], normalize_embeddings=True)"
   ]
  },
  {
   "cell_type": "code",
   "execution_count": 17,
   "id": "ddca8b65-c0ac-4aa4-ac36-337ab7046850",
   "metadata": {},
   "outputs": [
    {
     "data": {
      "text/plain": [
       "array([[  0,   4, 520, 194,   6,   1, 552,   8,  29, 521]])"
      ]
     },
     "execution_count": 17,
     "metadata": {},
     "output_type": "execute_result"
    }
   ],
   "source": [
    "# Top-N candidates\n",
    "N = 10\n",
    "scores, indices = index.search(query_emb, N)\n",
    "indices"
   ]
  },
  {
   "cell_type": "code",
   "execution_count": 18,
   "id": "b47d0eb2-4cd0-4ace-b4aa-7144d3bb1131",
   "metadata": {},
   "outputs": [
    {
     "name": "stdout",
     "output_type": "stream",
     "text": [
      "Retriever candidates indices: [0, 4, 520, 194, 6, 1, 552, 8, 29, 521]\n"
     ]
    }
   ],
   "source": [
    "indices = indices.tolist()[0]\n",
    "\n",
    "print(\"Retriever candidates indices:\", indices)"
   ]
  },
  {
   "cell_type": "code",
   "execution_count": 19,
   "id": "349aab0d-b43c-4e52-b50a-4ff7a28e57cf",
   "metadata": {},
   "outputs": [
    {
     "data": {
      "text/html": [
       "<div>\n",
       "<style scoped>\n",
       "    .dataframe tbody tr th:only-of-type {\n",
       "        vertical-align: middle;\n",
       "    }\n",
       "\n",
       "    .dataframe tbody tr th {\n",
       "        vertical-align: top;\n",
       "    }\n",
       "\n",
       "    .dataframe thead th {\n",
       "        text-align: right;\n",
       "    }\n",
       "</style>\n",
       "<table border=\"1\" class=\"dataframe\">\n",
       "  <thead>\n",
       "    <tr style=\"text-align: right;\">\n",
       "      <th></th>\n",
       "      <th>section</th>\n",
       "      <th>subsection</th>\n",
       "      <th>question</th>\n",
       "      <th>answer</th>\n",
       "      <th>text</th>\n",
       "      <th>hash_answer</th>\n",
       "    </tr>\n",
       "    <tr>\n",
       "      <th>chunk_id</th>\n",
       "      <th></th>\n",
       "      <th></th>\n",
       "      <th></th>\n",
       "      <th></th>\n",
       "      <th></th>\n",
       "      <th></th>\n",
       "    </tr>\n",
       "  </thead>\n",
       "  <tbody>\n",
       "    <tr>\n",
       "      <th>0</th>\n",
       "      <td>Classical models</td>\n",
       "      <td>Linear Regression</td>\n",
       "      <td>Regression _1</td>\n",
       "      <td>Regression in machine learning refers to a sup...</td>\n",
       "      <td>Classical models\\nLinear Regression\\nRegressio...</td>\n",
       "      <td>8f8499b5f59e9390a87f7d2b183cc8bd</td>\n",
       "    </tr>\n",
       "    <tr>\n",
       "      <th>4</th>\n",
       "      <td>Classical models</td>\n",
       "      <td>Linear Regression</td>\n",
       "      <td>What methods for solving linear regression do ...</td>\n",
       "      <td>To solve linear regression, you need to find t...</td>\n",
       "      <td>Classical models\\nLinear Regression\\nWhat meth...</td>\n",
       "      <td>c7811418f1a69095d8bd9c190adac605</td>\n",
       "    </tr>\n",
       "    <tr>\n",
       "      <th>520</th>\n",
       "      <td>Metrics</td>\n",
       "      <td>Regression</td>\n",
       "      <td>Prediction Intervals in Forecasting: Quantile ...</td>\n",
       "      <td>In most real world prediction problems, the un...</td>\n",
       "      <td>Metrics\\nRegression\\nPrediction Intervals in F...</td>\n",
       "      <td>6d753fe83941d13c3078d7de7376f847</td>\n",
       "    </tr>\n",
       "    <tr>\n",
       "      <th>194</th>\n",
       "      <td>Data</td>\n",
       "      <td>Bias</td>\n",
       "      <td>Define and explain the concept of Inductive Bi...</td>\n",
       "      <td>Inductive Bias is a set of assumptions that hu...</td>\n",
       "      <td>Data\\nBias\\nDefine and explain the concept of ...</td>\n",
       "      <td>6fa2cd39c9804937d7c12a547d5a72e3</td>\n",
       "    </tr>\n",
       "    <tr>\n",
       "      <th>6</th>\n",
       "      <td>Classical models</td>\n",
       "      <td>Linear Regression</td>\n",
       "      <td>Ordinary least squares_1</td>\n",
       "      <td>The ordinary least squares (OLS) method can be...</td>\n",
       "      <td>Classical models\\nLinear Regression\\nOrdinary ...</td>\n",
       "      <td>3c9097198e3738bb62c3b32659a2e950</td>\n",
       "    </tr>\n",
       "    <tr>\n",
       "      <th>1</th>\n",
       "      <td>Classical models</td>\n",
       "      <td>Linear Regression</td>\n",
       "      <td>Regression _2</td>\n",
       "      <td>regression.\\n4. Ridge &amp; Lasso Regression\\nRidg...</td>\n",
       "      <td>Classical models\\nLinear Regression\\nRegressio...</td>\n",
       "      <td>a37096af9620af5eca2a696c03a4b397</td>\n",
       "    </tr>\n",
       "    <tr>\n",
       "      <th>552</th>\n",
       "      <td>Probability and Statistics</td>\n",
       "      <td>Probability</td>\n",
       "      <td>What is difference between Probability and Sta...</td>\n",
       "      <td>Probability theory and statistics are often pr...</td>\n",
       "      <td>Probability and Statistics\\nProbability \\nWhat...</td>\n",
       "      <td>9680e186d103d93183f9182b7e0591ec</td>\n",
       "    </tr>\n",
       "    <tr>\n",
       "      <th>8</th>\n",
       "      <td>Classical models</td>\n",
       "      <td>Linear Regression</td>\n",
       "      <td>Bayesian Linear Regression_1</td>\n",
       "      <td>Bayesian linear regression pushes the idea of ...</td>\n",
       "      <td>Classical models\\nLinear Regression\\nBayesian ...</td>\n",
       "      <td>30566a34751c4ec895b4c0e52114251a</td>\n",
       "    </tr>\n",
       "    <tr>\n",
       "      <th>29</th>\n",
       "      <td>Classical models</td>\n",
       "      <td>Support Vector Machine (SVM) Algorithm</td>\n",
       "      <td>Kernel function_1</td>\n",
       "      <td>Kernel functions are generalized dot product f...</td>\n",
       "      <td>Classical models\\nSupport Vector Machine (SVM)...</td>\n",
       "      <td>3605cac27cae713f70c7d7b55ea1229b</td>\n",
       "    </tr>\n",
       "    <tr>\n",
       "      <th>521</th>\n",
       "      <td>Metrics</td>\n",
       "      <td>Regression</td>\n",
       "      <td>Prediction Intervals in Forecasting: Quantile ...</td>\n",
       "      <td>by a factor of 0.25. The model will then try t...</td>\n",
       "      <td>Metrics\\nRegression\\nPrediction Intervals in F...</td>\n",
       "      <td>5506761035fc20aa868205f6b99a217e</td>\n",
       "    </tr>\n",
       "  </tbody>\n",
       "</table>\n",
       "</div>"
      ],
      "text/plain": [
       "                             section                              subsection  \\\n",
       "chunk_id                                                                       \n",
       "0                   Classical models                       Linear Regression   \n",
       "4                   Classical models                       Linear Regression   \n",
       "520                          Metrics                              Regression   \n",
       "194                             Data                                    Bias   \n",
       "6                   Classical models                       Linear Regression   \n",
       "1                   Classical models                       Linear Regression   \n",
       "552       Probability and Statistics                            Probability    \n",
       "8                   Classical models                       Linear Regression   \n",
       "29                  Classical models  Support Vector Machine (SVM) Algorithm   \n",
       "521                          Metrics                              Regression   \n",
       "\n",
       "                                                   question  \\\n",
       "chunk_id                                                      \n",
       "0                                             Regression _1   \n",
       "4         What methods for solving linear regression do ...   \n",
       "520       Prediction Intervals in Forecasting: Quantile ...   \n",
       "194       Define and explain the concept of Inductive Bi...   \n",
       "6                                  Ordinary least squares_1   \n",
       "1                                             Regression _2   \n",
       "552       What is difference between Probability and Sta...   \n",
       "8                              Bayesian Linear Regression_1   \n",
       "29                                        Kernel function_1   \n",
       "521       Prediction Intervals in Forecasting: Quantile ...   \n",
       "\n",
       "                                                     answer  \\\n",
       "chunk_id                                                      \n",
       "0         Regression in machine learning refers to a sup...   \n",
       "4         To solve linear regression, you need to find t...   \n",
       "520       In most real world prediction problems, the un...   \n",
       "194       Inductive Bias is a set of assumptions that hu...   \n",
       "6         The ordinary least squares (OLS) method can be...   \n",
       "1         regression.\\n4. Ridge & Lasso Regression\\nRidg...   \n",
       "552       Probability theory and statistics are often pr...   \n",
       "8         Bayesian linear regression pushes the idea of ...   \n",
       "29        Kernel functions are generalized dot product f...   \n",
       "521       by a factor of 0.25. The model will then try t...   \n",
       "\n",
       "                                                       text  \\\n",
       "chunk_id                                                      \n",
       "0         Classical models\\nLinear Regression\\nRegressio...   \n",
       "4         Classical models\\nLinear Regression\\nWhat meth...   \n",
       "520       Metrics\\nRegression\\nPrediction Intervals in F...   \n",
       "194       Data\\nBias\\nDefine and explain the concept of ...   \n",
       "6         Classical models\\nLinear Regression\\nOrdinary ...   \n",
       "1         Classical models\\nLinear Regression\\nRegressio...   \n",
       "552       Probability and Statistics\\nProbability \\nWhat...   \n",
       "8         Classical models\\nLinear Regression\\nBayesian ...   \n",
       "29        Classical models\\nSupport Vector Machine (SVM)...   \n",
       "521       Metrics\\nRegression\\nPrediction Intervals in F...   \n",
       "\n",
       "                               hash_answer  \n",
       "chunk_id                                    \n",
       "0         8f8499b5f59e9390a87f7d2b183cc8bd  \n",
       "4         c7811418f1a69095d8bd9c190adac605  \n",
       "520       6d753fe83941d13c3078d7de7376f847  \n",
       "194       6fa2cd39c9804937d7c12a547d5a72e3  \n",
       "6         3c9097198e3738bb62c3b32659a2e950  \n",
       "1         a37096af9620af5eca2a696c03a4b397  \n",
       "552       9680e186d103d93183f9182b7e0591ec  \n",
       "8         30566a34751c4ec895b4c0e52114251a  \n",
       "29        3605cac27cae713f70c7d7b55ea1229b  \n",
       "521       5506761035fc20aa868205f6b99a217e  "
      ]
     },
     "execution_count": 19,
     "metadata": {},
     "output_type": "execute_result"
    }
   ],
   "source": [
    "df_db.iloc[indices]"
   ]
  },
  {
   "cell_type": "code",
   "execution_count": 20,
   "id": "4f5c015f-16df-44af-ac98-6e6e2f82de38",
   "metadata": {},
   "outputs": [],
   "source": [
    "candidates = df_db.iloc[indices]['text']"
   ]
  },
  {
   "cell_type": "code",
   "execution_count": 21,
   "id": "5a09f77c-ca83-443e-87d4-b51a06dc56ce",
   "metadata": {
    "scrolled": true
   },
   "outputs": [],
   "source": [
    "# Reranker:\n",
    "reranker = CrossEncoder(reranker_model_name, device=device)"
   ]
  },
  {
   "cell_type": "code",
   "execution_count": 22,
   "id": "e77bcab4-adbd-4542-9267-63292dd9e8d6",
   "metadata": {},
   "outputs": [],
   "source": [
    "pairs = [(query, doc) for doc in candidates]\n",
    "rerank_scores = reranker.predict(pairs)"
   ]
  },
  {
   "cell_type": "code",
   "execution_count": 23,
   "id": "f28caccd-b686-4a8f-987d-b9e239e5d312",
   "metadata": {},
   "outputs": [
    {
     "data": {
      "text/plain": [
       "array([ 5.5456843, -6.027544 , -2.5661113, -5.963826 , -6.138963 ,\n",
       "       -5.4645014, -2.6347544, -6.973322 , -7.245926 , -8.837734 ],\n",
       "      dtype=float32)"
      ]
     },
     "execution_count": 23,
     "metadata": {},
     "output_type": "execute_result"
    }
   ],
   "source": [
    "rerank_scores"
   ]
  },
  {
   "cell_type": "code",
   "execution_count": 24,
   "id": "eaa81722-896e-4647-9fc3-3f982d39e866",
   "metadata": {},
   "outputs": [],
   "source": [
    "# Sort by relevance:\n",
    "reranked = [doc for _, doc in sorted(zip(rerank_scores, candidates), reverse=True)]"
   ]
  },
  {
   "cell_type": "code",
   "execution_count": 25,
   "id": "5bbc8ddc-023c-4211-978e-d33274eee9d8",
   "metadata": {
    "scrolled": true
   },
   "outputs": [
    {
     "name": "stdout",
     "output_type": "stream",
     "text": [
      "Classical models\n",
      "Linear Regression\n",
      "Regression _1\n",
      "Regression in machine learning refers to a supervised learning technique where the goal is to predict a continuous numerical value based on one or more independent features. It finds relationships between variables so that predictions can be made. we have two types of variables present in regression:\n",
      "Dependent Variable (Target): The variable we are trying to predict e.g house price.\n",
      "Independent Variables (Features): The input variables that influence the prediction e.g locality, number of rooms.\n",
      "Regression analysis problem works with if output variable is a real or continuous value such as “salary” or “weight”. Many different regression models can be used but the simplest model in them is linear regression.\n",
      "Types of Regression\n",
      "Regression can be classified into different types based on the number of predictor variables and the nature of the relationship between variables:\n",
      "1. Simple Linear Regression\n",
      "Linear regression is one of the simplest and most widely used statistical models. This assumes that there is a linear relationship between the independent and dependent variables. This means that the change in the dependent variable is proportional to the change in the independent variables. For example predicting the price of a house based on its size.\n",
      "2. Multiple Linear Regression\n",
      "Multiple linear regression extends simple linear regression by using multiple independent variables to predict target variable. For example predicting the price of a house based on multiple features such as size, location, number of rooms, etc.\n",
      "3. Polynomial Regression\n",
      "Polynomial regression is used to model with non-linear relationships between the dependent variable and the independent variables. It adds polynomial terms to the linear regression model to capture more complex relationships. For example when we want to predict a non-linear trend like population growth over time we use polynomial regression.\n",
      "4. Ridge & Lasso Regression\n",
      "Ridge & lasso regression are regularized versions of linear\n"
     ]
    }
   ],
   "source": [
    "print(reranked[0])"
   ]
  },
  {
   "cell_type": "markdown",
   "id": "d21116d4-3a48-4a36-b72f-139a156263d6",
   "metadata": {},
   "source": [
    "Now let's compute Recall and MRR metric:"
   ]
  },
  {
   "cell_type": "code",
   "execution_count": 26,
   "id": "6ee4f891-80ff-415b-a0b0-af0827271eab",
   "metadata": {},
   "outputs": [],
   "source": [
    "def get_recall_at_k(ids, gt):\n",
    "    return float((ids == gt[:, np.newaxis]).any(axis=1).mean())"
   ]
  },
  {
   "cell_type": "code",
   "execution_count": 27,
   "id": "76faa2ed-0503-4c20-a398-524fc4e96ce7",
   "metadata": {},
   "outputs": [],
   "source": [
    "def get_mrr(ids, gt):\n",
    "    matches = ids == gt[:, np.newaxis]\n",
    "    ranks = np.argmax(matches, axis=1) + 1\n",
    "    reciprocal_ranks = 1 / ranks\n",
    "    reciprocal_ranks[~matches.any(axis=1)] = 0\n",
    "    return float(np.mean(reciprocal_ranks))"
   ]
  },
  {
   "cell_type": "code",
   "execution_count": 28,
   "id": "a2a92545-df70-4b0c-8add-03a736017787",
   "metadata": {},
   "outputs": [],
   "source": [
    "N = 20"
   ]
  },
  {
   "cell_type": "code",
   "execution_count": 29,
   "id": "873ef719-a0f1-477c-9435-03ca5c1435fc",
   "metadata": {},
   "outputs": [
    {
     "name": "stderr",
     "output_type": "stream",
     "text": [
      "Batches: 100%|██████████| 101/101 [00:00<00:00, 159.94it/s]\n"
     ]
    }
   ],
   "source": [
    "q_embeddings = bi_encoder.encode(questions, normalize_embeddings=True, show_progress_bar=True)"
   ]
  },
  {
   "cell_type": "markdown",
   "id": "d53e17d8-959e-47ac-928b-f6c761c5c583",
   "metadata": {},
   "source": [
    "We have a ground truth - numbers of relevant chunks"
   ]
  },
  {
   "cell_type": "code",
   "execution_count": 30,
   "id": "e56b37ee-66dd-4e36-9e8b-189303de9999",
   "metadata": {},
   "outputs": [],
   "source": [
    "gt = df_q[\"chunk_id\"].to_numpy()"
   ]
  },
  {
   "cell_type": "code",
   "execution_count": 32,
   "id": "d91451f5-66a5-4449-89d4-9d2ff34f408d",
   "metadata": {},
   "outputs": [],
   "source": [
    "def search(faiss_index, queries, top_N, batch_size=128):\n",
    "    # finding closest to the query chunks in the index\n",
    "    scores_list = []\n",
    "    ids_list = []\n",
    "    for i in tqdm.tqdm(range(0, len(q_embeddings), batch_size)):\n",
    "        scores, ids = faiss_index.search(q_embeddings[i: i + batch_size], top_N)\n",
    "        scores_list.append(scores)\n",
    "        ids_list.append(ids)\n",
    "    return np.concatenate(scores_list), np.concatenate(ids_list)"
   ]
  },
  {
   "cell_type": "code",
   "execution_count": 33,
   "id": "5a07a8a3-468a-4561-b0f0-b3f16f77d413",
   "metadata": {},
   "outputs": [
    {
     "name": "stderr",
     "output_type": "stream",
     "text": [
      "100%|██████████| 26/26 [00:00<00:00, 954.83it/s]\n"
     ]
    }
   ],
   "source": [
    "scores, ids = search(index, q_embeddings, top_N=N)"
   ]
  },
  {
   "cell_type": "code",
   "execution_count": 34,
   "id": "cf5ada89-c6ad-42f8-8539-e781886141b0",
   "metadata": {},
   "outputs": [
    {
     "data": {
      "text/plain": [
       "0.9748759305210918"
      ]
     },
     "execution_count": 34,
     "metadata": {},
     "output_type": "execute_result"
    }
   ],
   "source": [
    "recall_at_k = get_recall_at_k(ids, gt)\n",
    "recall_at_k"
   ]
  },
  {
   "cell_type": "code",
   "execution_count": 35,
   "id": "de608df2-3ea9-4455-b46a-e768cb50619e",
   "metadata": {},
   "outputs": [
    {
     "data": {
      "text/plain": [
       "0.7934068797628261"
      ]
     },
     "execution_count": 35,
     "metadata": {},
     "output_type": "execute_result"
    }
   ],
   "source": [
    "mrr = get_mrr(ids, gt)\n",
    "mrr"
   ]
  },
  {
   "cell_type": "markdown",
   "id": "b6313630-43d9-460f-80d9-4cd5e0e0179a",
   "metadata": {},
   "source": [
    "MRR metric depends on the order of elements. Let's see if reranking can improve it"
   ]
  },
  {
   "cell_type": "code",
   "execution_count": 86,
   "id": "95ac4dff-1746-4f7c-9123-a270fb35280d",
   "metadata": {},
   "outputs": [],
   "source": [
    "def get_reranked_ids(reranker, query, texts):\n",
    "    pairs = [(query, doc) for doc in texts]\n",
    "    rerank_scores = reranker.predict(pairs)\n",
    "    return rerank_scores"
   ]
  },
  {
   "cell_type": "code",
   "execution_count": 97,
   "id": "752775e0-c520-448d-8105-8ac7d88e2a81",
   "metadata": {},
   "outputs": [],
   "source": [
    "def rerank_candidates(queries, ids):\n",
    "    reranked = []\n",
    "    for i, query in tqdm.tqdm( enumerate(queries)):\n",
    "        candidate_ids = ids[i]\n",
    "        candidate_texts = df_db.iloc[candidate_ids]['text'].tolist()\n",
    "        rerank_scores = get_reranked_ids(reranker, query, candidate_texts)\n",
    "        reranked.append([int(doc) for _, doc in sorted(zip(rerank_scores, candidate_ids), reverse=True)])\n",
    "    return reranked"
   ]
  },
  {
   "cell_type": "code",
   "execution_count": 101,
   "id": "0a978a77-6dd4-4ccf-9557-1b3baf383870",
   "metadata": {},
   "outputs": [
    {
     "name": "stderr",
     "output_type": "stream",
     "text": [
      "3224it [03:45, 14.32it/s]\n"
     ]
    }
   ],
   "source": [
    "reranked = rerank_candidates(questions, ids)"
   ]
  },
  {
   "cell_type": "code",
   "execution_count": 105,
   "id": "b369d717-13d1-472f-98b5-eb1efd45bcea",
   "metadata": {},
   "outputs": [
    {
     "data": {
      "text/plain": [
       "0.904644287032807"
      ]
     },
     "execution_count": 105,
     "metadata": {},
     "output_type": "execute_result"
    }
   ],
   "source": [
    "mrr_reranked = get_mrr(reranked, gt)\n",
    "mrr_reranked"
   ]
  },
  {
   "cell_type": "code",
   "execution_count": null,
   "id": "9267bfb0-9caa-45b1-8712-9f1014034cfd",
   "metadata": {},
   "outputs": [],
   "source": [
    "It shows that reranking improves MRR; "
   ]
  }
 ],
 "metadata": {
  "kernelspec": {
   "display_name": "Python [conda env:ml-interview-assistant-env]",
   "language": "python",
   "name": "conda-env-ml-interview-assistant-env-py"
  },
  "language_info": {
   "codemirror_mode": {
    "name": "ipython",
    "version": 3
   },
   "file_extension": ".py",
   "mimetype": "text/x-python",
   "name": "python",
   "nbconvert_exporter": "python",
   "pygments_lexer": "ipython3",
   "version": "3.12.3"
  }
 },
 "nbformat": 4,
 "nbformat_minor": 5
}
