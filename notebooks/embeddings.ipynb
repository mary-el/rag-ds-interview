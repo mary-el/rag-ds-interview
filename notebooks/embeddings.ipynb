{
 "cells": [
  {
   "cell_type": "markdown",
   "id": "5a2d2fd3-c8d1-4d50-baf1-9df397f156c9",
   "metadata": {},
   "source": [
    "# Embedding comparison\n",
    "\n",
    "We'll need text embeddings to search for the relevant documents in the knowledge base. We've generated questions using text chunks in `generate_data.ipynb`. In this notebook I used them to calculate metrics for different embedding models and compare them"
   ]
  },
  {
   "cell_type": "code",
   "execution_count": 1,
   "id": "a9ef7a52-04f6-47cd-939b-502e353eb925",
   "metadata": {},
   "outputs": [
    {
     "name": "stderr",
     "output_type": "stream",
     "text": [
      "C:\\Users\\user\\anaconda3\\envs\\ml-interview-assistant-env\\Lib\\site-packages\\tqdm\\auto.py:21: TqdmWarning: IProgress not found. Please update jupyter and ipywidgets. See https://ipywidgets.readthedocs.io/en/stable/user_install.html\n",
      "  from .autonotebook import tqdm as notebook_tqdm\n"
     ]
    }
   ],
   "source": [
    "import numpy as np\n",
    "import pandas as pd\n",
    "import torch\n",
    "import tqdm\n",
    "from transformers import AutoModel, AutoTokenizer, T5EncoderModel\n",
    "import time\n",
    "import torch.nn.functional as F\n",
    "import faiss"
   ]
  },
  {
   "cell_type": "code",
   "execution_count": 2,
   "id": "47f16f5d-9232-4120-8338-7f2eb093b3bd",
   "metadata": {},
   "outputs": [],
   "source": [
    "df_db = pd.read_csv(\"df.csv\", index_col=0)  # loading knowledge base df"
   ]
  },
  {
   "cell_type": "code",
   "execution_count": 3,
   "id": "9ae0b96b-ee69-432d-8528-49516bc3afaf",
   "metadata": {},
   "outputs": [
    {
     "data": {
      "text/html": [
       "<div>\n",
       "<style scoped>\n",
       "    .dataframe tbody tr th:only-of-type {\n",
       "        vertical-align: middle;\n",
       "    }\n",
       "\n",
       "    .dataframe tbody tr th {\n",
       "        vertical-align: top;\n",
       "    }\n",
       "\n",
       "    .dataframe thead th {\n",
       "        text-align: right;\n",
       "    }\n",
       "</style>\n",
       "<table border=\"1\" class=\"dataframe\">\n",
       "  <thead>\n",
       "    <tr style=\"text-align: right;\">\n",
       "      <th></th>\n",
       "      <th>section</th>\n",
       "      <th>subsection</th>\n",
       "      <th>question</th>\n",
       "      <th>answer</th>\n",
       "      <th>text</th>\n",
       "      <th>hash_answer</th>\n",
       "    </tr>\n",
       "  </thead>\n",
       "  <tbody>\n",
       "    <tr>\n",
       "      <th>0</th>\n",
       "      <td>Classical models</td>\n",
       "      <td>Linear Regression</td>\n",
       "      <td>Regression _1</td>\n",
       "      <td>Regression in machine learning refers to a sup...</td>\n",
       "      <td>Classical models\\nLinear Regression\\nRegressio...</td>\n",
       "      <td>8f8499b5f59e9390a87f7d2b183cc8bd</td>\n",
       "    </tr>\n",
       "    <tr>\n",
       "      <th>1</th>\n",
       "      <td>Classical models</td>\n",
       "      <td>Linear Regression</td>\n",
       "      <td>Regression _2</td>\n",
       "      <td>regression.\\n4. Ridge &amp; Lasso Regression\\nRidg...</td>\n",
       "      <td>Classical models\\nLinear Regression\\nRegressio...</td>\n",
       "      <td>a37096af9620af5eca2a696c03a4b397</td>\n",
       "    </tr>\n",
       "    <tr>\n",
       "      <th>2</th>\n",
       "      <td>Classical models</td>\n",
       "      <td>Linear Regression</td>\n",
       "      <td>What Is a Linear Regression Model? List Its Dr...</td>\n",
       "      <td>A linear regression model is a model in which ...</td>\n",
       "      <td>Classical models\\nLinear Regression\\nWhat Is a...</td>\n",
       "      <td>376cf3108393d26d6d09952af3a4f1b8</td>\n",
       "    </tr>\n",
       "    <tr>\n",
       "      <th>3</th>\n",
       "      <td>Classical models</td>\n",
       "      <td>Linear Regression</td>\n",
       "      <td>What are various assumptions used in linear re...</td>\n",
       "      <td>Linear regression is done under the following ...</td>\n",
       "      <td>Classical models\\nLinear Regression\\nWhat are ...</td>\n",
       "      <td>cc89d249384cd42bccf680fb513ae05c</td>\n",
       "    </tr>\n",
       "    <tr>\n",
       "      <th>4</th>\n",
       "      <td>Classical models</td>\n",
       "      <td>Linear Regression</td>\n",
       "      <td>What methods for solving linear regression do ...</td>\n",
       "      <td>To solve linear regression, you need to find t...</td>\n",
       "      <td>Classical models\\nLinear Regression\\nWhat meth...</td>\n",
       "      <td>c7811418f1a69095d8bd9c190adac605</td>\n",
       "    </tr>\n",
       "    <tr>\n",
       "      <th>...</th>\n",
       "      <td>...</td>\n",
       "      <td>...</td>\n",
       "      <td>...</td>\n",
       "      <td>...</td>\n",
       "      <td>...</td>\n",
       "      <td>...</td>\n",
       "    </tr>\n",
       "    <tr>\n",
       "      <th>94</th>\n",
       "      <td>Probability and Statistics</td>\n",
       "      <td>Miscellaneous</td>\n",
       "      <td>How do you identify if a coin is biased?_1</td>\n",
       "      <td>We collect data by flipping the coin 200 times...</td>\n",
       "      <td>Probability and Statistics\\nMiscellaneous\\nHow...</td>\n",
       "      <td>da4450cba0a58f49d04514b63d6c662d</td>\n",
       "    </tr>\n",
       "    <tr>\n",
       "      <th>95</th>\n",
       "      <td>Probability and Statistics</td>\n",
       "      <td>Miscellaneous</td>\n",
       "      <td>How do you identify if a coin is biased?_2</td>\n",
       "      <td>observed value arising by chance is only 1 in ...</td>\n",
       "      <td>Probability and Statistics\\nMiscellaneous\\nHow...</td>\n",
       "      <td>7227d237c94a82f26a43bcbcf9214ffb</td>\n",
       "    </tr>\n",
       "    <tr>\n",
       "      <th>96</th>\n",
       "      <td>Probability and Statistics</td>\n",
       "      <td>Miscellaneous</td>\n",
       "      <td>What does Design of Experiments mean?_1</td>\n",
       "      <td>Design of experiments also known as DOE, it is...</td>\n",
       "      <td>Probability and Statistics\\nMiscellaneous\\nWha...</td>\n",
       "      <td>1b68b299f67ada223609edc3dc1a7bc1</td>\n",
       "    </tr>\n",
       "    <tr>\n",
       "      <th>97</th>\n",
       "      <td>Probability and Statistics</td>\n",
       "      <td>Miscellaneous</td>\n",
       "      <td>Given uniform distribution X and Y (mean 0, SD...</td>\n",
       "      <td>0.5</td>\n",
       "      <td>Probability and Statistics\\nMiscellaneous\\nGiv...</td>\n",
       "      <td>d310cb367d993fb6fb584b198a2fd72c</td>\n",
       "    </tr>\n",
       "    <tr>\n",
       "      <th>98</th>\n",
       "      <td>Probability and Statistics</td>\n",
       "      <td>Miscellaneous</td>\n",
       "      <td>Entropy and Cross-Entropy _1</td>\n",
       "      <td>1. Entropy (Shannon Entropy)\\nWhat it measures...</td>\n",
       "      <td>Probability and Statistics\\nMiscellaneous\\nEnt...</td>\n",
       "      <td>c5e1e36b67c06ceaa8b0a4dd59b98788</td>\n",
       "    </tr>\n",
       "  </tbody>\n",
       "</table>\n",
       "<p>645 rows × 6 columns</p>\n",
       "</div>"
      ],
      "text/plain": [
       "                       section         subsection  \\\n",
       "0             Classical models  Linear Regression   \n",
       "1             Classical models  Linear Regression   \n",
       "2             Classical models  Linear Regression   \n",
       "3             Classical models  Linear Regression   \n",
       "4             Classical models  Linear Regression   \n",
       "..                         ...                ...   \n",
       "94  Probability and Statistics      Miscellaneous   \n",
       "95  Probability and Statistics      Miscellaneous   \n",
       "96  Probability and Statistics      Miscellaneous   \n",
       "97  Probability and Statistics      Miscellaneous   \n",
       "98  Probability and Statistics      Miscellaneous   \n",
       "\n",
       "                                             question  \\\n",
       "0                                       Regression _1   \n",
       "1                                       Regression _2   \n",
       "2   What Is a Linear Regression Model? List Its Dr...   \n",
       "3   What are various assumptions used in linear re...   \n",
       "4   What methods for solving linear regression do ...   \n",
       "..                                                ...   \n",
       "94         How do you identify if a coin is biased?_1   \n",
       "95         How do you identify if a coin is biased?_2   \n",
       "96            What does Design of Experiments mean?_1   \n",
       "97  Given uniform distribution X and Y (mean 0, SD...   \n",
       "98                       Entropy and Cross-Entropy _1   \n",
       "\n",
       "                                               answer  \\\n",
       "0   Regression in machine learning refers to a sup...   \n",
       "1   regression.\\n4. Ridge & Lasso Regression\\nRidg...   \n",
       "2   A linear regression model is a model in which ...   \n",
       "3   Linear regression is done under the following ...   \n",
       "4   To solve linear regression, you need to find t...   \n",
       "..                                                ...   \n",
       "94  We collect data by flipping the coin 200 times...   \n",
       "95  observed value arising by chance is only 1 in ...   \n",
       "96  Design of experiments also known as DOE, it is...   \n",
       "97                                                0.5   \n",
       "98  1. Entropy (Shannon Entropy)\\nWhat it measures...   \n",
       "\n",
       "                                                 text  \\\n",
       "0   Classical models\\nLinear Regression\\nRegressio...   \n",
       "1   Classical models\\nLinear Regression\\nRegressio...   \n",
       "2   Classical models\\nLinear Regression\\nWhat Is a...   \n",
       "3   Classical models\\nLinear Regression\\nWhat are ...   \n",
       "4   Classical models\\nLinear Regression\\nWhat meth...   \n",
       "..                                                ...   \n",
       "94  Probability and Statistics\\nMiscellaneous\\nHow...   \n",
       "95  Probability and Statistics\\nMiscellaneous\\nHow...   \n",
       "96  Probability and Statistics\\nMiscellaneous\\nWha...   \n",
       "97  Probability and Statistics\\nMiscellaneous\\nGiv...   \n",
       "98  Probability and Statistics\\nMiscellaneous\\nEnt...   \n",
       "\n",
       "                         hash_answer  \n",
       "0   8f8499b5f59e9390a87f7d2b183cc8bd  \n",
       "1   a37096af9620af5eca2a696c03a4b397  \n",
       "2   376cf3108393d26d6d09952af3a4f1b8  \n",
       "3   cc89d249384cd42bccf680fb513ae05c  \n",
       "4   c7811418f1a69095d8bd9c190adac605  \n",
       "..                               ...  \n",
       "94  da4450cba0a58f49d04514b63d6c662d  \n",
       "95  7227d237c94a82f26a43bcbcf9214ffb  \n",
       "96  1b68b299f67ada223609edc3dc1a7bc1  \n",
       "97  d310cb367d993fb6fb584b198a2fd72c  \n",
       "98  c5e1e36b67c06ceaa8b0a4dd59b98788  \n",
       "\n",
       "[645 rows x 6 columns]"
      ]
     },
     "execution_count": 3,
     "metadata": {},
     "output_type": "execute_result"
    }
   ],
   "source": [
    "df_db"
   ]
  },
  {
   "cell_type": "code",
   "execution_count": 4,
   "id": "a99a30ba-5176-458f-8cf3-c9612665f943",
   "metadata": {},
   "outputs": [],
   "source": [
    "df_qa = pd.read_csv(\"df_qa.csv\", index_col=0)  # loading generated questions"
   ]
  },
  {
   "cell_type": "code",
   "execution_count": 5,
   "id": "d99cf3d8-7a52-4507-92a7-4136f744abe4",
   "metadata": {},
   "outputs": [],
   "source": [
    "df_qa = df_qa[:-500].dropna()"
   ]
  },
  {
   "cell_type": "code",
   "execution_count": 6,
   "id": "53bbb3e3-c713-4cc9-9298-d3ecb0ed62a0",
   "metadata": {},
   "outputs": [
    {
     "data": {
      "text/html": [
       "<div>\n",
       "<style scoped>\n",
       "    .dataframe tbody tr th:only-of-type {\n",
       "        vertical-align: middle;\n",
       "    }\n",
       "\n",
       "    .dataframe tbody tr th {\n",
       "        vertical-align: top;\n",
       "    }\n",
       "\n",
       "    .dataframe thead th {\n",
       "        text-align: right;\n",
       "    }\n",
       "</style>\n",
       "<table border=\"1\" class=\"dataframe\">\n",
       "  <thead>\n",
       "    <tr style=\"text-align: right;\">\n",
       "      <th></th>\n",
       "      <th>chunk_id</th>\n",
       "      <th>text</th>\n",
       "    </tr>\n",
       "  </thead>\n",
       "  <tbody>\n",
       "    <tr>\n",
       "      <th>0</th>\n",
       "      <td>0</td>\n",
       "      <td>Classical models\\nLinear Regression\\nRegressio...</td>\n",
       "    </tr>\n",
       "    <tr>\n",
       "      <th>1</th>\n",
       "      <td>1</td>\n",
       "      <td>Classical models\\nLinear Regression\\nRegressio...</td>\n",
       "    </tr>\n",
       "    <tr>\n",
       "      <th>2</th>\n",
       "      <td>2</td>\n",
       "      <td>Classical models\\nLinear Regression\\nWhat Is a...</td>\n",
       "    </tr>\n",
       "    <tr>\n",
       "      <th>3</th>\n",
       "      <td>3</td>\n",
       "      <td>Classical models\\nLinear Regression\\nWhat are ...</td>\n",
       "    </tr>\n",
       "    <tr>\n",
       "      <th>4</th>\n",
       "      <td>4</td>\n",
       "      <td>Classical models\\nLinear Regression\\nWhat meth...</td>\n",
       "    </tr>\n",
       "    <tr>\n",
       "      <th>...</th>\n",
       "      <td>...</td>\n",
       "      <td>...</td>\n",
       "    </tr>\n",
       "    <tr>\n",
       "      <th>640</th>\n",
       "      <td>94</td>\n",
       "      <td>Probability and Statistics\\nMiscellaneous\\nHow...</td>\n",
       "    </tr>\n",
       "    <tr>\n",
       "      <th>641</th>\n",
       "      <td>95</td>\n",
       "      <td>Probability and Statistics\\nMiscellaneous\\nHow...</td>\n",
       "    </tr>\n",
       "    <tr>\n",
       "      <th>642</th>\n",
       "      <td>96</td>\n",
       "      <td>Probability and Statistics\\nMiscellaneous\\nWha...</td>\n",
       "    </tr>\n",
       "    <tr>\n",
       "      <th>643</th>\n",
       "      <td>97</td>\n",
       "      <td>Probability and Statistics\\nMiscellaneous\\nGiv...</td>\n",
       "    </tr>\n",
       "    <tr>\n",
       "      <th>644</th>\n",
       "      <td>98</td>\n",
       "      <td>Probability and Statistics\\nMiscellaneous\\nEnt...</td>\n",
       "    </tr>\n",
       "  </tbody>\n",
       "</table>\n",
       "<p>645 rows × 2 columns</p>\n",
       "</div>"
      ],
      "text/plain": [
       "     chunk_id                                               text\n",
       "0           0  Classical models\\nLinear Regression\\nRegressio...\n",
       "1           1  Classical models\\nLinear Regression\\nRegressio...\n",
       "2           2  Classical models\\nLinear Regression\\nWhat Is a...\n",
       "3           3  Classical models\\nLinear Regression\\nWhat are ...\n",
       "4           4  Classical models\\nLinear Regression\\nWhat meth...\n",
       "..        ...                                                ...\n",
       "640        94  Probability and Statistics\\nMiscellaneous\\nHow...\n",
       "641        95  Probability and Statistics\\nMiscellaneous\\nHow...\n",
       "642        96  Probability and Statistics\\nMiscellaneous\\nWha...\n",
       "643        97  Probability and Statistics\\nMiscellaneous\\nGiv...\n",
       "644        98  Probability and Statistics\\nMiscellaneous\\nEnt...\n",
       "\n",
       "[645 rows x 2 columns]"
      ]
     },
     "execution_count": 6,
     "metadata": {},
     "output_type": "execute_result"
    }
   ],
   "source": [
    "df_chunks = df_db.reset_index(names=['chunk_id'])[['chunk_id', 'text']]\n",
    "df_chunks"
   ]
  },
  {
   "cell_type": "markdown",
   "id": "7a2e5a7d-07c6-4779-af8c-89fc787fddea",
   "metadata": {},
   "source": [
    "Now we can merge them to get question and corresponding text chunks ids"
   ]
  },
  {
   "cell_type": "code",
   "execution_count": 7,
   "id": "837d4090-174d-420d-b6b9-fbb631d622a7",
   "metadata": {},
   "outputs": [
    {
     "data": {
      "text/html": [
       "<div>\n",
       "<style scoped>\n",
       "    .dataframe tbody tr th:only-of-type {\n",
       "        vertical-align: middle;\n",
       "    }\n",
       "\n",
       "    .dataframe tbody tr th {\n",
       "        vertical-align: top;\n",
       "    }\n",
       "\n",
       "    .dataframe thead th {\n",
       "        text-align: right;\n",
       "    }\n",
       "</style>\n",
       "<table border=\"1\" class=\"dataframe\">\n",
       "  <thead>\n",
       "    <tr style=\"text-align: right;\">\n",
       "      <th></th>\n",
       "      <th>query_id</th>\n",
       "      <th>Question</th>\n",
       "      <th>chunk_id</th>\n",
       "    </tr>\n",
       "  </thead>\n",
       "  <tbody>\n",
       "    <tr>\n",
       "      <th>0</th>\n",
       "      <td>0</td>\n",
       "      <td>What is the main goal of regression in machine...</td>\n",
       "      <td>0</td>\n",
       "    </tr>\n",
       "    <tr>\n",
       "      <th>1</th>\n",
       "      <td>1</td>\n",
       "      <td>What are the two types of variables present in...</td>\n",
       "      <td>0</td>\n",
       "    </tr>\n",
       "    <tr>\n",
       "      <th>2</th>\n",
       "      <td>2</td>\n",
       "      <td>What type of regression is used when there is ...</td>\n",
       "      <td>0</td>\n",
       "    </tr>\n",
       "    <tr>\n",
       "      <th>3</th>\n",
       "      <td>3</td>\n",
       "      <td>What type of regression is used to model non-l...</td>\n",
       "      <td>0</td>\n",
       "    </tr>\n",
       "    <tr>\n",
       "      <th>4</th>\n",
       "      <td>4</td>\n",
       "      <td>What are the extensions of linear regression t...</td>\n",
       "      <td>0</td>\n",
       "    </tr>\n",
       "    <tr>\n",
       "      <th>...</th>\n",
       "      <td>...</td>\n",
       "      <td>...</td>\n",
       "      <td>...</td>\n",
       "    </tr>\n",
       "    <tr>\n",
       "      <th>3219</th>\n",
       "      <td>3219</td>\n",
       "      <td>What does entropy measure in a probability dis...</td>\n",
       "      <td>98</td>\n",
       "    </tr>\n",
       "    <tr>\n",
       "      <th>3220</th>\n",
       "      <td>3220</td>\n",
       "      <td>What is the relationship between entropy and p...</td>\n",
       "      <td>98</td>\n",
       "    </tr>\n",
       "    <tr>\n",
       "      <th>3221</th>\n",
       "      <td>3221</td>\n",
       "      <td>What is the formula for calculating entropy in...</td>\n",
       "      <td>98</td>\n",
       "    </tr>\n",
       "    <tr>\n",
       "      <th>3222</th>\n",
       "      <td>3222</td>\n",
       "      <td>What does cross-entropy measure?</td>\n",
       "      <td>98</td>\n",
       "    </tr>\n",
       "    <tr>\n",
       "      <th>3223</th>\n",
       "      <td>3223</td>\n",
       "      <td>In what context is cross-entropy commonly used?</td>\n",
       "      <td>98</td>\n",
       "    </tr>\n",
       "  </tbody>\n",
       "</table>\n",
       "<p>3224 rows × 3 columns</p>\n",
       "</div>"
      ],
      "text/plain": [
       "      query_id                                           Question  chunk_id\n",
       "0            0  What is the main goal of regression in machine...         0\n",
       "1            1  What are the two types of variables present in...         0\n",
       "2            2  What type of regression is used when there is ...         0\n",
       "3            3  What type of regression is used to model non-l...         0\n",
       "4            4  What are the extensions of linear regression t...         0\n",
       "...        ...                                                ...       ...\n",
       "3219      3219  What does entropy measure in a probability dis...        98\n",
       "3220      3220  What is the relationship between entropy and p...        98\n",
       "3221      3221  What is the formula for calculating entropy in...        98\n",
       "3222      3222                   What does cross-entropy measure?        98\n",
       "3223      3223    In what context is cross-entropy commonly used?        98\n",
       "\n",
       "[3224 rows x 3 columns]"
      ]
     },
     "execution_count": 7,
     "metadata": {},
     "output_type": "execute_result"
    }
   ],
   "source": [
    "df_q = pd.merge(df_qa, df_chunks, left_on='Context', right_on='text').reset_index(names=[\"query_id\"])[['query_id', 'Question', 'chunk_id']]\n",
    "df_q"
   ]
  },
  {
   "cell_type": "code",
   "execution_count": 15,
   "id": "16344a2b-241b-4d1f-b2b6-ff7a4281046f",
   "metadata": {},
   "outputs": [],
   "source": [
    "device = torch.device(\"cuda\") if torch.cuda.is_available() else torch.device(\"cpu\")"
   ]
  },
  {
   "cell_type": "code",
   "execution_count": 39,
   "id": "fde934ac-1eb4-4eee-8800-139b84c84adf",
   "metadata": {},
   "outputs": [],
   "source": [
    "model_name = \"sentence-transformers/all-MiniLM-L6-v2\""
   ]
  },
  {
   "cell_type": "code",
   "execution_count": 41,
   "id": "3dfd25bc-7be4-4e44-9cda-80dc7ffb3e0a",
   "metadata": {},
   "outputs": [],
   "source": [
    "tokenizer = AutoTokenizer.from_pretrained(model_name)"
   ]
  },
  {
   "cell_type": "code",
   "execution_count": 43,
   "id": "bc2f7a91-f887-4e79-8d81-ab7eac7b8fe7",
   "metadata": {},
   "outputs": [],
   "source": [
    "model = AutoModel.from_pretrained(model_name).to(device)"
   ]
  },
  {
   "cell_type": "code",
   "execution_count": 45,
   "id": "c43f0fa4-81fe-482c-91ee-c8d54d72de2b",
   "metadata": {},
   "outputs": [
    {
     "data": {
      "text/plain": [
       "22713216"
      ]
     },
     "execution_count": 45,
     "metadata": {},
     "output_type": "execute_result"
    }
   ],
   "source": [
    "model.num_parameters()"
   ]
  },
  {
   "cell_type": "code",
   "execution_count": 17,
   "id": "6ac01586-c294-46bc-935a-4bf79a17e4f0",
   "metadata": {},
   "outputs": [],
   "source": [
    "def pool(hidden_state, mask, pooling_method=\"cls\"):\n",
    "    if pooling_method == \"mean\":\n",
    "        s = torch.sum(hidden_state * mask.unsqueeze(-1).float(), dim=1)\n",
    "        d = mask.sum(axis=1, keepdim=True).float()\n",
    "        return s / d\n",
    "    elif pooling_method == \"cls\":\n",
    "        return hidden_state[:, 0]"
   ]
  },
  {
   "cell_type": "code",
   "execution_count": 19,
   "id": "2a136b23-42f6-4810-b33e-6304a8f8ef78",
   "metadata": {},
   "outputs": [],
   "source": [
    "def get_embeddings(model, tokenizer, texts, batch_size=8):\n",
    "    embeddings = []\n",
    "    for i in tqdm.tqdm(range(0, len(texts), batch_size)):\n",
    "        batch_texts = texts[i : i + batch_size]\n",
    "        tokenized = tokenizer(batch_texts, padding=True, truncation=True, return_tensors=\"pt\", max_length=512)\n",
    "        tokenized = {k: v.to(device) for k, v in tokenized.items()}\n",
    "        output = model(**tokenized)\n",
    "        embedding = pool(\n",
    "            output.last_hidden_state, \n",
    "            tokenized[\"attention_mask\"],\n",
    "            pooling_method=\"cls\"\n",
    "        )\n",
    "        embedding = F.normalize(embedding, p=2, dim=1)\n",
    "        embeddings.append(embedding.cpu().detach().numpy())\n",
    "    return np.concatenate(embeddings)"
   ]
  },
  {
   "cell_type": "code",
   "execution_count": 47,
   "id": "a50dedf8-d355-4fad-803c-e48c14b6f065",
   "metadata": {},
   "outputs": [],
   "source": [
    "questions = df_q['Question'].tolist()"
   ]
  },
  {
   "cell_type": "code",
   "execution_count": 49,
   "id": "ee7dca94-57df-44ff-8e08-3eda330aa6e9",
   "metadata": {},
   "outputs": [],
   "source": [
    "texts = df_chunks[\"text\"].to_list()"
   ]
  },
  {
   "cell_type": "code",
   "execution_count": 51,
   "id": "f190ff80-3929-45a1-8ef0-b4810b1cb2d4",
   "metadata": {},
   "outputs": [
    {
     "name": "stderr",
     "output_type": "stream",
     "text": [
      "100%|██████████| 81/81 [00:48<00:00,  1.68it/s]\n"
     ]
    }
   ],
   "source": [
    "ch_embeddings = get_embeddings(model, tokenizer, texts)  # texts chunks embeddings"
   ]
  },
  {
   "cell_type": "code",
   "execution_count": 52,
   "id": "ec873f2f-488e-4e6a-8219-010aef898263",
   "metadata": {},
   "outputs": [
    {
     "name": "stderr",
     "output_type": "stream",
     "text": [
      "100%|██████████| 403/403 [00:14<00:00, 27.55it/s]\n"
     ]
    }
   ],
   "source": [
    "q_embeddings = get_embeddings(model, tokenizer, questions)  # question embeddings"
   ]
  },
  {
   "cell_type": "code",
   "execution_count": 53,
   "id": "75feebb0-9033-4d7f-a7cc-c5a32e83349b",
   "metadata": {},
   "outputs": [],
   "source": [
    "dim = ch_embeddings.shape[1]"
   ]
  },
  {
   "cell_type": "code",
   "execution_count": 54,
   "id": "a0b40a5e-14c5-4129-9e32-e8661bd8fcf0",
   "metadata": {},
   "outputs": [],
   "source": [
    "faiss_index = faiss.IndexIDMap(faiss.IndexFlatL2(dim))\n",
    "faiss_index.add_with_ids(ch_embeddings, df_chunks[\"chunk_id\"])"
   ]
  },
  {
   "cell_type": "code",
   "execution_count": 55,
   "id": "d91451f5-66a5-4449-89d4-9d2ff34f408d",
   "metadata": {},
   "outputs": [],
   "source": [
    "def search(faiss_index, q_embeddings, top_k=5, batch_size=128):\n",
    "    # finding closest to the query chunks in the index\n",
    "    scores_list = []\n",
    "    ids_list = []\n",
    "    for i in tqdm.tqdm(range(0, len(q_embeddings), batch_size)):\n",
    "        scores, ids = faiss_index.search(q_embeddings[i: i + batch_size], top_k)\n",
    "        scores_list.append(scores)\n",
    "        ids_list.append(ids)\n",
    "    return np.concatenate(scores_list), np.concatenate(ids_list)"
   ]
  },
  {
   "cell_type": "code",
   "execution_count": 64,
   "id": "5a07a8a3-468a-4561-b0f0-b3f16f77d413",
   "metadata": {},
   "outputs": [
    {
     "name": "stderr",
     "output_type": "stream",
     "text": [
      "100%|██████████| 26/26 [00:00<00:00, 1386.74it/s]\n"
     ]
    }
   ],
   "source": [
    "scores, ids = search(faiss_index, q_embeddings)"
   ]
  },
  {
   "cell_type": "code",
   "execution_count": 66,
   "id": "975023ff-78fc-4d9b-bb37-e1fcb73c6bd7",
   "metadata": {},
   "outputs": [
    {
     "data": {
      "text/plain": [
       "(3224, 5)"
      ]
     },
     "execution_count": 66,
     "metadata": {},
     "output_type": "execute_result"
    }
   ],
   "source": [
    "ids.shape"
   ]
  },
  {
   "cell_type": "code",
   "execution_count": 68,
   "id": "49ffa855-e64f-429d-b999-9ac8be71e0d0",
   "metadata": {},
   "outputs": [],
   "source": [
    "gt = df_q[\"chunk_id\"].to_numpy()"
   ]
  },
  {
   "cell_type": "code",
   "execution_count": 70,
   "id": "6ee4f891-80ff-415b-a0b0-af0827271eab",
   "metadata": {},
   "outputs": [],
   "source": [
    "def get_recall_at_k(ids, gt):\n",
    "    return float((ids == gt[:, np.newaxis]).any(axis=1).mean())"
   ]
  },
  {
   "cell_type": "code",
   "execution_count": 72,
   "id": "1c5a8bba-5c97-4af2-afe7-382f3f7e1b53",
   "metadata": {},
   "outputs": [
    {
     "data": {
      "text/plain": [
       "0.875"
      ]
     },
     "execution_count": 72,
     "metadata": {},
     "output_type": "execute_result"
    }
   ],
   "source": [
    "recall_at_k = get_recall_at_k(ids, gt)\n",
    "recall_at_k"
   ]
  },
  {
   "cell_type": "code",
   "execution_count": 74,
   "id": "76faa2ed-0503-4c20-a398-524fc4e96ce7",
   "metadata": {},
   "outputs": [],
   "source": [
    "def get_mrr(ids, gt):\n",
    "    matches = ids == gt[:, np.newaxis]\n",
    "    ranks = np.argmax(matches, axis=1) + 1\n",
    "    reciprocal_ranks = 1 / ranks\n",
    "    reciprocal_ranks[~matches.any(axis=1)] = 0\n",
    "    return float(np.mean(reciprocal_ranks))"
   ]
  },
  {
   "cell_type": "code",
   "execution_count": 76,
   "id": "cecc7c1a-ac01-4b47-8be0-06717b8d11f1",
   "metadata": {},
   "outputs": [
    {
     "data": {
      "text/plain": [
       "0.7225909842845326"
      ]
     },
     "execution_count": 76,
     "metadata": {},
     "output_type": "execute_result"
    }
   ],
   "source": [
    "mrr = get_mrr(ids, gt)\n",
    "mrr"
   ]
  },
  {
   "cell_type": "markdown",
   "id": "e7cf3593-fbd6-49ec-969d-19d81ffe0b8b",
   "metadata": {},
   "source": [
    "All together:"
   ]
  },
  {
   "cell_type": "code",
   "execution_count": 29,
   "id": "5c8e9b08-f0ad-4386-87e1-7ede598197c7",
   "metadata": {},
   "outputs": [],
   "source": [
    "def get_metrics(model_name, df_chunks, df_q, k=5):\n",
    "    tokenizer = AutoTokenizer.from_pretrained(model_name)\n",
    "    model = AutoModel.from_pretrained(model_name).to(device)\n",
    "    params_num = model.num_parameters()\n",
    "    \n",
    "    questions = df_q['Question'].tolist()\n",
    "    texts = df_chunks[\"text\"].to_list()\n",
    "    \n",
    "    ch_embeddings = get_embeddings(model, tokenizer, texts)\n",
    "    t = time.time()\n",
    "    q_embeddings = get_embeddings(model, tokenizer, questions)\n",
    "    mean_emb_t = (time.time() - t) / len(questions)\n",
    "    dim = ch_embeddings.shape[1]\n",
    "        \n",
    "    faiss_index = faiss.IndexIDMap(faiss.IndexFlatL2(dim))\n",
    "    faiss_index.add_with_ids(ch_embeddings, df_chunks[\"chunk_id\"])\n",
    "\n",
    "    t = time.time()\n",
    "    scores, ids = search(faiss_index, q_embeddings)\n",
    "    mean_search_time = (time.time() - t) / len(questions)\n",
    "    gt = df_q[\"chunk_id\"].to_numpy()\n",
    "    recall_at_k = get_recall_at_k(ids, gt)\n",
    "    mrr = get_mrr(ids, gt)\n",
    "\n",
    "    return {\"model_name\": model_name, \"dim\": dim, \"params_num\": params_num, \"recall_at_k\": recall_at_k, \"mrr\": mrr, \"mean_emb_time\": mean_emb_t, \"mean_search_time\": mean_search_time}"
   ]
  },
  {
   "cell_type": "code",
   "execution_count": 31,
   "id": "6cb41012-dfa9-4f76-9362-7a108e4e752b",
   "metadata": {},
   "outputs": [],
   "source": [
    "model_names = [\n",
    "    \"BAAI/bge-m3\",\n",
    "    \"intfloat/e5-small-v2\",\n",
    "    \"sentence-transformers/all-MiniLM-L6-v2\"\n",
    "]"
   ]
  },
  {
   "cell_type": "code",
   "execution_count": 33,
   "id": "87da65f8-230b-42e8-a033-e301f5d6d278",
   "metadata": {},
   "outputs": [
    {
     "name": "stderr",
     "output_type": "stream",
     "text": [
      "100%|██████████| 81/81 [07:04<00:00,  5.24s/it]\n",
      "100%|██████████| 403/403 [02:21<00:00,  2.84it/s]\n",
      "100%|██████████| 26/26 [00:00<00:00, 545.58it/s]\n",
      "100%|██████████| 81/81 [01:39<00:00,  1.23s/it]\n",
      "100%|██████████| 403/403 [00:27<00:00, 14.62it/s]\n",
      "100%|██████████| 26/26 [00:00<00:00, 1530.49it/s]\n",
      "100%|██████████| 81/81 [00:44<00:00,  1.84it/s]\n",
      "100%|██████████| 403/403 [00:14<00:00, 27.66it/s]\n",
      "100%|██████████| 26/26 [00:00<00:00, 1536.09it/s]\n"
     ]
    }
   ],
   "source": [
    "metric_list = []\n",
    "\n",
    "for model_name in model_names:\n",
    "    metric_list.append(get_metrics(model_name, df_chunks, df_q))"
   ]
  },
  {
   "cell_type": "code",
   "execution_count": 35,
   "id": "7aedc80a-f498-4c59-b585-7f0bfb58c19c",
   "metadata": {},
   "outputs": [],
   "source": [
    "df_metrics = pd.DataFrame(metric_list)"
   ]
  },
  {
   "cell_type": "code",
   "execution_count": 37,
   "id": "153fb496-eab9-4adc-aed6-d913ca6ec1bc",
   "metadata": {},
   "outputs": [
    {
     "data": {
      "text/html": [
       "<div>\n",
       "<style scoped>\n",
       "    .dataframe tbody tr th:only-of-type {\n",
       "        vertical-align: middle;\n",
       "    }\n",
       "\n",
       "    .dataframe tbody tr th {\n",
       "        vertical-align: top;\n",
       "    }\n",
       "\n",
       "    .dataframe thead th {\n",
       "        text-align: right;\n",
       "    }\n",
       "</style>\n",
       "<table border=\"1\" class=\"dataframe\">\n",
       "  <thead>\n",
       "    <tr style=\"text-align: right;\">\n",
       "      <th></th>\n",
       "      <th>model_name</th>\n",
       "      <th>dim</th>\n",
       "      <th>params_num</th>\n",
       "      <th>recall_at_k</th>\n",
       "      <th>mrr</th>\n",
       "      <th>mean_emb_time</th>\n",
       "      <th>mean_search_time</th>\n",
       "    </tr>\n",
       "  </thead>\n",
       "  <tbody>\n",
       "    <tr>\n",
       "      <th>0</th>\n",
       "      <td>BAAI/bge-m3</td>\n",
       "      <td>1024</td>\n",
       "      <td>567754752</td>\n",
       "      <td>0.957196</td>\n",
       "      <td>0.849090</td>\n",
       "      <td>0.044000</td>\n",
       "      <td>0.000015</td>\n",
       "    </tr>\n",
       "    <tr>\n",
       "      <th>1</th>\n",
       "      <td>intfloat/e5-small-v2</td>\n",
       "      <td>384</td>\n",
       "      <td>33360000</td>\n",
       "      <td>0.880583</td>\n",
       "      <td>0.723056</td>\n",
       "      <td>0.008555</td>\n",
       "      <td>0.000005</td>\n",
       "    </tr>\n",
       "    <tr>\n",
       "      <th>2</th>\n",
       "      <td>sentence-transformers/all-MiniLM-L6-v2</td>\n",
       "      <td>384</td>\n",
       "      <td>22713216</td>\n",
       "      <td>0.875000</td>\n",
       "      <td>0.722591</td>\n",
       "      <td>0.004522</td>\n",
       "      <td>0.000006</td>\n",
       "    </tr>\n",
       "  </tbody>\n",
       "</table>\n",
       "</div>"
      ],
      "text/plain": [
       "                               model_name   dim  params_num  recall_at_k  \\\n",
       "0                             BAAI/bge-m3  1024   567754752     0.957196   \n",
       "1                    intfloat/e5-small-v2   384    33360000     0.880583   \n",
       "2  sentence-transformers/all-MiniLM-L6-v2   384    22713216     0.875000   \n",
       "\n",
       "        mrr  mean_emb_time  mean_search_time  \n",
       "0  0.849090       0.044000          0.000015  \n",
       "1  0.723056       0.008555          0.000005  \n",
       "2  0.722591       0.004522          0.000006  "
      ]
     },
     "execution_count": 37,
     "metadata": {},
     "output_type": "execute_result"
    }
   ],
   "source": [
    "df_metrics"
   ]
  },
  {
   "cell_type": "markdown",
   "id": "3c90a5b1-a7ff-464e-84e2-feed302321db",
   "metadata": {},
   "source": [
    "We got results for every model and now can choose between BGE-M3 with best metrics or faster and lighter e5-small-v2 or all-MiniLM-L6-v2."
   ]
  },
  {
   "cell_type": "code",
   "execution_count": null,
   "id": "c55538e6-c390-4d2a-bb99-3e2f727a4c4b",
   "metadata": {},
   "outputs": [],
   "source": []
  }
 ],
 "metadata": {
  "kernelspec": {
   "display_name": "Python [conda env:ml-interview-assistant-env]",
   "language": "python",
   "name": "conda-env-ml-interview-assistant-env-py"
  },
  "language_info": {
   "codemirror_mode": {
    "name": "ipython",
    "version": 3
   },
   "file_extension": ".py",
   "mimetype": "text/x-python",
   "name": "python",
   "nbconvert_exporter": "python",
   "pygments_lexer": "ipython3",
   "version": "3.12.3"
  }
 },
 "nbformat": 4,
 "nbformat_minor": 5
}
