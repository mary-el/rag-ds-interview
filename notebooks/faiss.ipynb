{
 "cells": [
  {
   "cell_type": "code",
   "execution_count": 19,
   "id": "fd593b80-8d2d-42d6-9511-59a487266ba1",
   "metadata": {
    "scrolled": true
   },
   "outputs": [
    {
     "name": "stdout",
     "output_type": "stream",
     "text": [
      "Requirement already satisfied: pandas==2.2.2 in c:\\users\\mary\\anaconda3\\envs\\env12\\lib\\site-packages (from -r requirements.txt (line 1)) (2.2.2)Note: you may need to restart the kernel to use updated packages.\n",
      "\n",
      "Requirement already satisfied: python-docx==1.1.2 in c:\\users\\mary\\anaconda3\\envs\\env12\\lib\\site-packages (from -r requirements.txt (line 2)) (1.1.2)\n",
      "Requirement already satisfied: sentence-transformers==3.0.1 in c:\\users\\mary\\anaconda3\\envs\\env12\\lib\\site-packages (from -r requirements.txt (line 3)) (3.0.1)\n",
      "Requirement already satisfied: elasticsearch==8.14.0 in c:\\users\\mary\\anaconda3\\envs\\env12\\lib\\site-packages (from -r requirements.txt (line 4)) (8.14.0)\n",
      "Requirement already satisfied: huggingface-hub==0.24.5 in c:\\users\\mary\\anaconda3\\envs\\env12\\lib\\site-packages (from -r requirements.txt (line 5)) (0.24.5)\n",
      "Requirement already satisfied: docx in c:\\users\\mary\\anaconda3\\envs\\env12\\lib\\site-packages (from -r requirements.txt (line 6)) (0.2.4)\n",
      "Requirement already satisfied: faiss-cpu in c:\\users\\mary\\anaconda3\\envs\\env12\\lib\\site-packages (from -r requirements.txt (line 7)) (1.10.0)\n",
      "Collecting psycopg2 (from -r requirements.txt (line 8))\n",
      "  Downloading psycopg2-2.9.10-cp312-cp312-win_amd64.whl.metadata (5.0 kB)\n",
      "Collecting pgvector (from -r requirements.txt (line 9))\n",
      "  Downloading pgvector-0.4.0-py3-none-any.whl.metadata (17 kB)\n",
      "Requirement already satisfied: numpy>=1.26.0 in c:\\users\\mary\\anaconda3\\envs\\env12\\lib\\site-packages (from pandas==2.2.2->-r requirements.txt (line 1)) (1.26.4)\n",
      "Requirement already satisfied: python-dateutil>=2.8.2 in c:\\users\\mary\\appdata\\roaming\\python\\python312\\site-packages (from pandas==2.2.2->-r requirements.txt (line 1)) (2.9.0.post0)\n",
      "Requirement already satisfied: pytz>=2020.1 in c:\\users\\mary\\anaconda3\\envs\\env12\\lib\\site-packages (from pandas==2.2.2->-r requirements.txt (line 1)) (2024.1)\n",
      "Requirement already satisfied: tzdata>=2022.7 in c:\\users\\mary\\anaconda3\\envs\\env12\\lib\\site-packages (from pandas==2.2.2->-r requirements.txt (line 1)) (2023.3)\n",
      "Requirement already satisfied: lxml>=3.1.0 in c:\\users\\mary\\anaconda3\\envs\\env12\\lib\\site-packages (from python-docx==1.1.2->-r requirements.txt (line 2)) (5.3.1)\n",
      "Requirement already satisfied: typing-extensions>=4.9.0 in c:\\users\\mary\\anaconda3\\envs\\env12\\lib\\site-packages (from python-docx==1.1.2->-r requirements.txt (line 2)) (4.12.2)\n",
      "Requirement already satisfied: transformers<5.0.0,>=4.34.0 in c:\\users\\mary\\appdata\\roaming\\python\\python312\\site-packages (from sentence-transformers==3.0.1->-r requirements.txt (line 3)) (4.46.3)\n",
      "Requirement already satisfied: tqdm in c:\\users\\mary\\anaconda3\\envs\\env12\\lib\\site-packages (from sentence-transformers==3.0.1->-r requirements.txt (line 3)) (4.67.1)\n",
      "Requirement already satisfied: torch>=1.11.0 in c:\\users\\mary\\anaconda3\\envs\\env12\\lib\\site-packages (from sentence-transformers==3.0.1->-r requirements.txt (line 3)) (2.5.1)\n",
      "Requirement already satisfied: scikit-learn in c:\\users\\mary\\anaconda3\\envs\\env12\\lib\\site-packages (from sentence-transformers==3.0.1->-r requirements.txt (line 3)) (1.5.2)\n",
      "Requirement already satisfied: scipy in c:\\users\\mary\\anaconda3\\envs\\env12\\lib\\site-packages (from sentence-transformers==3.0.1->-r requirements.txt (line 3)) (1.14.1)\n",
      "Requirement already satisfied: Pillow in c:\\users\\mary\\anaconda3\\envs\\env12\\lib\\site-packages (from sentence-transformers==3.0.1->-r requirements.txt (line 3)) (11.0.0)\n",
      "Requirement already satisfied: elastic-transport<9,>=8.13 in c:\\users\\mary\\anaconda3\\envs\\env12\\lib\\site-packages (from elasticsearch==8.14.0->-r requirements.txt (line 4)) (8.17.1)\n",
      "Requirement already satisfied: filelock in c:\\users\\mary\\anaconda3\\envs\\env12\\lib\\site-packages (from huggingface-hub==0.24.5->-r requirements.txt (line 5)) (3.16.1)\n",
      "Requirement already satisfied: fsspec>=2023.5.0 in c:\\users\\mary\\anaconda3\\envs\\env12\\lib\\site-packages (from huggingface-hub==0.24.5->-r requirements.txt (line 5)) (2024.6.1)\n",
      "Requirement already satisfied: packaging>=20.9 in c:\\users\\mary\\appdata\\roaming\\python\\python312\\site-packages (from huggingface-hub==0.24.5->-r requirements.txt (line 5)) (24.2)\n",
      "Requirement already satisfied: pyyaml>=5.1 in c:\\users\\mary\\anaconda3\\envs\\env12\\lib\\site-packages (from huggingface-hub==0.24.5->-r requirements.txt (line 5)) (5.4.1)\n",
      "Requirement already satisfied: requests in c:\\users\\mary\\anaconda3\\envs\\env12\\lib\\site-packages (from huggingface-hub==0.24.5->-r requirements.txt (line 5)) (2.32.3)\n",
      "Requirement already satisfied: urllib3<3,>=1.26.2 in c:\\users\\mary\\anaconda3\\envs\\env12\\lib\\site-packages (from elastic-transport<9,>=8.13->elasticsearch==8.14.0->-r requirements.txt (line 4)) (2.3.0)\n",
      "Requirement already satisfied: certifi in c:\\users\\mary\\anaconda3\\envs\\env12\\lib\\site-packages (from elastic-transport<9,>=8.13->elasticsearch==8.14.0->-r requirements.txt (line 4)) (2024.12.14)\n",
      "Requirement already satisfied: six>=1.5 in c:\\users\\mary\\appdata\\roaming\\python\\python312\\site-packages (from python-dateutil>=2.8.2->pandas==2.2.2->-r requirements.txt (line 1)) (1.17.0)\n",
      "Requirement already satisfied: networkx in c:\\users\\mary\\anaconda3\\envs\\env12\\lib\\site-packages (from torch>=1.11.0->sentence-transformers==3.0.1->-r requirements.txt (line 3)) (3.4.2)\n",
      "Requirement already satisfied: jinja2 in c:\\users\\mary\\anaconda3\\envs\\env12\\lib\\site-packages (from torch>=1.11.0->sentence-transformers==3.0.1->-r requirements.txt (line 3)) (3.1.5)\n",
      "Requirement already satisfied: setuptools in c:\\users\\mary\\anaconda3\\envs\\env12\\lib\\site-packages (from torch>=1.11.0->sentence-transformers==3.0.1->-r requirements.txt (line 3)) (75.1.0)\n",
      "Requirement already satisfied: sympy==1.13.1 in c:\\users\\mary\\anaconda3\\envs\\env12\\lib\\site-packages (from torch>=1.11.0->sentence-transformers==3.0.1->-r requirements.txt (line 3)) (1.13.1)\n",
      "Requirement already satisfied: mpmath<1.4,>=1.1.0 in c:\\users\\mary\\anaconda3\\envs\\env12\\lib\\site-packages (from sympy==1.13.1->torch>=1.11.0->sentence-transformers==3.0.1->-r requirements.txt (line 3)) (1.3.0)\n",
      "Requirement already satisfied: colorama in c:\\users\\mary\\appdata\\roaming\\python\\python312\\site-packages (from tqdm->sentence-transformers==3.0.1->-r requirements.txt (line 3)) (0.4.6)\n",
      "Requirement already satisfied: regex!=2019.12.17 in c:\\users\\mary\\anaconda3\\envs\\env12\\lib\\site-packages (from transformers<5.0.0,>=4.34.0->sentence-transformers==3.0.1->-r requirements.txt (line 3)) (2024.11.6)\n",
      "Requirement already satisfied: tokenizers<0.21,>=0.20 in c:\\users\\mary\\appdata\\roaming\\python\\python312\\site-packages (from transformers<5.0.0,>=4.34.0->sentence-transformers==3.0.1->-r requirements.txt (line 3)) (0.20.3)\n",
      "Requirement already satisfied: safetensors>=0.4.1 in c:\\users\\mary\\anaconda3\\envs\\env12\\lib\\site-packages (from transformers<5.0.0,>=4.34.0->sentence-transformers==3.0.1->-r requirements.txt (line 3)) (0.4.5)\n",
      "Requirement already satisfied: charset-normalizer<4,>=2 in c:\\users\\mary\\anaconda3\\envs\\env12\\lib\\site-packages (from requests->huggingface-hub==0.24.5->-r requirements.txt (line 5)) (3.4.1)\n",
      "Requirement already satisfied: idna<4,>=2.5 in c:\\users\\mary\\anaconda3\\envs\\env12\\lib\\site-packages (from requests->huggingface-hub==0.24.5->-r requirements.txt (line 5)) (3.10)\n",
      "Requirement already satisfied: joblib>=1.2.0 in c:\\users\\mary\\anaconda3\\envs\\env12\\lib\\site-packages (from scikit-learn->sentence-transformers==3.0.1->-r requirements.txt (line 3)) (1.4.2)\n",
      "Requirement already satisfied: threadpoolctl>=3.1.0 in c:\\users\\mary\\anaconda3\\envs\\env12\\lib\\site-packages (from scikit-learn->sentence-transformers==3.0.1->-r requirements.txt (line 3)) (3.5.0)\n",
      "Requirement already satisfied: MarkupSafe>=2.0 in c:\\users\\mary\\anaconda3\\envs\\env12\\lib\\site-packages (from jinja2->torch>=1.11.0->sentence-transformers==3.0.1->-r requirements.txt (line 3)) (3.0.2)\n",
      "Downloading psycopg2-2.9.10-cp312-cp312-win_amd64.whl (1.2 MB)\n",
      "   ---------------------------------------- 0.0/1.2 MB ? eta -:--:--\n",
      "   ---------------------------------------- 0.0/1.2 MB ? eta -:--:--\n",
      "   --------------------------- ------------ 0.8/1.2 MB 4.2 MB/s eta 0:00:01\n",
      "   ---------------------------------------- 1.2/1.2 MB 2.9 MB/s eta 0:00:00\n",
      "Downloading pgvector-0.4.0-py3-none-any.whl (27 kB)\n",
      "Installing collected packages: psycopg2, pgvector\n",
      "Successfully installed pgvector-0.4.0 psycopg2-2.9.10\n"
     ]
    }
   ],
   "source": [
    "%pip install -r requirements.txt"
   ]
  },
  {
   "cell_type": "code",
   "execution_count": 1,
   "id": "d96746af-6611-4823-a759-7a5d6658d46a",
   "metadata": {},
   "outputs": [
    {
     "name": "stderr",
     "output_type": "stream",
     "text": [
      "C:\\Users\\mary\\anaconda3\\envs\\env12\\Lib\\site-packages\\tqdm\\auto.py:21: TqdmWarning: IProgress not found. Please update jupyter and ipywidgets. See https://ipywidgets.readthedocs.io/en/stable/user_install.html\n",
      "  from .autonotebook import tqdm as notebook_tqdm\n"
     ]
    },
    {
     "data": {
      "text/plain": [
       "Dataset({\n",
       "    features: ['section', 'subsection', 'question', 'answer'],\n",
       "    num_rows: 525\n",
       "})"
      ]
     },
     "execution_count": 1,
     "metadata": {},
     "output_type": "execute_result"
    }
   ],
   "source": [
    "from datasets import Dataset\n",
    "\n",
    "qa_dataset = Dataset.from_csv('data/db.csv')\n",
    "qa_dataset"
   ]
  },
  {
   "cell_type": "code",
   "execution_count": 2,
   "id": "5cc0ab8d-787c-49a4-bc61-03c16392de3a",
   "metadata": {},
   "outputs": [],
   "source": [
    "def concatenate_text(examples):\n",
    "    return {\n",
    "        \"text\": examples[\"section\"]\n",
    "        + \" \\n \"\n",
    "        + examples[\"subsection\"]\n",
    "        + \" \\n \"\n",
    "        + examples[\"question\"]\n",
    "        + \" \\n \"\n",
    "        + examples[\"answer\"]\n",
    "    }"
   ]
  },
  {
   "cell_type": "code",
   "execution_count": 3,
   "id": "791fa8fc-4032-4dec-ad95-170b13c938c1",
   "metadata": {},
   "outputs": [],
   "source": [
    "qa_dataset = qa_dataset.map(concatenate_text)"
   ]
  },
  {
   "cell_type": "code",
   "execution_count": 4,
   "id": "e43c7c8e-033d-4a0b-b2d4-a07fa5af993f",
   "metadata": {},
   "outputs": [],
   "source": [
    "from transformers import AutoTokenizer, AutoModel\n",
    "\n",
    "model_ckpt = \"sentence-transformers/multi-qa-mpnet-base-dot-v1\"\n",
    "tokenizer = AutoTokenizer.from_pretrained(model_ckpt)\n",
    "model = AutoModel.from_pretrained(model_ckpt)"
   ]
  },
  {
   "cell_type": "code",
   "execution_count": 5,
   "id": "2e719d18-85c3-4445-9dd1-6f7f332af888",
   "metadata": {},
   "outputs": [],
   "source": [
    "import torch\n",
    "\n",
    "device = torch.device(\"cuda\") if torch.cuda.is_available() else torch.device(\"cpu\")"
   ]
  },
  {
   "cell_type": "code",
   "execution_count": 6,
   "id": "2082c55d-ac5f-44ec-a8ed-410fea838dfd",
   "metadata": {},
   "outputs": [
    {
     "data": {
      "text/plain": [
       "MPNetModel(\n",
       "  (embeddings): MPNetEmbeddings(\n",
       "    (word_embeddings): Embedding(30527, 768, padding_idx=1)\n",
       "    (position_embeddings): Embedding(514, 768, padding_idx=1)\n",
       "    (LayerNorm): LayerNorm((768,), eps=1e-05, elementwise_affine=True)\n",
       "    (dropout): Dropout(p=0.1, inplace=False)\n",
       "  )\n",
       "  (encoder): MPNetEncoder(\n",
       "    (layer): ModuleList(\n",
       "      (0-11): 12 x MPNetLayer(\n",
       "        (attention): MPNetAttention(\n",
       "          (attn): MPNetSelfAttention(\n",
       "            (q): Linear(in_features=768, out_features=768, bias=True)\n",
       "            (k): Linear(in_features=768, out_features=768, bias=True)\n",
       "            (v): Linear(in_features=768, out_features=768, bias=True)\n",
       "            (o): Linear(in_features=768, out_features=768, bias=True)\n",
       "            (dropout): Dropout(p=0.1, inplace=False)\n",
       "          )\n",
       "          (LayerNorm): LayerNorm((768,), eps=1e-05, elementwise_affine=True)\n",
       "          (dropout): Dropout(p=0.1, inplace=False)\n",
       "        )\n",
       "        (intermediate): MPNetIntermediate(\n",
       "          (dense): Linear(in_features=768, out_features=3072, bias=True)\n",
       "          (intermediate_act_fn): GELUActivation()\n",
       "        )\n",
       "        (output): MPNetOutput(\n",
       "          (dense): Linear(in_features=3072, out_features=768, bias=True)\n",
       "          (LayerNorm): LayerNorm((768,), eps=1e-05, elementwise_affine=True)\n",
       "          (dropout): Dropout(p=0.1, inplace=False)\n",
       "        )\n",
       "      )\n",
       "    )\n",
       "    (relative_attention_bias): Embedding(32, 12)\n",
       "  )\n",
       "  (pooler): MPNetPooler(\n",
       "    (dense): Linear(in_features=768, out_features=768, bias=True)\n",
       "    (activation): Tanh()\n",
       "  )\n",
       ")"
      ]
     },
     "execution_count": 6,
     "metadata": {},
     "output_type": "execute_result"
    }
   ],
   "source": [
    "model.to(device)"
   ]
  },
  {
   "cell_type": "code",
   "execution_count": 7,
   "id": "1cf140b4-c523-40f3-9d3e-dbe97b2d28e4",
   "metadata": {},
   "outputs": [],
   "source": [
    "def cls_pooling(model_output):\n",
    "    return model_output.last_hidden_state[:, 0]"
   ]
  },
  {
   "cell_type": "code",
   "execution_count": 8,
   "id": "a90a8f65-b4a1-4c91-9e43-a60ef4ee226a",
   "metadata": {},
   "outputs": [],
   "source": [
    "def get_embeddings(text_list):\n",
    "    encoded_input = tokenizer(\n",
    "        text_list, padding=True, truncation=True, return_tensors=\"pt\"\n",
    "    )\n",
    "    encoded_input = {k: v.to(device) for k, v in encoded_input.items()}\n",
    "    model_output = model(**encoded_input)\n",
    "    return cls_pooling(model_output)"
   ]
  },
  {
   "cell_type": "code",
   "execution_count": 9,
   "id": "885c717b-89c8-4715-bf7b-077bb792438b",
   "metadata": {},
   "outputs": [
    {
     "data": {
      "text/plain": [
       "torch.Size([1, 768])"
      ]
     },
     "execution_count": 9,
     "metadata": {},
     "output_type": "execute_result"
    }
   ],
   "source": [
    "embedding = get_embeddings(qa_dataset[\"text\"][0])\n",
    "embedding.shape"
   ]
  },
  {
   "cell_type": "code",
   "execution_count": 32,
   "id": "b3f1ef85-ca0d-435b-b359-83b3cb1c59d2",
   "metadata": {},
   "outputs": [
    {
     "name": "stderr",
     "output_type": "stream",
     "text": [
      "Map: 100%|████████████████████████████████████████████████████████████████████| 525/525 [03:14<00:00,  2.69 examples/s]\n"
     ]
    }
   ],
   "source": [
    "embeddings_dataset = qa_dataset.map(\n",
    "    lambda x: {\"embedding\": get_embeddings(x[\"text\"]).detach().cpu().numpy()[0]}\n",
    ")"
   ]
  },
  {
   "cell_type": "code",
   "execution_count": 33,
   "id": "a464e30e-dfd0-462e-b602-74c8d4a7ff12",
   "metadata": {},
   "outputs": [
    {
     "name": "stderr",
     "output_type": "stream",
     "text": [
      "100%|███████████████████████████████████████████████████████████████████████████████████| 1/1 [00:00<00:00, 180.98it/s]\n"
     ]
    },
    {
     "data": {
      "text/plain": [
       "Dataset({\n",
       "    features: ['section', 'subsection', 'question', 'answer', 'text', 'embedding'],\n",
       "    num_rows: 525\n",
       "})"
      ]
     },
     "execution_count": 33,
     "metadata": {},
     "output_type": "execute_result"
    }
   ],
   "source": [
    "embeddings_dataset.add_faiss_index(column=\"embedding\")"
   ]
  },
  {
   "cell_type": "code",
   "execution_count": 34,
   "id": "26b62bf7-551c-49b0-99b3-26b49da5b4b5",
   "metadata": {},
   "outputs": [
    {
     "data": {
      "text/plain": [
       "(1, 768)"
      ]
     },
     "execution_count": 34,
     "metadata": {},
     "output_type": "execute_result"
    }
   ],
   "source": [
    "question = \"What is Logistic Regression?\"\n",
    "question_embedding = get_embeddings([question]).cpu().detach().numpy()\n",
    "question_embedding.shape"
   ]
  },
  {
   "cell_type": "code",
   "execution_count": 35,
   "id": "86583aa1-1efd-47b3-8425-8de9090f3422",
   "metadata": {},
   "outputs": [],
   "source": [
    "scores, samples = embeddings_dataset.get_nearest_examples(\n",
    "    \"embedding\", question_embedding, k=5\n",
    ")"
   ]
  },
  {
   "cell_type": "code",
   "execution_count": 36,
   "id": "4e654d29-9dcb-4af0-8b18-3ae748722152",
   "metadata": {},
   "outputs": [],
   "source": [
    "import pandas as pd\n",
    "\n",
    "samples_df = pd.DataFrame.from_dict(samples)\n",
    "samples_df[\"scores\"] = scores\n",
    "samples_df.sort_values(\"scores\", ascending=False, inplace=True)"
   ]
  },
  {
   "cell_type": "code",
   "execution_count": 37,
   "id": "f65efdc2-b1fc-4d77-994f-88c63a20b07c",
   "metadata": {},
   "outputs": [
    {
     "data": {
      "text/html": [
       "<div>\n",
       "<style scoped>\n",
       "    .dataframe tbody tr th:only-of-type {\n",
       "        vertical-align: middle;\n",
       "    }\n",
       "\n",
       "    .dataframe tbody tr th {\n",
       "        vertical-align: top;\n",
       "    }\n",
       "\n",
       "    .dataframe thead th {\n",
       "        text-align: right;\n",
       "    }\n",
       "</style>\n",
       "<table border=\"1\" class=\"dataframe\">\n",
       "  <thead>\n",
       "    <tr style=\"text-align: right;\">\n",
       "      <th></th>\n",
       "      <th>section</th>\n",
       "      <th>subsection</th>\n",
       "      <th>question</th>\n",
       "      <th>answer</th>\n",
       "      <th>text</th>\n",
       "      <th>embedding</th>\n",
       "      <th>scores</th>\n",
       "    </tr>\n",
       "  </thead>\n",
       "  <tbody>\n",
       "    <tr>\n",
       "      <th>4</th>\n",
       "      <td>Classical models</td>\n",
       "      <td>Logistic Regression</td>\n",
       "      <td>Logistic Regression Parameter Interpretation</td>\n",
       "      <td>log  p / 1−p  = α + β1x1 + β2x2, where x1 is b...</td>\n",
       "      <td>Classical models \\n Logistic Regression \\n Log...</td>\n",
       "      <td>[-0.0908917486667633, -0.5208433270454407, -0....</td>\n",
       "      <td>30.387844</td>\n",
       "    </tr>\n",
       "    <tr>\n",
       "      <th>3</th>\n",
       "      <td>Classical models</td>\n",
       "      <td>Logistic Regression</td>\n",
       "      <td>What is the difference between odds and probab...</td>\n",
       "      <td>The probability that an event will occur is th...</td>\n",
       "      <td>Classical models \\n Logistic Regression \\n Wha...</td>\n",
       "      <td>[0.004504382610321045, -0.43677017092704773, -...</td>\n",
       "      <td>29.093803</td>\n",
       "    </tr>\n",
       "    <tr>\n",
       "      <th>2</th>\n",
       "      <td>Classical models</td>\n",
       "      <td>Logistic Regression</td>\n",
       "      <td>Assumptions of Logistic Regression</td>\n",
       "      <td>We will explore the assumptions of logistic re...</td>\n",
       "      <td>Classical models \\n Logistic Regression \\n Ass...</td>\n",
       "      <td>[0.02633441612124443, -0.32643234729766846, -0...</td>\n",
       "      <td>28.364182</td>\n",
       "    </tr>\n",
       "    <tr>\n",
       "      <th>1</th>\n",
       "      <td>Classical models</td>\n",
       "      <td>Logistic Regression</td>\n",
       "      <td>What distinguishes Logistic Regression from Li...</td>\n",
       "      <td>While Linear Regression is used to predict con...</td>\n",
       "      <td>Classical models \\n Logistic Regression \\n Wha...</td>\n",
       "      <td>[-0.07696059346199036, -0.3094007074832916, -0...</td>\n",
       "      <td>26.248022</td>\n",
       "    </tr>\n",
       "    <tr>\n",
       "      <th>0</th>\n",
       "      <td>Classical models</td>\n",
       "      <td>Logistic Regression</td>\n",
       "      <td>What is Logistic Regression?</td>\n",
       "      <td>Logistic regression is used for binary classif...</td>\n",
       "      <td>Classical models \\n Logistic Regression \\n Wha...</td>\n",
       "      <td>[0.09677687287330627, -0.6925526857376099, -0....</td>\n",
       "      <td>23.141731</td>\n",
       "    </tr>\n",
       "  </tbody>\n",
       "</table>\n",
       "</div>"
      ],
      "text/plain": [
       "            section           subsection  \\\n",
       "4  Classical models  Logistic Regression   \n",
       "3  Classical models  Logistic Regression   \n",
       "2  Classical models  Logistic Regression   \n",
       "1  Classical models  Logistic Regression   \n",
       "0  Classical models  Logistic Regression   \n",
       "\n",
       "                                            question  \\\n",
       "4       Logistic Regression Parameter Interpretation   \n",
       "3  What is the difference between odds and probab...   \n",
       "2                 Assumptions of Logistic Regression   \n",
       "1  What distinguishes Logistic Regression from Li...   \n",
       "0                       What is Logistic Regression?   \n",
       "\n",
       "                                              answer  \\\n",
       "4  log  p / 1−p  = α + β1x1 + β2x2, where x1 is b...   \n",
       "3  The probability that an event will occur is th...   \n",
       "2  We will explore the assumptions of logistic re...   \n",
       "1  While Linear Regression is used to predict con...   \n",
       "0  Logistic regression is used for binary classif...   \n",
       "\n",
       "                                                text  \\\n",
       "4  Classical models \\n Logistic Regression \\n Log...   \n",
       "3  Classical models \\n Logistic Regression \\n Wha...   \n",
       "2  Classical models \\n Logistic Regression \\n Ass...   \n",
       "1  Classical models \\n Logistic Regression \\n Wha...   \n",
       "0  Classical models \\n Logistic Regression \\n Wha...   \n",
       "\n",
       "                                           embedding     scores  \n",
       "4  [-0.0908917486667633, -0.5208433270454407, -0....  30.387844  \n",
       "3  [0.004504382610321045, -0.43677017092704773, -...  29.093803  \n",
       "2  [0.02633441612124443, -0.32643234729766846, -0...  28.364182  \n",
       "1  [-0.07696059346199036, -0.3094007074832916, -0...  26.248022  \n",
       "0  [0.09677687287330627, -0.6925526857376099, -0....  23.141731  "
      ]
     },
     "execution_count": 37,
     "metadata": {},
     "output_type": "execute_result"
    }
   ],
   "source": [
    "samples_df"
   ]
  },
  {
   "cell_type": "code",
   "execution_count": 38,
   "id": "3c708085-868f-4f67-822b-5b6c0c60a34f",
   "metadata": {},
   "outputs": [],
   "source": [
    "import pickle"
   ]
  },
  {
   "cell_type": "code",
   "execution_count": 39,
   "id": "d760317d-9e4e-4e1c-80e6-49210f29673a",
   "metadata": {},
   "outputs": [],
   "source": [
    "with open('faiss_embeddings.pkl', 'wb') as f:\n",
    "    pickle.dump(question_embedding, f)"
   ]
  },
  {
   "cell_type": "code",
   "execution_count": 99,
   "id": "2eb23b33-0db7-4edf-9371-88b3b3b889d3",
   "metadata": {},
   "outputs": [],
   "source": [
    "import psycopg2\n",
    "\n",
    "conn = psycopg2.connect(dbname='ds_db', user='user', password='password', host='localhost')"
   ]
  },
  {
   "cell_type": "code",
   "execution_count": 116,
   "id": "fe621a26-b85d-47e7-ae11-80c2f17c8178",
   "metadata": {},
   "outputs": [],
   "source": [
    "cursor = conn.cursor()"
   ]
  },
  {
   "cell_type": "code",
   "execution_count": 109,
   "id": "71e5e641-d177-40f9-b00f-857ba34ae27b",
   "metadata": {},
   "outputs": [],
   "source": [
    "cursor.execute(\n",
    "    \"\"\"CREATE TABLE ds_qa (\n",
    "    id SERIAL PRIMARY KEY,\n",
    "    section TEXT,\n",
    "    subsection TEXT,\n",
    "    question TEXT,\n",
    "    answer TEXT,\n",
    "    text TEXT\n",
    ");\"\"\"\n",
    ")"
   ]
  },
  {
   "cell_type": "code",
   "execution_count": 110,
   "id": "e11afe2e-2a4b-4b73-9990-8baa6a306d2b",
   "metadata": {},
   "outputs": [],
   "source": [
    "import faiss\n",
    "import numpy as np\n",
    "\n",
    "dim = 768 \n",
    "base_index = faiss.IndexFlatL2(dim)\n",
    "index = faiss.IndexIDMap(base_index)"
   ]
  },
  {
   "cell_type": "code",
   "execution_count": 142,
   "id": "e4b949c5-c903-483c-8898-a5c270cc60d8",
   "metadata": {},
   "outputs": [],
   "source": [
    "def add_document(record):\n",
    "    # saving to DB\n",
    "    cursor.execute(\"INSERT INTO ds_qa (section, subsection, question, answer, text) VALUES (%s, %s, %s, %s, %s) RETURNING id\", \n",
    "                (record['section'], record['subsection'], record['question'], record['answer'], record['text']))\n",
    "    doc_id = cursor.fetchone()[0]\n",
    "    conn.commit()\n",
    "    \n",
    "    # adding into FAISS index\n",
    "    index.add_with_ids(np.array([record['embedding']], dtype=np.float32), np.array([doc_id], dtype=np.int64))"
   ]
  },
  {
   "cell_type": "code",
   "execution_count": 121,
   "id": "8787c4d2-9092-4082-980c-778af038d8a5",
   "metadata": {},
   "outputs": [],
   "source": [
    "for record in embeddings_dataset:\n",
    "    add_document(record)"
   ]
  },
  {
   "cell_type": "code",
   "execution_count": 135,
   "id": "8a1165e5-ac66-4692-9924-1d6bd42c67c8",
   "metadata": {},
   "outputs": [],
   "source": [
    "def db_search(query_embedding, k=5):\n",
    "    D, I = index.search(query_embedding, k)\n",
    "    cursor.execute(\"SELECT * FROM ds_qa WHERE id = ANY(%s)\", (I[0].tolist(),))\n",
    "    results = cursor.fetchall()\n",
    "    return results"
   ]
  },
  {
   "cell_type": "code",
   "execution_count": 136,
   "id": "dc568ef7-3162-431a-ab1f-647b9f45c00b",
   "metadata": {},
   "outputs": [],
   "source": [
    "results = db_search(question_embedding, 5)"
   ]
  },
  {
   "cell_type": "code",
   "execution_count": 122,
   "id": "caf6a8b6-b112-4f8d-8d57-e530ba60f43e",
   "metadata": {},
   "outputs": [],
   "source": [
    "cursor.execute(\"SELECT * from ds_qa\")"
   ]
  },
  {
   "cell_type": "code",
   "execution_count": 130,
   "id": "770e7a0f-7abe-45fd-b245-8a2ccae64629",
   "metadata": {},
   "outputs": [],
   "source": [
    "conn.rollback()"
   ]
  },
  {
   "cell_type": "code",
   "execution_count": 140,
   "id": "7602d9a5-e80d-40b3-a08b-8cf8d9dcca2b",
   "metadata": {},
   "outputs": [],
   "source": [
    "df_result = pd.DataFrame(results, columns=['id', 'Section', 'Subsection', 'Question', 'Answer', 'Full Text'])"
   ]
  },
  {
   "cell_type": "code",
   "execution_count": 141,
   "id": "33ede52c-91ff-4362-83d7-60add82fc266",
   "metadata": {},
   "outputs": [
    {
     "data": {
      "text/html": [
       "<div>\n",
       "<style scoped>\n",
       "    .dataframe tbody tr th:only-of-type {\n",
       "        vertical-align: middle;\n",
       "    }\n",
       "\n",
       "    .dataframe tbody tr th {\n",
       "        vertical-align: top;\n",
       "    }\n",
       "\n",
       "    .dataframe thead th {\n",
       "        text-align: right;\n",
       "    }\n",
       "</style>\n",
       "<table border=\"1\" class=\"dataframe\">\n",
       "  <thead>\n",
       "    <tr style=\"text-align: right;\">\n",
       "      <th></th>\n",
       "      <th>id</th>\n",
       "      <th>Section</th>\n",
       "      <th>Subsection</th>\n",
       "      <th>Question</th>\n",
       "      <th>Answer</th>\n",
       "      <th>Full Text</th>\n",
       "    </tr>\n",
       "  </thead>\n",
       "  <tbody>\n",
       "    <tr>\n",
       "      <th>0</th>\n",
       "      <td>14</td>\n",
       "      <td>Classical models</td>\n",
       "      <td>Logistic Regression</td>\n",
       "      <td>What is Logistic Regression?</td>\n",
       "      <td>Logistic regression is used for binary classif...</td>\n",
       "      <td>Classical models \\n Logistic Regression \\n Wha...</td>\n",
       "    </tr>\n",
       "    <tr>\n",
       "      <th>1</th>\n",
       "      <td>15</td>\n",
       "      <td>Classical models</td>\n",
       "      <td>Logistic Regression</td>\n",
       "      <td>What is the difference between odds and probab...</td>\n",
       "      <td>The probability that an event will occur is th...</td>\n",
       "      <td>Classical models \\n Logistic Regression \\n Wha...</td>\n",
       "    </tr>\n",
       "    <tr>\n",
       "      <th>2</th>\n",
       "      <td>16</td>\n",
       "      <td>Classical models</td>\n",
       "      <td>Logistic Regression</td>\n",
       "      <td>Logistic Regression Parameter Interpretation</td>\n",
       "      <td>log  p / 1−p  = α + β1x1 + β2x2, where x1 is b...</td>\n",
       "      <td>Classical models \\n Logistic Regression \\n Log...</td>\n",
       "    </tr>\n",
       "    <tr>\n",
       "      <th>3</th>\n",
       "      <td>17</td>\n",
       "      <td>Classical models</td>\n",
       "      <td>Logistic Regression</td>\n",
       "      <td>Assumptions of Logistic Regression</td>\n",
       "      <td>We will explore the assumptions of logistic re...</td>\n",
       "      <td>Classical models \\n Logistic Regression \\n Ass...</td>\n",
       "    </tr>\n",
       "    <tr>\n",
       "      <th>4</th>\n",
       "      <td>18</td>\n",
       "      <td>Classical models</td>\n",
       "      <td>Logistic Regression</td>\n",
       "      <td>What distinguishes Logistic Regression from Li...</td>\n",
       "      <td>While Linear Regression is used to predict con...</td>\n",
       "      <td>Classical models \\n Logistic Regression \\n Wha...</td>\n",
       "    </tr>\n",
       "  </tbody>\n",
       "</table>\n",
       "</div>"
      ],
      "text/plain": [
       "   id           Section           Subsection  \\\n",
       "0  14  Classical models  Logistic Regression   \n",
       "1  15  Classical models  Logistic Regression   \n",
       "2  16  Classical models  Logistic Regression   \n",
       "3  17  Classical models  Logistic Regression   \n",
       "4  18  Classical models  Logistic Regression   \n",
       "\n",
       "                                            Question  \\\n",
       "0                       What is Logistic Regression?   \n",
       "1  What is the difference between odds and probab...   \n",
       "2       Logistic Regression Parameter Interpretation   \n",
       "3                 Assumptions of Logistic Regression   \n",
       "4  What distinguishes Logistic Regression from Li...   \n",
       "\n",
       "                                              Answer  \\\n",
       "0  Logistic regression is used for binary classif...   \n",
       "1  The probability that an event will occur is th...   \n",
       "2  log  p / 1−p  = α + β1x1 + β2x2, where x1 is b...   \n",
       "3  We will explore the assumptions of logistic re...   \n",
       "4  While Linear Regression is used to predict con...   \n",
       "\n",
       "                                           Full Text  \n",
       "0  Classical models \\n Logistic Regression \\n Wha...  \n",
       "1  Classical models \\n Logistic Regression \\n Wha...  \n",
       "2  Classical models \\n Logistic Regression \\n Log...  \n",
       "3  Classical models \\n Logistic Regression \\n Ass...  \n",
       "4  Classical models \\n Logistic Regression \\n Wha...  "
      ]
     },
     "execution_count": 141,
     "metadata": {},
     "output_type": "execute_result"
    }
   ],
   "source": [
    "df_result"
   ]
  },
  {
   "cell_type": "code",
   "execution_count": null,
   "id": "dc8b59c5-7eec-4343-9ecd-8e9dab4ee3d7",
   "metadata": {},
   "outputs": [],
   "source": []
  }
 ],
 "metadata": {
  "kernelspec": {
   "display_name": "env12",
   "language": "python",
   "name": "env12"
  },
  "language_info": {
   "codemirror_mode": {
    "name": "ipython",
    "version": 3
   },
   "file_extension": ".py",
   "mimetype": "text/x-python",
   "name": "python",
   "nbconvert_exporter": "python",
   "pygments_lexer": "ipython3",
   "version": "3.12.8"
  }
 },
 "nbformat": 4,
 "nbformat_minor": 5
}
