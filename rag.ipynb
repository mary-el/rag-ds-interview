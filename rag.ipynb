{
 "cells": [
  {
   "cell_type": "markdown",
   "id": "c9978ae0-9054-4521-8768-d0a37f7dd99f",
   "metadata": {},
   "source": [
    "# RAG for Data Science interview preparation"
   ]
  },
  {
   "cell_type": "code",
   "execution_count": 1,
   "id": "d1208f9b-09c8-4f7a-98aa-1e6f5ef8506c",
   "metadata": {},
   "outputs": [
    {
     "name": "stderr",
     "output_type": "stream",
     "text": [
      "ERROR: Could not find a version that satisfies the requirement sentence_transformer (from versions: none)\n",
      "ERROR: No matching distribution found for sentence_transformer\n"
     ]
    }
   ],
   "source": [
    "!pip install sentence_transformer"
   ]
  },
  {
   "cell_type": "code",
   "execution_count": 37,
   "id": "d69054b4-b4ed-4f1f-999f-90b7c2d5c552",
   "metadata": {
    "scrolled": true
   },
   "outputs": [],
   "source": [
    "from sentence_transformers import SentenceTransformer\n",
    "import pandas as pd\n",
    "from tqdm import auto"
   ]
  },
  {
   "cell_type": "code",
   "execution_count": 38,
   "id": "795cf21e-47fe-411c-9082-6d1faaaf9304",
   "metadata": {},
   "outputs": [
    {
     "data": {
      "application/vnd.jupyter.widget-view+json": {
       "model_id": "1f6773e617834aafba86ef15c7d28e71",
       "version_major": 2,
       "version_minor": 0
      },
      "text/plain": [
       "modules.json:   0%|          | 0.00/349 [00:00<?, ?B/s]"
      ]
     },
     "metadata": {},
     "output_type": "display_data"
    },
    {
     "name": "stderr",
     "output_type": "stream",
     "text": [
      "C:\\Users\\mary\\AppData\\Roaming\\Python\\Python311\\site-packages\\huggingface_hub\\file_download.py:159: UserWarning: `huggingface_hub` cache-system uses symlinks by default to efficiently store duplicated files but your machine does not support them in C:\\Users\\mary\\.cache\\huggingface\\hub\\models--sentence-transformers--all-mpnet-base-v2. Caching files will still work but in a degraded version that might require more space on your disk. This warning can be disabled by setting the `HF_HUB_DISABLE_SYMLINKS_WARNING` environment variable. For more details, see https://huggingface.co/docs/huggingface_hub/how-to-cache#limitations.\n",
      "To support symlinks on Windows, you either need to activate Developer Mode or to run Python as an administrator. In order to see activate developer mode, see this article: https://docs.microsoft.com/en-us/windows/apps/get-started/enable-your-device-for-development\n",
      "  warnings.warn(message)\n"
     ]
    },
    {
     "data": {
      "application/vnd.jupyter.widget-view+json": {
       "model_id": "827f1d4650b14e4b85a9ad8b415ef980",
       "version_major": 2,
       "version_minor": 0
      },
      "text/plain": [
       "config_sentence_transformers.json:   0%|          | 0.00/116 [00:00<?, ?B/s]"
      ]
     },
     "metadata": {},
     "output_type": "display_data"
    },
    {
     "data": {
      "application/vnd.jupyter.widget-view+json": {
       "model_id": "ec00f5cca175496580e41c2976928e0f",
       "version_major": 2,
       "version_minor": 0
      },
      "text/plain": [
       "README.md:   0%|          | 0.00/10.6k [00:00<?, ?B/s]"
      ]
     },
     "metadata": {},
     "output_type": "display_data"
    },
    {
     "data": {
      "application/vnd.jupyter.widget-view+json": {
       "model_id": "8ebe85b9d1ba45b5b7c802284a18278f",
       "version_major": 2,
       "version_minor": 0
      },
      "text/plain": [
       "sentence_bert_config.json:   0%|          | 0.00/53.0 [00:00<?, ?B/s]"
      ]
     },
     "metadata": {},
     "output_type": "display_data"
    },
    {
     "data": {
      "application/vnd.jupyter.widget-view+json": {
       "model_id": "8c0ce8d4f3fd4a099788b8d4c81ea3a7",
       "version_major": 2,
       "version_minor": 0
      },
      "text/plain": [
       "config.json:   0%|          | 0.00/571 [00:00<?, ?B/s]"
      ]
     },
     "metadata": {},
     "output_type": "display_data"
    },
    {
     "data": {
      "application/vnd.jupyter.widget-view+json": {
       "model_id": "b14685533ea74a3485c1f678d7012f97",
       "version_major": 2,
       "version_minor": 0
      },
      "text/plain": [
       "model.safetensors:   0%|          | 0.00/438M [00:00<?, ?B/s]"
      ]
     },
     "metadata": {},
     "output_type": "display_data"
    },
    {
     "data": {
      "application/vnd.jupyter.widget-view+json": {
       "model_id": "778c72e50e5542c4ab9ee1f79e448afd",
       "version_major": 2,
       "version_minor": 0
      },
      "text/plain": [
       "tokenizer_config.json:   0%|          | 0.00/363 [00:00<?, ?B/s]"
      ]
     },
     "metadata": {},
     "output_type": "display_data"
    },
    {
     "data": {
      "application/vnd.jupyter.widget-view+json": {
       "model_id": "a1d09510e6df48839aeb7196b382ae93",
       "version_major": 2,
       "version_minor": 0
      },
      "text/plain": [
       "vocab.txt:   0%|          | 0.00/232k [00:00<?, ?B/s]"
      ]
     },
     "metadata": {},
     "output_type": "display_data"
    },
    {
     "data": {
      "application/vnd.jupyter.widget-view+json": {
       "model_id": "2ab7e99a999b48f9a6ec8b0db482995e",
       "version_major": 2,
       "version_minor": 0
      },
      "text/plain": [
       "tokenizer.json:   0%|          | 0.00/466k [00:00<?, ?B/s]"
      ]
     },
     "metadata": {},
     "output_type": "display_data"
    },
    {
     "data": {
      "application/vnd.jupyter.widget-view+json": {
       "model_id": "ac973531f99c4f86863b60b21e099932",
       "version_major": 2,
       "version_minor": 0
      },
      "text/plain": [
       "special_tokens_map.json:   0%|          | 0.00/239 [00:00<?, ?B/s]"
      ]
     },
     "metadata": {},
     "output_type": "display_data"
    },
    {
     "data": {
      "application/vnd.jupyter.widget-view+json": {
       "model_id": "2430cd3d499c49378700b62e242a3cfa",
       "version_major": 2,
       "version_minor": 0
      },
      "text/plain": [
       "1_Pooling/config.json:   0%|          | 0.00/190 [00:00<?, ?B/s]"
      ]
     },
     "metadata": {},
     "output_type": "display_data"
    }
   ],
   "source": [
    "model = SentenceTransformer('all-mpnet-base-v2')"
   ]
  },
  {
   "cell_type": "code",
   "execution_count": 39,
   "id": "e27d7c77-5652-4798-aad4-e478ad1758de",
   "metadata": {
    "scrolled": true
   },
   "outputs": [
    {
     "data": {
      "text/html": [
       "<div>\n",
       "<style scoped>\n",
       "    .dataframe tbody tr th:only-of-type {\n",
       "        vertical-align: middle;\n",
       "    }\n",
       "\n",
       "    .dataframe tbody tr th {\n",
       "        vertical-align: top;\n",
       "    }\n",
       "\n",
       "    .dataframe thead th {\n",
       "        text-align: right;\n",
       "    }\n",
       "</style>\n",
       "<table border=\"1\" class=\"dataframe\">\n",
       "  <thead>\n",
       "    <tr style=\"text-align: right;\">\n",
       "      <th></th>\n",
       "      <th>section</th>\n",
       "      <th>question</th>\n",
       "      <th>answer</th>\n",
       "    </tr>\n",
       "  </thead>\n",
       "  <tbody>\n",
       "    <tr>\n",
       "      <th>0</th>\n",
       "      <td>Classic_models</td>\n",
       "      <td>What are various ways to predict a binary resp...</td>\n",
       "      <td>Things to look at: N, P, linearly seperable?, ...</td>\n",
       "    </tr>\n",
       "    <tr>\n",
       "      <th>1</th>\n",
       "      <td>Classic_models</td>\n",
       "      <td>What methods for solving linear regression do ...</td>\n",
       "      <td>To solve linear regression, you need to find t...</td>\n",
       "    </tr>\n",
       "    <tr>\n",
       "      <th>2</th>\n",
       "      <td>Classic_models</td>\n",
       "      <td>Nearest Neighbors Method</td>\n",
       "      <td>The nearest neighbors method (k-Nearest Neighb...</td>\n",
       "    </tr>\n",
       "    <tr>\n",
       "      <th>3</th>\n",
       "      <td>Classic_models</td>\n",
       "      <td>Nearest Neighbors Method in Real Applications</td>\n",
       "      <td>k-NN can serve as a good starting point (basel...</td>\n",
       "    </tr>\n",
       "    <tr>\n",
       "      <th>4</th>\n",
       "      <td>Classic_models</td>\n",
       "      <td>Pros and Cons of The nearest neighbors method</td>\n",
       "      <td>Pros:\\nSimple implementation;\\nWell studied;\\n...</td>\n",
       "    </tr>\n",
       "    <tr>\n",
       "      <th>...</th>\n",
       "      <td>...</td>\n",
       "      <td>...</td>\n",
       "      <td>...</td>\n",
       "    </tr>\n",
       "    <tr>\n",
       "      <th>185</th>\n",
       "      <td>Statistics</td>\n",
       "      <td>If you had draws from a normal distribution wi...</td>\n",
       "      <td>A question like this tests your knowledge of t...</td>\n",
       "    </tr>\n",
       "    <tr>\n",
       "      <th>186</th>\n",
       "      <td>Statistics</td>\n",
       "      <td>How do you transform a Skewed Distribution int...</td>\n",
       "      <td>To transform a Skewed Distribution into a Norm...</td>\n",
       "    </tr>\n",
       "    <tr>\n",
       "      <th>187</th>\n",
       "      <td>Statistics</td>\n",
       "      <td>What's the difference between Binomial Distrib...</td>\n",
       "      <td>The Binomial distribution describes the probab...</td>\n",
       "    </tr>\n",
       "    <tr>\n",
       "      <th>188</th>\n",
       "      <td>Statistics</td>\n",
       "      <td>Bayesian Inference</td>\n",
       "      <td>Focusing solely on some statistic of the poste...</td>\n",
       "    </tr>\n",
       "    <tr>\n",
       "      <th>189</th>\n",
       "      <td>Statistics</td>\n",
       "      <td>Latent-Variable Models</td>\n",
       "      <td>In practice, it is sometimes useful to have ad...</td>\n",
       "    </tr>\n",
       "  </tbody>\n",
       "</table>\n",
       "<p>190 rows × 3 columns</p>\n",
       "</div>"
      ],
      "text/plain": [
       "            section                                           question  \\\n",
       "0    Classic_models  What are various ways to predict a binary resp...   \n",
       "1    Classic_models  What methods for solving linear regression do ...   \n",
       "2    Classic_models                           Nearest Neighbors Method   \n",
       "3    Classic_models      Nearest Neighbors Method in Real Applications   \n",
       "4    Classic_models      Pros and Cons of The nearest neighbors method   \n",
       "..              ...                                                ...   \n",
       "185      Statistics  If you had draws from a normal distribution wi...   \n",
       "186      Statistics  How do you transform a Skewed Distribution int...   \n",
       "187      Statistics  What's the difference between Binomial Distrib...   \n",
       "188      Statistics                                 Bayesian Inference   \n",
       "189      Statistics                             Latent-Variable Models   \n",
       "\n",
       "                                                answer  \n",
       "0    Things to look at: N, P, linearly seperable?, ...  \n",
       "1    To solve linear regression, you need to find t...  \n",
       "2    The nearest neighbors method (k-Nearest Neighb...  \n",
       "3    k-NN can serve as a good starting point (basel...  \n",
       "4    Pros:\\nSimple implementation;\\nWell studied;\\n...  \n",
       "..                                                 ...  \n",
       "185  A question like this tests your knowledge of t...  \n",
       "186  To transform a Skewed Distribution into a Norm...  \n",
       "187  The Binomial distribution describes the probab...  \n",
       "188  Focusing solely on some statistic of the poste...  \n",
       "189  In practice, it is sometimes useful to have ad...  \n",
       "\n",
       "[190 rows x 3 columns]"
      ]
     },
     "execution_count": 39,
     "metadata": {},
     "output_type": "execute_result"
    }
   ],
   "source": [
    "ds = pd.read_csv('data/db.csv')\n",
    "ds"
   ]
  },
  {
   "cell_type": "code",
   "execution_count": 40,
   "id": "cc73faf0-8747-4dd9-a6a0-31608a93b62a",
   "metadata": {},
   "outputs": [
    {
     "data": {
      "text/html": [
       "<div>\n",
       "<style scoped>\n",
       "    .dataframe tbody tr th:only-of-type {\n",
       "        vertical-align: middle;\n",
       "    }\n",
       "\n",
       "    .dataframe tbody tr th {\n",
       "        vertical-align: top;\n",
       "    }\n",
       "\n",
       "    .dataframe thead th {\n",
       "        text-align: right;\n",
       "    }\n",
       "</style>\n",
       "<table border=\"1\" class=\"dataframe\">\n",
       "  <thead>\n",
       "    <tr style=\"text-align: right;\">\n",
       "      <th></th>\n",
       "      <th>section</th>\n",
       "      <th>question</th>\n",
       "      <th>answer</th>\n",
       "      <th>q+a</th>\n",
       "    </tr>\n",
       "  </thead>\n",
       "  <tbody>\n",
       "    <tr>\n",
       "      <th>0</th>\n",
       "      <td>Classic_models</td>\n",
       "      <td>What are various ways to predict a binary resp...</td>\n",
       "      <td>Things to look at: N, P, linearly seperable?, ...</td>\n",
       "      <td>What are various ways to predict a binary resp...</td>\n",
       "    </tr>\n",
       "    <tr>\n",
       "      <th>1</th>\n",
       "      <td>Classic_models</td>\n",
       "      <td>What methods for solving linear regression do ...</td>\n",
       "      <td>To solve linear regression, you need to find t...</td>\n",
       "      <td>What methods for solving linear regression do ...</td>\n",
       "    </tr>\n",
       "    <tr>\n",
       "      <th>2</th>\n",
       "      <td>Classic_models</td>\n",
       "      <td>Nearest Neighbors Method</td>\n",
       "      <td>The nearest neighbors method (k-Nearest Neighb...</td>\n",
       "      <td>Nearest Neighbors Method The nearest neighbors...</td>\n",
       "    </tr>\n",
       "    <tr>\n",
       "      <th>3</th>\n",
       "      <td>Classic_models</td>\n",
       "      <td>Nearest Neighbors Method in Real Applications</td>\n",
       "      <td>k-NN can serve as a good starting point (basel...</td>\n",
       "      <td>Nearest Neighbors Method in Real Applications ...</td>\n",
       "    </tr>\n",
       "    <tr>\n",
       "      <th>4</th>\n",
       "      <td>Classic_models</td>\n",
       "      <td>Pros and Cons of The nearest neighbors method</td>\n",
       "      <td>Pros:\\nSimple implementation;\\nWell studied;\\n...</td>\n",
       "      <td>Pros and Cons of The nearest neighbors method ...</td>\n",
       "    </tr>\n",
       "    <tr>\n",
       "      <th>...</th>\n",
       "      <td>...</td>\n",
       "      <td>...</td>\n",
       "      <td>...</td>\n",
       "      <td>...</td>\n",
       "    </tr>\n",
       "    <tr>\n",
       "      <th>185</th>\n",
       "      <td>Statistics</td>\n",
       "      <td>If you had draws from a normal distribution wi...</td>\n",
       "      <td>A question like this tests your knowledge of t...</td>\n",
       "      <td>If you had draws from a normal distribution wi...</td>\n",
       "    </tr>\n",
       "    <tr>\n",
       "      <th>186</th>\n",
       "      <td>Statistics</td>\n",
       "      <td>How do you transform a Skewed Distribution int...</td>\n",
       "      <td>To transform a Skewed Distribution into a Norm...</td>\n",
       "      <td>How do you transform a Skewed Distribution int...</td>\n",
       "    </tr>\n",
       "    <tr>\n",
       "      <th>187</th>\n",
       "      <td>Statistics</td>\n",
       "      <td>What's the difference between Binomial Distrib...</td>\n",
       "      <td>The Binomial distribution describes the probab...</td>\n",
       "      <td>What's the difference between Binomial Distrib...</td>\n",
       "    </tr>\n",
       "    <tr>\n",
       "      <th>188</th>\n",
       "      <td>Statistics</td>\n",
       "      <td>Bayesian Inference</td>\n",
       "      <td>Focusing solely on some statistic of the poste...</td>\n",
       "      <td>Bayesian Inference Focusing solely on some sta...</td>\n",
       "    </tr>\n",
       "    <tr>\n",
       "      <th>189</th>\n",
       "      <td>Statistics</td>\n",
       "      <td>Latent-Variable Models</td>\n",
       "      <td>In practice, it is sometimes useful to have ad...</td>\n",
       "      <td>Latent-Variable Models In practice, it is some...</td>\n",
       "    </tr>\n",
       "  </tbody>\n",
       "</table>\n",
       "<p>190 rows × 4 columns</p>\n",
       "</div>"
      ],
      "text/plain": [
       "            section                                           question  \\\n",
       "0    Classic_models  What are various ways to predict a binary resp...   \n",
       "1    Classic_models  What methods for solving linear regression do ...   \n",
       "2    Classic_models                           Nearest Neighbors Method   \n",
       "3    Classic_models      Nearest Neighbors Method in Real Applications   \n",
       "4    Classic_models      Pros and Cons of The nearest neighbors method   \n",
       "..              ...                                                ...   \n",
       "185      Statistics  If you had draws from a normal distribution wi...   \n",
       "186      Statistics  How do you transform a Skewed Distribution int...   \n",
       "187      Statistics  What's the difference between Binomial Distrib...   \n",
       "188      Statistics                                 Bayesian Inference   \n",
       "189      Statistics                             Latent-Variable Models   \n",
       "\n",
       "                                                answer  \\\n",
       "0    Things to look at: N, P, linearly seperable?, ...   \n",
       "1    To solve linear regression, you need to find t...   \n",
       "2    The nearest neighbors method (k-Nearest Neighb...   \n",
       "3    k-NN can serve as a good starting point (basel...   \n",
       "4    Pros:\\nSimple implementation;\\nWell studied;\\n...   \n",
       "..                                                 ...   \n",
       "185  A question like this tests your knowledge of t...   \n",
       "186  To transform a Skewed Distribution into a Norm...   \n",
       "187  The Binomial distribution describes the probab...   \n",
       "188  Focusing solely on some statistic of the poste...   \n",
       "189  In practice, it is sometimes useful to have ad...   \n",
       "\n",
       "                                                   q+a  \n",
       "0    What are various ways to predict a binary resp...  \n",
       "1    What methods for solving linear regression do ...  \n",
       "2    Nearest Neighbors Method The nearest neighbors...  \n",
       "3    Nearest Neighbors Method in Real Applications ...  \n",
       "4    Pros and Cons of The nearest neighbors method ...  \n",
       "..                                                 ...  \n",
       "185  If you had draws from a normal distribution wi...  \n",
       "186  How do you transform a Skewed Distribution int...  \n",
       "187  What's the difference between Binomial Distrib...  \n",
       "188  Bayesian Inference Focusing solely on some sta...  \n",
       "189  Latent-Variable Models In practice, it is some...  \n",
       "\n",
       "[190 rows x 4 columns]"
      ]
     },
     "execution_count": 40,
     "metadata": {},
     "output_type": "execute_result"
    }
   ],
   "source": [
    "ds['q+a'] = ds['question'] + ' ' + ds['answer']\n",
    "ds"
   ]
  },
  {
   "cell_type": "code",
   "execution_count": 41,
   "id": "a418b48f-a9c4-4cfe-a342-699988128069",
   "metadata": {},
   "outputs": [],
   "source": [
    "ds = ds.reset_index().rename(columns={'index': 'id'})"
   ]
  },
  {
   "cell_type": "code",
   "execution_count": 42,
   "id": "cd31e5cc-6c7f-4dc9-966e-ea84cf625a4f",
   "metadata": {
    "scrolled": true
   },
   "outputs": [],
   "source": [
    "stats = ds.to_dict('records')"
   ]
  },
  {
   "cell_type": "markdown",
   "id": "833ba067-ab6a-4ffc-a246-5b8bb5099206",
   "metadata": {},
   "source": [
    "Let's encode the field, containing question and answer, into vector, so we can use it for the search:"
   ]
  },
  {
   "cell_type": "code",
   "execution_count": 43,
   "id": "51f7565f-f474-4528-9644-feaa83cdfa56",
   "metadata": {},
   "outputs": [
    {
     "data": {
      "application/vnd.jupyter.widget-view+json": {
       "model_id": "279600efb7c24f698953520fb0ffb907",
       "version_major": 2,
       "version_minor": 0
      },
      "text/plain": [
       "  0%|          | 0/190 [00:00<?, ?it/s]"
      ]
     },
     "metadata": {},
     "output_type": "display_data"
    }
   ],
   "source": [
    "for record in auto.tqdm(stats):\n",
    "    record['q+a_vector'] = model.encode(record[\"q+a\"])"
   ]
  },
  {
   "cell_type": "code",
   "execution_count": 44,
   "id": "6a10a360-d367-4cb5-94ed-ab54feed7f8f",
   "metadata": {},
   "outputs": [],
   "source": [
    "import pickle\n",
    "\n",
    "with open('data/ds.pkl', 'wb') as f:\n",
    "    pickle.dump(stats, f)"
   ]
  },
  {
   "cell_type": "code",
   "execution_count": 45,
   "id": "31585373-7aec-4460-8975-6430a57a0f68",
   "metadata": {},
   "outputs": [
    {
     "data": {
      "text/plain": [
       "ObjectApiResponse({'name': 'd1afa5160e88', 'cluster_name': 'docker-cluster', 'cluster_uuid': 'fkNVUkexQDeCEklNcE3vug', 'version': {'number': '8.4.3', 'build_flavor': 'default', 'build_type': 'docker', 'build_hash': '42f05b9372a9a4a470db3b52817899b99a76ee73', 'build_date': '2022-10-04T07:17:24.662462378Z', 'build_snapshot': False, 'lucene_version': '9.3.0', 'minimum_wire_compatibility_version': '7.17.0', 'minimum_index_compatibility_version': '7.0.0'}, 'tagline': 'You Know, for Search'})"
      ]
     },
     "execution_count": 45,
     "metadata": {},
     "output_type": "execute_result"
    }
   ],
   "source": [
    "from elasticsearch import Elasticsearch\n",
    "es_client = Elasticsearch('http://localhost:9200') \n",
    "\n",
    "es_client.info()"
   ]
  },
  {
   "cell_type": "code",
   "execution_count": 46,
   "id": "af881adf-0d23-4e5e-bb12-c39f6aa1d2e5",
   "metadata": {},
   "outputs": [],
   "source": [
    "index_settings = {\n",
    "    \"settings\": {\n",
    "        \"number_of_shards\": 1,\n",
    "        \"number_of_replicas\": 0\n",
    "    },\n",
    "    \"mappings\": {\n",
    "        \"properties\": {\n",
    "            \"id\": {\"type\": \"keyword\"},\n",
    "            \"section\": {\"type\": \"text\"},\n",
    "            \"question\": {\"type\": \"text\"},\n",
    "            \"answer\": {\"type\": \"text\"},\n",
    "            \"q+a_vector\": {\"type\": \"dense_vector\", \"dims\": 768, \"index\": True, \"similarity\": \"cosine\"},\n",
    "        }\n",
    "    }\n",
    "}"
   ]
  },
  {
   "cell_type": "code",
   "execution_count": 47,
   "id": "41364798-5683-41fd-a950-94fbee0d3dfa",
   "metadata": {},
   "outputs": [
    {
     "data": {
      "text/plain": [
       "ObjectApiResponse({'acknowledged': True, 'shards_acknowledged': True, 'index': 'data_science_db'})"
      ]
     },
     "execution_count": 47,
     "metadata": {},
     "output_type": "execute_result"
    }
   ],
   "source": [
    "index_name = \"data_science_db\"\n",
    "\n",
    "es_client.indices.delete(index=index_name, ignore_unavailable=True)\n",
    "es_client.indices.create(index=index_name, body=index_settings)"
   ]
  },
  {
   "cell_type": "code",
   "execution_count": 48,
   "id": "56ff8985-efac-4b8e-aeb7-5d7c0caf3a38",
   "metadata": {},
   "outputs": [
    {
     "data": {
      "application/vnd.jupyter.widget-view+json": {
       "model_id": "2af6dfca768d4c55bf3bdc753d5824a8",
       "version_major": 2,
       "version_minor": 0
      },
      "text/plain": [
       "  0%|          | 0/190 [00:00<?, ?it/s]"
      ]
     },
     "metadata": {},
     "output_type": "display_data"
    }
   ],
   "source": [
    "for doc in auto.tqdm(stats):\n",
    "    try:\n",
    "        es_client.index(index=index_name, document=doc)\n",
    "    except Exception as e:\n",
    "        print(e)"
   ]
  },
  {
   "cell_type": "code",
   "execution_count": 49,
   "id": "f5ff7c72-040e-445a-8cdd-44f298a31ad5",
   "metadata": {},
   "outputs": [
    {
     "data": {
      "text/plain": [
       "ListApiResponse([{'epoch': '1723824395', 'timestamp': '16:06:35', 'count': '190'}])"
      ]
     },
     "execution_count": 49,
     "metadata": {},
     "output_type": "execute_result"
    }
   ],
   "source": [
    "es_client.indices.refresh(index=index_name)\n",
    "es_client.cat.count(index=index_name, format=\"json\")"
   ]
  },
  {
   "cell_type": "code",
   "execution_count": 50,
   "id": "37a5d3be-c5bd-4371-a96b-7bc3c852caeb",
   "metadata": {},
   "outputs": [],
   "source": [
    "search_term = \"What is LDA?\"\n",
    "vector_search_term = model.encode(search_term)"
   ]
  },
  {
   "cell_type": "code",
   "execution_count": 51,
   "id": "f7dee661-d837-45cb-9668-da033d390b1f",
   "metadata": {},
   "outputs": [],
   "source": [
    "query = {\n",
    "    \"field\": \"q+a_vector\",\n",
    "    \"query_vector\": vector_search_term,\n",
    "    \"k\": 1,\n",
    "    \"num_candidates\": 100, \n",
    "}"
   ]
  },
  {
   "cell_type": "code",
   "execution_count": 52,
   "id": "217ab13c-ee75-4500-bb16-ffc952056b40",
   "metadata": {},
   "outputs": [
    {
     "data": {
      "text/plain": [
       "[{'_index': 'data_science_db',\n",
       "  '_id': 'XSjwW5EBxOWbIxg8pPFy',\n",
       "  '_score': 0.79996276,\n",
       "  '_ignored': ['q+a.keyword'],\n",
       "  '_source': {'question': 'Linear Discriminant Analysis',\n",
       "   'answer': 'Linear discriminant analysis is used as a tool for classification, dimension reduction, and data visualization. It has been around for quite some time now. Despite its simplicity, LDA often produces robust, decent, and interpretable classification results. When tackling real-world classification problems, LDA is often the benchmarking method before other more complicated and flexible ones are employed.\\n',\n",
       "   'section': 'Classic_models'}}]"
      ]
     },
     "execution_count": 52,
     "metadata": {},
     "output_type": "execute_result"
    }
   ],
   "source": [
    "res = es_client.search(index=index_name, knn=query, source=[\"section\", \"question\", \"answer\"])\n",
    "res[\"hits\"][\"hits\"]"
   ]
  },
  {
   "cell_type": "code",
   "execution_count": 53,
   "id": "b7dbff71-435d-4fed-a75a-c2e987602370",
   "metadata": {},
   "outputs": [],
   "source": [
    "# API_TOKEN = '...'"
   ]
  },
  {
   "cell_type": "code",
   "execution_count": 131,
   "id": "bcfdff5f-657d-4d78-bab9-20abbb28a7e0",
   "metadata": {},
   "outputs": [
    {
     "name": "stdout",
     "output_type": "stream",
     "text": [
      "Requirement already satisfied: huggingface_hub[cli] in c:\\users\\mary\\appdata\\roaming\\python\\python311\\site-packages (0.24.5)\n",
      "Requirement already satisfied: filelock in c:\\users\\mary\\anaconda3-2024\\lib\\site-packages (from huggingface_hub[cli]) (3.13.1)\n",
      "Requirement already satisfied: fsspec>=2023.5.0 in c:\\users\\mary\\anaconda3-2024\\lib\\site-packages (from huggingface_hub[cli]) (2023.10.0)\n",
      "Requirement already satisfied: packaging>=20.9 in c:\\users\\mary\\anaconda3-2024\\lib\\site-packages (from huggingface_hub[cli]) (23.1)\n",
      "Requirement already satisfied: pyyaml>=5.1 in c:\\users\\mary\\anaconda3-2024\\lib\\site-packages (from huggingface_hub[cli]) (6.0.1)\n",
      "Requirement already satisfied: requests in c:\\users\\mary\\anaconda3-2024\\lib\\site-packages (from huggingface_hub[cli]) (2.31.0)\n",
      "Requirement already satisfied: tqdm>=4.42.1 in c:\\users\\mary\\anaconda3-2024\\lib\\site-packages (from huggingface_hub[cli]) (4.65.0)\n",
      "Requirement already satisfied: typing-extensions>=3.7.4.3 in c:\\users\\mary\\anaconda3-2024\\lib\\site-packages (from huggingface_hub[cli]) (4.9.0)\n",
      "Requirement already satisfied: InquirerPy==0.3.4 in c:\\users\\mary\\anaconda3-2024\\lib\\site-packages (from huggingface_hub[cli]) (0.3.4)\n",
      "Requirement already satisfied: pfzy<0.4.0,>=0.3.1 in c:\\users\\mary\\anaconda3-2024\\lib\\site-packages (from InquirerPy==0.3.4->huggingface_hub[cli]) (0.3.4)\n",
      "Requirement already satisfied: prompt-toolkit<4.0.0,>=3.0.1 in c:\\users\\mary\\anaconda3-2024\\lib\\site-packages (from InquirerPy==0.3.4->huggingface_hub[cli]) (3.0.43)\n",
      "Requirement already satisfied: colorama in c:\\users\\mary\\anaconda3-2024\\lib\\site-packages (from tqdm>=4.42.1->huggingface_hub[cli]) (0.4.6)\n",
      "Requirement already satisfied: charset-normalizer<4,>=2 in c:\\users\\mary\\anaconda3-2024\\lib\\site-packages (from requests->huggingface_hub[cli]) (2.0.4)\n",
      "Requirement already satisfied: idna<4,>=2.5 in c:\\users\\mary\\anaconda3-2024\\lib\\site-packages (from requests->huggingface_hub[cli]) (3.4)\n",
      "Requirement already satisfied: urllib3<3,>=1.21.1 in c:\\users\\mary\\anaconda3-2024\\lib\\site-packages (from requests->huggingface_hub[cli]) (2.0.7)\n",
      "Requirement already satisfied: certifi>=2017.4.17 in c:\\users\\mary\\anaconda3-2024\\lib\\site-packages (from requests->huggingface_hub[cli]) (2024.2.2)\n",
      "Requirement already satisfied: wcwidth in c:\\users\\mary\\anaconda3-2024\\lib\\site-packages (from prompt-toolkit<4.0.0,>=3.0.1->InquirerPy==0.3.4->huggingface_hub[cli]) (0.2.5)\n"
     ]
    }
   ],
   "source": [
    "!pip install -U --user \"huggingface_hub[cli]\""
   ]
  },
  {
   "cell_type": "code",
   "execution_count": 20,
   "id": "89682a4d-8723-4204-b423-34dd2746bf1f",
   "metadata": {},
   "outputs": [
    {
     "name": "stdout",
     "output_type": "stream",
     "text": [
      "The token has not been saved to the git credentials helper. Pass `add_to_git_credential=True` in this function directly or `--add-to-git-credential` if using via `huggingface-cli` if you want to set the git credential as well.\n",
      "Token is valid (permission: write).\n",
      "Your token has been saved to C:\\Users\\mary\\.cache\\huggingface\\token\n",
      "Login successful\n"
     ]
    }
   ],
   "source": [
    "!huggingface-cli login --token=$API_TOKEN"
   ]
  },
  {
   "cell_type": "code",
   "execution_count": 54,
   "id": "b48156c2-073d-44cd-b1b0-b48b46fcd104",
   "metadata": {},
   "outputs": [],
   "source": [
    "import requests\n",
    "headers = {\"Authorization\": f\"Bearer {API_TOKEN}\"}\n",
    "API_URL = \"https://api-inference.huggingface.co/models/mistralai/Mixtral-8x7B-Instruct-v0.1\""
   ]
  },
  {
   "cell_type": "code",
   "execution_count": 55,
   "id": "5c326c07-21cf-4706-a9d0-9cc23f0f839f",
   "metadata": {},
   "outputs": [],
   "source": [
    "from huggingface_hub import InferenceClient"
   ]
  },
  {
   "cell_type": "code",
   "execution_count": 56,
   "id": "2ef913bb-ba15-4060-b1bb-297fe45ddde6",
   "metadata": {},
   "outputs": [],
   "source": [
    "headers = {\"Authorization\": f\"Bearer {API_TOKEN}\"}\n",
    "\n",
    "client = InferenceClient(\"mistralai/Mixtral-8x7B-Instruct-v0.1\", headers=headers)"
   ]
  },
  {
   "cell_type": "code",
   "execution_count": 57,
   "id": "4cc764cc-6dd3-4f14-b9de-4febf7acf420",
   "metadata": {},
   "outputs": [],
   "source": [
    "def llm(prompt, max_tokens=500):\n",
    "    return client.text_generation(prompt=prompt, max_new_tokens=max_tokens)"
   ]
  },
  {
   "cell_type": "code",
   "execution_count": 1,
   "id": "9d01fbeb-671a-4d1f-b9a5-64385feceb14",
   "metadata": {},
   "outputs": [],
   "source": [
    "# from transformers import AutoTokenizer, MixtralForCausalLM"
   ]
  },
  {
   "cell_type": "code",
   "execution_count": 3,
   "id": "2a16d179-7398-4b71-8bf2-fbecd54d7022",
   "metadata": {},
   "outputs": [],
   "source": [
    "# model = MixtralForCausalLM.from_pretrained(\"mistralai/Mixtral-8x7B-Instruct-v0.1\")"
   ]
  },
  {
   "cell_type": "code",
   "execution_count": 91,
   "id": "6b90d007-aab9-484f-8b9e-2a9d04c55ff6",
   "metadata": {},
   "outputs": [],
   "source": [
    "# def llm(prompt, max_tokens=500):\n",
    "#     model = MixtralForCausalLM.from_pretrained(\"mistralai/Mixtral-8x7B-Instruct-v0.1\")\n",
    "#     tokenizer = AutoTokenizer.from_pretrained(\"mistralai/Mixtral-8x7B-Instruct-v0.1\")\n",
    "#     inputs = tokenizer(prompt, return_tensors=\"pt\")\n",
    "#     # Generate\n",
    "#     generate_ids = model.generate(inputs.input_ids, max_length=max_tokens)\n",
    "#     return tokenizer.batch_decode(generate_ids, skip_special_tokens=True, clean_up_tokenization_spaces=False)[0]"
   ]
  },
  {
   "cell_type": "markdown",
   "id": "7113740b-1163-437b-b271-0d67b7317b01",
   "metadata": {},
   "source": [
    "Templates for prompts for our tasks:"
   ]
  },
  {
   "cell_type": "code",
   "execution_count": 58,
   "id": "79059c19-2de0-4596-8293-40f52d44c95a",
   "metadata": {},
   "outputs": [],
   "source": [
    "templates = {\n",
    "    'quiz': \"\"\"[INST]\n",
    "You're interviewing a user for a Data Scientist position. Ask a question using the QUESTION and the CONTEXT that you get. \n",
    "The answer to the question that you ask should be in the CONTEXT.\n",
    "You can rephrase the QUESTION or ask something different \n",
    "Make it short, do not give tips, do notgive the answer and do not write notes \n",
    "Don't start with 'Based on the context' or 'Question', just shoot it right away\n",
    "\n",
    "QUESTION: {question}\n",
    "CONTEXT: \n",
    "{context}\n",
    "[/INST]\n",
    "\"\"\",\n",
    "    'question': \"\"\"[INST]\n",
    "You're an assistant, helping to prepare for a Data Scientist interview. Answer the QUESTION based on the CONTEXT from the DS database. \n",
    "Use only the facts from the CONTEXT when answering the QUESTION. If you don't have an answer in CONTEXT, say it and stop. Don't write any additional information. \n",
    "Don't start with 'Based on'\n",
    "\n",
    "QUESTION: {question}\n",
    "\n",
    "CONTEXT: \n",
    "{context}\n",
    "[/INST]\n",
    "\"\"\"\n",
    "}"
   ]
  },
  {
   "cell_type": "code",
   "execution_count": 59,
   "id": "68f3ea52-9ae2-4ea5-ab3d-3ab86f6e12c8",
   "metadata": {},
   "outputs": [],
   "source": [
    "import random"
   ]
  },
  {
   "cell_type": "code",
   "execution_count": 60,
   "id": "d76a7d5d-b4d3-4415-b70d-2eb918813335",
   "metadata": {},
   "outputs": [],
   "source": [
    "def get_body(mode, query=None):\n",
    "    # answering the question mode\n",
    "    if mode == 'question':\n",
    "        body = {\n",
    "            'knn': {\n",
    "                \"field\": \"q+a_vector\",\n",
    "                \"k\": 5,\n",
    "                \"num_candidates\": 100, \n",
    "                \"query_vector\": query\n",
    "                },\n",
    "            '_source': [\"section\", \"question\", \"answer\"]\n",
    "        }\n",
    "    # asking user a question mode\n",
    "    if mode == 'quiz':\n",
    "        body = {\n",
    "    'size': 1,\n",
    "    '_source': [\"section\", \"question\", \"answer\", \"id\"],\n",
    "    'query': \n",
    "    {\n",
    "        \"function_score\": \n",
    "        {\n",
    "            \"random_score\": \n",
    "                {\n",
    "                    \"field\": 'id',\n",
    "                    \"seed\": random.randint(0, 10000000)\n",
    "                },\n",
    "           },\n",
    "        }\n",
    "    }\n",
    "    return body"
   ]
  },
  {
   "cell_type": "code",
   "execution_count": 61,
   "id": "ea279755-61a4-4145-93e4-5c5cbaf42240",
   "metadata": {},
   "outputs": [],
   "source": [
    "def elastic_search(query, mode):\n",
    "    vector_search_term = model.encode(query)\n",
    "    body = get_body(mode, vector_search_term)\n",
    "    response = es_client.search(index=index_name, body=body)\n",
    "    \n",
    "    result_docs = []\n",
    "    \n",
    "    for hit in response['hits']['hits']:\n",
    "        result_docs.append(hit['_source'])\n",
    "    return result_docs"
   ]
  },
  {
   "cell_type": "code",
   "execution_count": 62,
   "id": "de66f18d-8252-4686-9aff-9e44dd2f3962",
   "metadata": {},
   "outputs": [],
   "source": [
    "def build_prompt(query, search_results, mode):\n",
    "    prompt_template = templates[mode].strip()\n",
    "\n",
    "    context = \"\"\n",
    "    \n",
    "    for doc in search_results:\n",
    "        context = context + f\"section: {doc['section']}\\nquestion: {doc['question']}\\nanswer: {doc['answer']}\\n\\n\"\n",
    "    \n",
    "    prompt = prompt_template.format(question=query, context=context).strip()\n",
    "    return prompt"
   ]
  },
  {
   "cell_type": "code",
   "execution_count": 63,
   "id": "f2f99c33-1c08-4063-a5f3-09b0b33db7bf",
   "metadata": {},
   "outputs": [],
   "source": [
    "def rag(query, mode='question'):\n",
    "    search_results = elastic_search(query, mode)\n",
    "    prompt = build_prompt(query, search_results, mode)\n",
    "    answer = llm(prompt)\n",
    "    return answer.strip()"
   ]
  },
  {
   "cell_type": "markdown",
   "id": "8ac94461-f372-43f4-b295-92799dbed9f8",
   "metadata": {},
   "source": [
    "Getting answers to our questions:"
   ]
  },
  {
   "cell_type": "code",
   "execution_count": 64,
   "id": "8bc8ac53-08b1-485d-811c-8780e624b583",
   "metadata": {
    "scrolled": true
   },
   "outputs": [
    {
     "name": "stdout",
     "output_type": "stream",
     "text": [
      "It depends on the situation. If the current data is biased or if the model has high bias, getting more data may not necessarily be better. There is also a trade-off between having more data and the additional storage, computational power, and memory it requires. In cases where there is a lack of data, using simpler models, ensemble methods, transfer learning, data augmentation, or synthetic data can be used. Plotting data before performing analysis can also help find errors and understand the distribution of the data. The curse of dimensionality can make it difficult to work with high-dimensional data, and conducting PCA to reduce dimensionality can be helpful.\n"
     ]
    }
   ],
   "source": [
    "print(rag('Do we need a lot of data?'))"
   ]
  },
  {
   "cell_type": "code",
   "execution_count": 65,
   "id": "f6d8e3fe-3dae-4c8f-acec-e7a0f26638d6",
   "metadata": {},
   "outputs": [
    {
     "name": "stdout",
     "output_type": "stream",
     "text": [
      "The posterior is a type of conditional probability that results from updating the prior probability with information summarized by the likelihood via an application of Bayes' rule, as described in the context under \"Statistics\" and \"Bayes’ Theorem\" sections. It is expressed as p(θ | x).\n"
     ]
    }
   ],
   "source": [
    "print(rag('What is posterior?'))"
   ]
  },
  {
   "cell_type": "code",
   "execution_count": 68,
   "id": "1adafbb1-52cd-4cbe-9868-0c9c95a0e868",
   "metadata": {},
   "outputs": [
    {
     "name": "stdout",
     "output_type": "stream",
     "text": [
      "Adam is an optimization algorithm used in machine learning, specifically for training neural networks. It is popular due to its ease of implementation, computational efficiency, and little memory requirements. Adam combines the advantages of two other optimization methods, momentum and RMS-Prop, by computing adaptive learning rates for each parameter. It does this by keeping track of the decaying average of past gradients and the decaying average of past squared gradients, which helps to counteract biases in the estimates. Overall, Adam is a widely-used optimizer that can effectively minimize error functions and maximize the efficiency of production.\n"
     ]
    }
   ],
   "source": [
    "print(rag('What is Adam?'))"
   ]
  },
  {
   "cell_type": "markdown",
   "id": "28656fc2-8b75-4853-9f24-2a392713deab",
   "metadata": {},
   "source": [
    "Quizzing the user:"
   ]
  },
  {
   "cell_type": "code",
   "execution_count": 69,
   "id": "bfae1247-ae73-40af-ac1b-c316d7f34c2a",
   "metadata": {
    "scrolled": true
   },
   "outputs": [
    {
     "name": "stdout",
     "output_type": "stream",
     "text": [
      "Could you explain how a Box-Cox Transformation can help ensure that the residuals of a regression analysis satisfy the assumptions of an ordinary least squares regression?\n"
     ]
    }
   ],
   "source": [
    "print(rag('', 'quiz'))"
   ]
  },
  {
   "cell_type": "code",
   "execution_count": 85,
   "id": "658822cf-beec-4cd8-8ca1-52d4169bc323",
   "metadata": {},
   "outputs": [
    {
     "name": "stdout",
     "output_type": "stream",
     "text": [
      "Can you explain what the F1 score is and how it relates to precision and recall in the context of evaluating a classifier's performance?\n"
     ]
    }
   ],
   "source": [
    "print(rag('', 'quiz'))"
   ]
  },
  {
   "cell_type": "markdown",
   "id": "215e7278-e6f5-45db-a63e-28399f056c6d",
   "metadata": {},
   "source": [
    "## RAG evaluation"
   ]
  },
  {
   "cell_type": "code",
   "execution_count": 651,
   "id": "32e3e184-acf5-4063-8059-f7c707518c42",
   "metadata": {},
   "outputs": [],
   "source": [
    "stats_sim = stats.copy()"
   ]
  },
  {
   "cell_type": "code",
   "execution_count": 655,
   "id": "b66df366-d7bd-45d2-8691-69ed61b7ade5",
   "metadata": {},
   "outputs": [
    {
     "data": {
      "application/vnd.jupyter.widget-view+json": {
       "model_id": "f44ea84268ef4d718e4b73f3190f6795",
       "version_major": 2,
       "version_minor": 0
      },
      "text/plain": [
       "0it [00:00, ?it/s]"
      ]
     },
     "metadata": {},
     "output_type": "display_data"
    }
   ],
   "source": [
    "for i, rec in auto.tqdm(ds.iterrows()):\n",
    "    if rec['rag_answer'] is not None:\n",
    "        continue\n",
    "    answer_llm = rag(rec['question'])\n",
    "    stats_sim[i]['rag_answer'] = answer_llm\n",
    "    v_llm = model.encode(answer_llm)\n",
    "    v_orig = model.encode(rec['question'])\n",
    "    similarity = v_llm.dot(v_orig)\n",
    "    stats_sim[i]['similarity'] = similarity"
   ]
  },
  {
   "cell_type": "code",
   "execution_count": 656,
   "id": "34f7963c-1972-452e-9efc-94861599b4c0",
   "metadata": {},
   "outputs": [],
   "source": [
    "df_sim = pd.DataFrame(stats_sim)"
   ]
  },
  {
   "cell_type": "code",
   "execution_count": 658,
   "id": "f529c19f-f37a-4725-85e7-9a2897efce82",
   "metadata": {},
   "outputs": [
    {
     "data": {
      "text/plain": [
       "count    104.000000\n",
       "mean       0.720578\n",
       "std        0.124133\n",
       "min        0.242122\n",
       "25%        0.674268\n",
       "50%        0.747650\n",
       "75%        0.802675\n",
       "max        0.912027\n",
       "Name: similarity, dtype: float64"
      ]
     },
     "execution_count": 658,
     "metadata": {},
     "output_type": "execute_result"
    }
   ],
   "source": [
    "df_sim['similarity'].describe()"
   ]
  },
  {
   "cell_type": "code",
   "execution_count": 660,
   "id": "b95ad089-11a9-4df8-9826-5f8dbfe1c15c",
   "metadata": {},
   "outputs": [],
   "source": [
    "import seaborn as sns"
   ]
  },
  {
   "cell_type": "code",
   "execution_count": 669,
   "id": "89aac841-32a5-40ef-9750-d182121923c2",
   "metadata": {},
   "outputs": [
    {
     "name": "stderr",
     "output_type": "stream",
     "text": [
      "C:\\Users\\mary\\anaconda3-2024\\Lib\\site-packages\\seaborn\\_oldcore.py:1119: FutureWarning: use_inf_as_na option is deprecated and will be removed in a future version. Convert inf values to NaN before operating instead.\n",
      "  with pd.option_context('mode.use_inf_as_na', True):\n"
     ]
    },
    {
     "data": {
      "text/plain": [
       "<Axes: xlabel='similarity', ylabel='Density'>"
      ]
     },
     "execution_count": 669,
     "metadata": {},
     "output_type": "execute_result"
    },
    {
     "data": {
      "image/png": "[encoded data removed]",
      "text/plain": [
       "<Figure size 640x480 with 1 Axes>"
      ]
     },
     "metadata": {},
     "output_type": "display_data"
    }
   ],
   "source": [
    "sns.kdeplot(df_sim['similarity'])"
   ]
  },
  {
   "cell_type": "code",
   "execution_count": 687,
   "id": "51eaf7ff-3a7b-44df-9c9d-9f1540051568",
   "metadata": {},
   "outputs": [],
   "source": [
    "prompt_template = \"\"\"[INST]\n",
    "You are an expert evaluator for a Retrieval-Augmented Generation (RAG) system.\n",
    "Your task is to analyze the relevance of the generated answer compared to the original answer provided.\n",
    "Based on the relevance and similarity of the generated answer to the original answer, you will classify\n",
    "it as \"NON_RELEVANT\", \"PARTLY_RELEVANT\", or \"RELEVANT\".\n",
    "\n",
    "Here is the data for evaluation:\n",
    "\n",
    "Original Answer: {answer}\n",
    "Generated Question: {question}\n",
    "Generated Answer: {rag_answer}\n",
    "\n",
    "Please analyze the content and context of the generated answer in relation to the original\n",
    "answer and provide your evaluation in parsable JSON without using code blocks:\n",
    "\n",
    "{{\n",
    "  \"Relevance\": \"NON_RELEVANT\" | \"PARTLY_RELEVANT\" | \"RELEVANT\",\n",
    "  \"Explanation\": \"[Provide a brief explanation for your evaluation]\"\n",
    "}}\n",
    "[/INST]\"\"\".strip()"
   ]
  },
  {
   "cell_type": "code",
   "execution_count": 688,
   "id": "9e8debaa-c5f6-48ca-a599-b1f1c555b0b2",
   "metadata": {},
   "outputs": [],
   "source": [
    "record = stats_sim[0]"
   ]
  },
  {
   "cell_type": "code",
   "execution_count": 689,
   "id": "951f6da4-73b2-475e-8641-fdaa9f2f469c",
   "metadata": {},
   "outputs": [],
   "source": [
    "prompt = prompt_template.format(**record)"
   ]
  },
  {
   "cell_type": "code",
   "execution_count": 690,
   "id": "c0038564-1ff6-4cff-a802-6a1f4575aa57",
   "metadata": {},
   "outputs": [
    {
     "data": {
      "text/plain": [
       "' {\\n  \"Relevance\": \"RELEVANT\",\\n  \"Explanation\": \"The generated answer compares and contrasts multiple methods for predicting a binary response variable, providing a detailed analysis of each method. This is highly relevant to the original answer, which also discusses various factors to consider when choosing between different prediction methods. The generated answer covers most of the key points from the original answer, such as the suitability of Logistic Regression for linear problems and the efficiency of SVM for non-linear problems, albeit in a more generalized manner.\"\\n}'"
      ]
     },
     "execution_count": 690,
     "metadata": {},
     "output_type": "execute_result"
    }
   ],
   "source": [
    "llm(prompt)"
   ]
  },
  {
   "cell_type": "code",
   "execution_count": 692,
   "id": "98b8f856-c3db-4ad4-945b-80fecc9090cb",
   "metadata": {},
   "outputs": [],
   "source": [
    "import json"
   ]
  },
  {
   "cell_type": "code",
   "execution_count": 696,
   "id": "3d36f4bb-5678-45d1-8029-a5851249324f",
   "metadata": {},
   "outputs": [
    {
     "data": {
      "application/vnd.jupyter.widget-view+json": {
       "model_id": "ead3016af7384c408e5c221f56c208f4",
       "version_major": 2,
       "version_minor": 0
      },
      "text/plain": [
       "  0%|          | 0/104 [00:00<?, ?it/s]"
      ]
     },
     "metadata": {},
     "output_type": "display_data"
    }
   ],
   "source": [
    "json_evaluations = []\n",
    "\n",
    "for i, record in enumerate(auto.tqdm(stats_sim)):\n",
    "    prompt = prompt_template.format(**record)\n",
    "    result = llm(prompt)\n",
    "    json_eval = json.loads(result)\n",
    "    json_evaluations.append(json_eval)"
   ]
  },
  {
   "cell_type": "code",
   "execution_count": 699,
   "id": "11748f24-73b9-49c4-b4a0-9e1c41333751",
   "metadata": {},
   "outputs": [],
   "source": [
    "df_eval = pd.DataFrame(json_evaluations)"
   ]
  },
  {
   "cell_type": "code",
   "execution_count": 700,
   "id": "5aadf540-8f74-48f4-9e94-9290f11fcf6f",
   "metadata": {},
   "outputs": [
    {
     "data": {
      "text/plain": [
       "Relevance\n",
       "RELEVANT           72\n",
       "PARTLY_RELEVANT    29\n",
       "NON_RELEVANT        3\n",
       "Name: count, dtype: int64"
      ]
     },
     "execution_count": 700,
     "metadata": {},
     "output_type": "execute_result"
    }
   ],
   "source": [
    "df_eval.Relevance.value_counts()"
   ]
  },
  {
   "cell_type": "code",
   "execution_count": 703,
   "id": "ba237855-4848-47ae-8706-c0ec77381e78",
   "metadata": {},
   "outputs": [],
   "source": [
    "df_sim = pd.concat([df_sim, df_eval], axis=1)"
   ]
  },
  {
   "cell_type": "code",
   "execution_count": 707,
   "id": "28d4b97d-0eeb-43a6-8e0a-b0f5a46de5b3",
   "metadata": {},
   "outputs": [
    {
     "data": {
      "text/html": [
       "<div>\n",
       "<style scoped>\n",
       "    .dataframe tbody tr th:only-of-type {\n",
       "        vertical-align: middle;\n",
       "    }\n",
       "\n",
       "    .dataframe tbody tr th {\n",
       "        vertical-align: top;\n",
       "    }\n",
       "\n",
       "    .dataframe thead th {\n",
       "        text-align: right;\n",
       "    }\n",
       "</style>\n",
       "<table border=\"1\" class=\"dataframe\">\n",
       "  <thead>\n",
       "    <tr style=\"text-align: right;\">\n",
       "      <th></th>\n",
       "      <th>question</th>\n",
       "      <th>answer</th>\n",
       "      <th>rag_answer</th>\n",
       "    </tr>\n",
       "  </thead>\n",
       "  <tbody>\n",
       "    <tr>\n",
       "      <th>75</th>\n",
       "      <td>Matrix differentiation</td>\n",
       "      <td>In mathematics, a real-valued function is call...</td>\n",
       "      <td>Based on the context provided, there is no dir...</td>\n",
       "    </tr>\n",
       "    <tr>\n",
       "      <th>78</th>\n",
       "      <td>Why F1-Score is a Harmonic Mean(HM) of Precisi...</td>\n",
       "      <td>Precision = 0, Recall = 1\\r\\nAvg = 0.5\\r\\nF1 =...</td>\n",
       "      <td>I don't have the answer to why F1-Score is a H...</td>\n",
       "    </tr>\n",
       "    <tr>\n",
       "      <th>88</th>\n",
       "      <td>What are the confidence intervals of the coeff...</td>\n",
       "      <td>Confidence interval (CI) is a type of interval...</td>\n",
       "      <td>Confidence intervals of the coefficients canno...</td>\n",
       "    </tr>\n",
       "  </tbody>\n",
       "</table>\n",
       "</div>"
      ],
      "text/plain": [
       "                                             question  \\\n",
       "75                             Matrix differentiation   \n",
       "78  Why F1-Score is a Harmonic Mean(HM) of Precisi...   \n",
       "88  What are the confidence intervals of the coeff...   \n",
       "\n",
       "                                               answer  \\\n",
       "75  In mathematics, a real-valued function is call...   \n",
       "78  Precision = 0, Recall = 1\\r\\nAvg = 0.5\\r\\nF1 =...   \n",
       "88  Confidence interval (CI) is a type of interval...   \n",
       "\n",
       "                                           rag_answer  \n",
       "75  Based on the context provided, there is no dir...  \n",
       "78  I don't have the answer to why F1-Score is a H...  \n",
       "88  Confidence intervals of the coefficients canno...  "
      ]
     },
     "execution_count": 707,
     "metadata": {},
     "output_type": "execute_result"
    }
   ],
   "source": [
    "df_sim[df_sim['Relevance'] == 'NON_RELEVANT'][['question', 'answer', 'rag_answer']]"
   ]
  },
  {
   "cell_type": "code",
   "execution_count": 709,
   "id": "fd13fe71-b207-4d5f-aec8-c0e329683fdf",
   "metadata": {},
   "outputs": [],
   "source": [
    "df_sim.to_csv('data/data_evaluation.csv')"
   ]
  },
  {
   "cell_type": "code",
   "execution_count": null,
   "id": "c871b81a-afe7-47a3-bdc9-748e0f944b36",
   "metadata": {},
   "outputs": [],
   "source": []
  }
 ],
 "metadata": {
  "kernelspec": {
   "display_name": "Python 3 (ipykernel)",
   "language": "python",
   "name": "python3"
  },
  "language_info": {
   "codemirror_mode": {
    "name": "ipython",
    "version": 3
   },
   "file_extension": ".py",
   "mimetype": "text/x-python",
   "name": "python",
   "nbconvert_exporter": "python",
   "pygments_lexer": "ipython3",
   "version": "3.11.7"
  }
 },
 "nbformat": 4,
 "nbformat_minor": 5
}
