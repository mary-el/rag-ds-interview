{
 "cells": [
  {
   "cell_type": "markdown",
   "id": "c9978ae0-9054-4521-8768-d0a37f7dd99f",
   "metadata": {},
   "source": [
    "# RAG for Data Science interview preparation"
   ]
  },
  {
   "cell_type": "code",
   "execution_count": 1,
   "id": "d1208f9b-09c8-4f7a-98aa-1e6f5ef8506c",
   "metadata": {},
   "outputs": [
    {
     "name": "stderr",
     "output_type": "stream",
     "text": [
      "ERROR: Could not find a version that satisfies the requirement sentence_transformer (from versions: none)\n",
      "ERROR: No matching distribution found for sentence_transformer\n"
     ]
    }
   ],
   "source": [
    "!pip install sentence_transformer"
   ]
  },
  {
   "cell_type": "code",
   "execution_count": 512,
   "id": "d69054b4-b4ed-4f1f-999f-90b7c2d5c552",
   "metadata": {
    "scrolled": true
   },
   "outputs": [],
   "source": [
    "from sentence_transformers import SentenceTransformer\n",
    "import pandas as pd\n",
    "from tqdm import auto"
   ]
  },
  {
   "cell_type": "code",
   "execution_count": 513,
   "id": "795cf21e-47fe-411c-9082-6d1faaaf9304",
   "metadata": {},
   "outputs": [],
   "source": [
    "model = SentenceTransformer('all-mpnet-base-v2')"
   ]
  },
  {
   "cell_type": "code",
   "execution_count": 514,
   "id": "e27d7c77-5652-4798-aad4-e478ad1758de",
   "metadata": {
    "scrolled": true
   },
   "outputs": [
    {
     "data": {
      "text/html": [
       "<div>\n",
       "<style scoped>\n",
       "    .dataframe tbody tr th:only-of-type {\n",
       "        vertical-align: middle;\n",
       "    }\n",
       "\n",
       "    .dataframe tbody tr th {\n",
       "        vertical-align: top;\n",
       "    }\n",
       "\n",
       "    .dataframe thead th {\n",
       "        text-align: right;\n",
       "    }\n",
       "</style>\n",
       "<table border=\"1\" class=\"dataframe\">\n",
       "  <thead>\n",
       "    <tr style=\"text-align: right;\">\n",
       "      <th></th>\n",
       "      <th>section</th>\n",
       "      <th>question</th>\n",
       "      <th>answer</th>\n",
       "    </tr>\n",
       "  </thead>\n",
       "  <tbody>\n",
       "    <tr>\n",
       "      <th>0</th>\n",
       "      <td>Classic_models</td>\n",
       "      <td>What are various ways to predict a binary resp...</td>\n",
       "      <td>Things to look at: N, P, linearly seperable?, ...</td>\n",
       "    </tr>\n",
       "    <tr>\n",
       "      <th>1</th>\n",
       "      <td>Classic_models</td>\n",
       "      <td>What methods for solving linear regression do ...</td>\n",
       "      <td>To solve linear regression, you need to find t...</td>\n",
       "    </tr>\n",
       "    <tr>\n",
       "      <th>2</th>\n",
       "      <td>Classic_models</td>\n",
       "      <td>What clustering algorithms do you know?</td>\n",
       "      <td>k-medoids: Takes the most central point instea...</td>\n",
       "    </tr>\n",
       "    <tr>\n",
       "      <th>3</th>\n",
       "      <td>Classic_models</td>\n",
       "      <td>How does DBScan work?</td>\n",
       "      <td>Two input parameters epsilon (neighborhood rad...</td>\n",
       "    </tr>\n",
       "    <tr>\n",
       "      <th>4</th>\n",
       "      <td>Classic_models</td>\n",
       "      <td>When would you choose K-means and when DBScan?</td>\n",
       "      <td>DBScan is more robust to noise.\\r\\nDBScan is b...</td>\n",
       "    </tr>\n",
       "    <tr>\n",
       "      <th>...</th>\n",
       "      <td>...</td>\n",
       "      <td>...</td>\n",
       "      <td>...</td>\n",
       "    </tr>\n",
       "    <tr>\n",
       "      <th>99</th>\n",
       "      <td>Statistics</td>\n",
       "      <td>Conjugate Prior</td>\n",
       "      <td>According to Bayes’ theorem (6.23), the poster...</td>\n",
       "    </tr>\n",
       "    <tr>\n",
       "      <th>100</th>\n",
       "      <td>Statistics</td>\n",
       "      <td>Are there any differences between the expected...</td>\n",
       "      <td>Expected value is used when we want to calcula...</td>\n",
       "    </tr>\n",
       "    <tr>\n",
       "      <th>101</th>\n",
       "      <td>Statistics</td>\n",
       "      <td>How do you identify if a coin is biased?</td>\n",
       "      <td>We collect data by flipping the coin 200 times...</td>\n",
       "    </tr>\n",
       "    <tr>\n",
       "      <th>102</th>\n",
       "      <td>Statistics</td>\n",
       "      <td>Exponential Family</td>\n",
       "      <td>An exponential family is a family of probabili...</td>\n",
       "    </tr>\n",
       "    <tr>\n",
       "      <th>103</th>\n",
       "      <td>Statistics</td>\n",
       "      <td>What Is a Statistical Interaction?</td>\n",
       "      <td>A statistical interaction is when two or more ...</td>\n",
       "    </tr>\n",
       "  </tbody>\n",
       "</table>\n",
       "<p>104 rows × 3 columns</p>\n",
       "</div>"
      ],
      "text/plain": [
       "            section                                           question  \\\n",
       "0    Classic_models  What are various ways to predict a binary resp...   \n",
       "1    Classic_models  What methods for solving linear regression do ...   \n",
       "2    Classic_models           What clustering algorithms do you know?    \n",
       "3    Classic_models                              How does DBScan work?   \n",
       "4    Classic_models    When would you choose K-means and when DBScan?    \n",
       "..              ...                                                ...   \n",
       "99       Statistics                                    Conjugate Prior   \n",
       "100      Statistics  Are there any differences between the expected...   \n",
       "101      Statistics           How do you identify if a coin is biased?   \n",
       "102      Statistics                                 Exponential Family   \n",
       "103      Statistics                 What Is a Statistical Interaction?   \n",
       "\n",
       "                                                answer  \n",
       "0    Things to look at: N, P, linearly seperable?, ...  \n",
       "1    To solve linear regression, you need to find t...  \n",
       "2    k-medoids: Takes the most central point instea...  \n",
       "3    Two input parameters epsilon (neighborhood rad...  \n",
       "4    DBScan is more robust to noise.\\r\\nDBScan is b...  \n",
       "..                                                 ...  \n",
       "99   According to Bayes’ theorem (6.23), the poster...  \n",
       "100  Expected value is used when we want to calcula...  \n",
       "101  We collect data by flipping the coin 200 times...  \n",
       "102  An exponential family is a family of probabili...  \n",
       "103  A statistical interaction is when two or more ...  \n",
       "\n",
       "[104 rows x 3 columns]"
      ]
     },
     "execution_count": 514,
     "metadata": {},
     "output_type": "execute_result"
    }
   ],
   "source": [
    "ds = pd.read_csv('data/db.csv')\n",
    "ds"
   ]
  },
  {
   "cell_type": "code",
   "execution_count": 515,
   "id": "cc73faf0-8747-4dd9-a6a0-31608a93b62a",
   "metadata": {},
   "outputs": [
    {
     "data": {
      "text/html": [
       "<div>\n",
       "<style scoped>\n",
       "    .dataframe tbody tr th:only-of-type {\n",
       "        vertical-align: middle;\n",
       "    }\n",
       "\n",
       "    .dataframe tbody tr th {\n",
       "        vertical-align: top;\n",
       "    }\n",
       "\n",
       "    .dataframe thead th {\n",
       "        text-align: right;\n",
       "    }\n",
       "</style>\n",
       "<table border=\"1\" class=\"dataframe\">\n",
       "  <thead>\n",
       "    <tr style=\"text-align: right;\">\n",
       "      <th></th>\n",
       "      <th>section</th>\n",
       "      <th>question</th>\n",
       "      <th>answer</th>\n",
       "      <th>q+a</th>\n",
       "    </tr>\n",
       "  </thead>\n",
       "  <tbody>\n",
       "    <tr>\n",
       "      <th>0</th>\n",
       "      <td>Classic_models</td>\n",
       "      <td>What are various ways to predict a binary resp...</td>\n",
       "      <td>Things to look at: N, P, linearly seperable?, ...</td>\n",
       "      <td>What are various ways to predict a binary resp...</td>\n",
       "    </tr>\n",
       "    <tr>\n",
       "      <th>1</th>\n",
       "      <td>Classic_models</td>\n",
       "      <td>What methods for solving linear regression do ...</td>\n",
       "      <td>To solve linear regression, you need to find t...</td>\n",
       "      <td>What methods for solving linear regression do ...</td>\n",
       "    </tr>\n",
       "    <tr>\n",
       "      <th>2</th>\n",
       "      <td>Classic_models</td>\n",
       "      <td>What clustering algorithms do you know?</td>\n",
       "      <td>k-medoids: Takes the most central point instea...</td>\n",
       "      <td>What clustering algorithms do you know?  k-med...</td>\n",
       "    </tr>\n",
       "    <tr>\n",
       "      <th>3</th>\n",
       "      <td>Classic_models</td>\n",
       "      <td>How does DBScan work?</td>\n",
       "      <td>Two input parameters epsilon (neighborhood rad...</td>\n",
       "      <td>How does DBScan work? Two input parameters eps...</td>\n",
       "    </tr>\n",
       "    <tr>\n",
       "      <th>4</th>\n",
       "      <td>Classic_models</td>\n",
       "      <td>When would you choose K-means and when DBScan?</td>\n",
       "      <td>DBScan is more robust to noise.\\r\\nDBScan is b...</td>\n",
       "      <td>When would you choose K-means and when DBScan?...</td>\n",
       "    </tr>\n",
       "    <tr>\n",
       "      <th>...</th>\n",
       "      <td>...</td>\n",
       "      <td>...</td>\n",
       "      <td>...</td>\n",
       "      <td>...</td>\n",
       "    </tr>\n",
       "    <tr>\n",
       "      <th>99</th>\n",
       "      <td>Statistics</td>\n",
       "      <td>Conjugate Prior</td>\n",
       "      <td>According to Bayes’ theorem (6.23), the poster...</td>\n",
       "      <td>Conjugate Prior According to Bayes’ theorem (6...</td>\n",
       "    </tr>\n",
       "    <tr>\n",
       "      <th>100</th>\n",
       "      <td>Statistics</td>\n",
       "      <td>Are there any differences between the expected...</td>\n",
       "      <td>Expected value is used when we want to calcula...</td>\n",
       "      <td>Are there any differences between the expected...</td>\n",
       "    </tr>\n",
       "    <tr>\n",
       "      <th>101</th>\n",
       "      <td>Statistics</td>\n",
       "      <td>How do you identify if a coin is biased?</td>\n",
       "      <td>We collect data by flipping the coin 200 times...</td>\n",
       "      <td>How do you identify if a coin is biased? We co...</td>\n",
       "    </tr>\n",
       "    <tr>\n",
       "      <th>102</th>\n",
       "      <td>Statistics</td>\n",
       "      <td>Exponential Family</td>\n",
       "      <td>An exponential family is a family of probabili...</td>\n",
       "      <td>Exponential Family An exponential family is a ...</td>\n",
       "    </tr>\n",
       "    <tr>\n",
       "      <th>103</th>\n",
       "      <td>Statistics</td>\n",
       "      <td>What Is a Statistical Interaction?</td>\n",
       "      <td>A statistical interaction is when two or more ...</td>\n",
       "      <td>What Is a Statistical Interaction? A statistic...</td>\n",
       "    </tr>\n",
       "  </tbody>\n",
       "</table>\n",
       "<p>104 rows × 4 columns</p>\n",
       "</div>"
      ],
      "text/plain": [
       "            section                                           question  \\\n",
       "0    Classic_models  What are various ways to predict a binary resp...   \n",
       "1    Classic_models  What methods for solving linear regression do ...   \n",
       "2    Classic_models           What clustering algorithms do you know?    \n",
       "3    Classic_models                              How does DBScan work?   \n",
       "4    Classic_models    When would you choose K-means and when DBScan?    \n",
       "..              ...                                                ...   \n",
       "99       Statistics                                    Conjugate Prior   \n",
       "100      Statistics  Are there any differences between the expected...   \n",
       "101      Statistics           How do you identify if a coin is biased?   \n",
       "102      Statistics                                 Exponential Family   \n",
       "103      Statistics                 What Is a Statistical Interaction?   \n",
       "\n",
       "                                                answer  \\\n",
       "0    Things to look at: N, P, linearly seperable?, ...   \n",
       "1    To solve linear regression, you need to find t...   \n",
       "2    k-medoids: Takes the most central point instea...   \n",
       "3    Two input parameters epsilon (neighborhood rad...   \n",
       "4    DBScan is more robust to noise.\\r\\nDBScan is b...   \n",
       "..                                                 ...   \n",
       "99   According to Bayes’ theorem (6.23), the poster...   \n",
       "100  Expected value is used when we want to calcula...   \n",
       "101  We collect data by flipping the coin 200 times...   \n",
       "102  An exponential family is a family of probabili...   \n",
       "103  A statistical interaction is when two or more ...   \n",
       "\n",
       "                                                   q+a  \n",
       "0    What are various ways to predict a binary resp...  \n",
       "1    What methods for solving linear regression do ...  \n",
       "2    What clustering algorithms do you know?  k-med...  \n",
       "3    How does DBScan work? Two input parameters eps...  \n",
       "4    When would you choose K-means and when DBScan?...  \n",
       "..                                                 ...  \n",
       "99   Conjugate Prior According to Bayes’ theorem (6...  \n",
       "100  Are there any differences between the expected...  \n",
       "101  How do you identify if a coin is biased? We co...  \n",
       "102  Exponential Family An exponential family is a ...  \n",
       "103  What Is a Statistical Interaction? A statistic...  \n",
       "\n",
       "[104 rows x 4 columns]"
      ]
     },
     "execution_count": 515,
     "metadata": {},
     "output_type": "execute_result"
    }
   ],
   "source": [
    "ds['q+a'] = ds['question'] + ' ' + ds['answer']\n",
    "ds"
   ]
  },
  {
   "cell_type": "code",
   "execution_count": 516,
   "id": "a418b48f-a9c4-4cfe-a342-699988128069",
   "metadata": {},
   "outputs": [],
   "source": [
    "ds = ds.reset_index().rename(columns={'index': 'id'})"
   ]
  },
  {
   "cell_type": "code",
   "execution_count": 517,
   "id": "cd31e5cc-6c7f-4dc9-966e-ea84cf625a4f",
   "metadata": {
    "scrolled": true
   },
   "outputs": [],
   "source": [
    "stats = ds.to_dict('records')"
   ]
  },
  {
   "cell_type": "markdown",
   "id": "833ba067-ab6a-4ffc-a246-5b8bb5099206",
   "metadata": {},
   "source": [
    "Let's encode the field, containing question and answer, into vector, so we can use it for the search:"
   ]
  },
  {
   "cell_type": "code",
   "execution_count": 518,
   "id": "51f7565f-f474-4528-9644-feaa83cdfa56",
   "metadata": {},
   "outputs": [
    {
     "data": {
      "application/vnd.jupyter.widget-view+json": {
       "model_id": "a2f50ddbdf5a4149bf0bc1c6d53f1e8b",
       "version_major": 2,
       "version_minor": 0
      },
      "text/plain": [
       "  0%|          | 0/104 [00:00<?, ?it/s]"
      ]
     },
     "metadata": {},
     "output_type": "display_data"
    }
   ],
   "source": [
    "for record in auto.tqdm(stats):\n",
    "    record['q+a_vector'] = model.encode(record[\"q+a\"])"
   ]
  },
  {
   "cell_type": "code",
   "execution_count": 519,
   "id": "6a10a360-d367-4cb5-94ed-ab54feed7f8f",
   "metadata": {},
   "outputs": [],
   "source": [
    "import pickle\n",
    "\n",
    "with open('data/ds.pkl', 'wb') as f:\n",
    "    pickle.dump(stats, f)"
   ]
  },
  {
   "cell_type": "code",
   "execution_count": 536,
   "id": "31585373-7aec-4460-8975-6430a57a0f68",
   "metadata": {},
   "outputs": [
    {
     "data": {
      "text/plain": [
       "ObjectApiResponse({'name': 'd1afa5160e88', 'cluster_name': 'docker-cluster', 'cluster_uuid': 'fkNVUkexQDeCEklNcE3vug', 'version': {'number': '8.4.3', 'build_flavor': 'default', 'build_type': 'docker', 'build_hash': '42f05b9372a9a4a470db3b52817899b99a76ee73', 'build_date': '2022-10-04T07:17:24.662462378Z', 'build_snapshot': False, 'lucene_version': '9.3.0', 'minimum_wire_compatibility_version': '7.17.0', 'minimum_index_compatibility_version': '7.0.0'}, 'tagline': 'You Know, for Search'})"
      ]
     },
     "execution_count": 536,
     "metadata": {},
     "output_type": "execute_result"
    }
   ],
   "source": [
    "from elasticsearch import Elasticsearch\n",
    "es_client = Elasticsearch('http://localhost:9200') \n",
    "\n",
    "es_client.info()"
   ]
  },
  {
   "cell_type": "code",
   "execution_count": 537,
   "id": "af881adf-0d23-4e5e-bb12-c39f6aa1d2e5",
   "metadata": {},
   "outputs": [],
   "source": [
    "index_settings = {\n",
    "    \"settings\": {\n",
    "        \"number_of_shards\": 1,\n",
    "        \"number_of_replicas\": 0\n",
    "    },\n",
    "    \"mappings\": {\n",
    "        \"properties\": {\n",
    "            \"id\": {\"type\": \"keyword\"},\n",
    "            \"section\": {\"type\": \"text\"},\n",
    "            \"question\": {\"type\": \"text\"},\n",
    "            \"answer\": {\"type\": \"text\"},\n",
    "            \"q+a_vector\": {\"type\": \"dense_vector\", \"dims\": 768, \"index\": True, \"similarity\": \"cosine\"},\n",
    "        }\n",
    "    }\n",
    "}"
   ]
  },
  {
   "cell_type": "code",
   "execution_count": 542,
   "id": "41364798-5683-41fd-a950-94fbee0d3dfa",
   "metadata": {},
   "outputs": [
    {
     "data": {
      "text/plain": [
       "ObjectApiResponse({'acknowledged': True, 'shards_acknowledged': True, 'index': 'data_science_db'})"
      ]
     },
     "execution_count": 542,
     "metadata": {},
     "output_type": "execute_result"
    }
   ],
   "source": [
    "index_name = \"data_science_db\"\n",
    "\n",
    "es_client.indices.delete(index=index_name, ignore_unavailable=True)\n",
    "es_client.indices.create(index=index_name, body=index_settings)"
   ]
  },
  {
   "cell_type": "code",
   "execution_count": 543,
   "id": "56ff8985-efac-4b8e-aeb7-5d7c0caf3a38",
   "metadata": {},
   "outputs": [
    {
     "data": {
      "application/vnd.jupyter.widget-view+json": {
       "model_id": "eb6d18b9d9a44ccca8d07e1a37c59c7b",
       "version_major": 2,
       "version_minor": 0
      },
      "text/plain": [
       "  0%|          | 0/104 [00:00<?, ?it/s]"
      ]
     },
     "metadata": {},
     "output_type": "display_data"
    }
   ],
   "source": [
    "for doc in auto.tqdm(stats):\n",
    "    try:\n",
    "        es_client.index(index=index_name, document=doc)\n",
    "    except Exception as e:\n",
    "        print(e)"
   ]
  },
  {
   "cell_type": "code",
   "execution_count": 545,
   "id": "f5ff7c72-040e-445a-8cdd-44f298a31ad5",
   "metadata": {},
   "outputs": [
    {
     "data": {
      "text/plain": [
       "ListApiResponse([{'epoch': '1723394861', 'timestamp': '16:47:41', 'count': '104'}])"
      ]
     },
     "execution_count": 545,
     "metadata": {},
     "output_type": "execute_result"
    }
   ],
   "source": [
    "es_client.indices.refresh(index=index_name)\n",
    "es_client.cat.count(index=index_name, format=\"json\")"
   ]
  },
  {
   "cell_type": "code",
   "execution_count": 546,
   "id": "37a5d3be-c5bd-4371-a96b-7bc3c852caeb",
   "metadata": {},
   "outputs": [],
   "source": [
    "search_term = \"What is LDA?\"\n",
    "vector_search_term = model.encode(search_term)"
   ]
  },
  {
   "cell_type": "code",
   "execution_count": 547,
   "id": "f7dee661-d837-45cb-9668-da033d390b1f",
   "metadata": {},
   "outputs": [],
   "source": [
    "query = {\n",
    "    \"field\": \"q+a_vector\",\n",
    "    \"query_vector\": vector_search_term,\n",
    "    \"k\": 1,\n",
    "    \"num_candidates\": 100, \n",
    "}"
   ]
  },
  {
   "cell_type": "code",
   "execution_count": 548,
   "id": "217ab13c-ee75-4500-bb16-ffc952056b40",
   "metadata": {},
   "outputs": [
    {
     "data": {
      "text/plain": [
       "[{'_index': 'data_science_db',\n",
       "  '_id': 'D2JWQpEBffzaX7NOYPom',\n",
       "  '_score': 0.79996276,\n",
       "  '_ignored': ['q+a.keyword'],\n",
       "  '_source': {'question': 'Linear Discriminant Analysis',\n",
       "   'answer': 'Linear discriminant analysis is used as a tool for classification, dimension reduction, and data visualization. It has been around for quite some time now. Despite its simplicity, LDA often produces robust, decent, and interpretable classification results. When tackling real-world classification problems, LDA is often the benchmarking method before other more complicated and flexible ones are employed.\\r\\n',\n",
       "   'section': 'Classic_models'}}]"
      ]
     },
     "execution_count": 548,
     "metadata": {},
     "output_type": "execute_result"
    }
   ],
   "source": [
    "res = es_client.search(index=index_name, knn=query, source=[\"section\", \"question\", \"answer\"])\n",
    "res[\"hits\"][\"hits\"]"
   ]
  },
  {
   "cell_type": "code",
   "execution_count": 549,
   "id": "b7dbff71-435d-4fed-a75a-c2e987602370",
   "metadata": {},
   "outputs": [],
   "source": [
    "API_TOKEN = '...'"
   ]
  },
  {
   "cell_type": "code",
   "execution_count": 131,
   "id": "bcfdff5f-657d-4d78-bab9-20abbb28a7e0",
   "metadata": {},
   "outputs": [
    {
     "name": "stdout",
     "output_type": "stream",
     "text": [
      "Requirement already satisfied: huggingface_hub[cli] in c:\\users\\mary\\appdata\\roaming\\python\\python311\\site-packages (0.24.5)\n",
      "Requirement already satisfied: filelock in c:\\users\\mary\\anaconda3-2024\\lib\\site-packages (from huggingface_hub[cli]) (3.13.1)\n",
      "Requirement already satisfied: fsspec>=2023.5.0 in c:\\users\\mary\\anaconda3-2024\\lib\\site-packages (from huggingface_hub[cli]) (2023.10.0)\n",
      "Requirement already satisfied: packaging>=20.9 in c:\\users\\mary\\anaconda3-2024\\lib\\site-packages (from huggingface_hub[cli]) (23.1)\n",
      "Requirement already satisfied: pyyaml>=5.1 in c:\\users\\mary\\anaconda3-2024\\lib\\site-packages (from huggingface_hub[cli]) (6.0.1)\n",
      "Requirement already satisfied: requests in c:\\users\\mary\\anaconda3-2024\\lib\\site-packages (from huggingface_hub[cli]) (2.31.0)\n",
      "Requirement already satisfied: tqdm>=4.42.1 in c:\\users\\mary\\anaconda3-2024\\lib\\site-packages (from huggingface_hub[cli]) (4.65.0)\n",
      "Requirement already satisfied: typing-extensions>=3.7.4.3 in c:\\users\\mary\\anaconda3-2024\\lib\\site-packages (from huggingface_hub[cli]) (4.9.0)\n",
      "Requirement already satisfied: InquirerPy==0.3.4 in c:\\users\\mary\\anaconda3-2024\\lib\\site-packages (from huggingface_hub[cli]) (0.3.4)\n",
      "Requirement already satisfied: pfzy<0.4.0,>=0.3.1 in c:\\users\\mary\\anaconda3-2024\\lib\\site-packages (from InquirerPy==0.3.4->huggingface_hub[cli]) (0.3.4)\n",
      "Requirement already satisfied: prompt-toolkit<4.0.0,>=3.0.1 in c:\\users\\mary\\anaconda3-2024\\lib\\site-packages (from InquirerPy==0.3.4->huggingface_hub[cli]) (3.0.43)\n",
      "Requirement already satisfied: colorama in c:\\users\\mary\\anaconda3-2024\\lib\\site-packages (from tqdm>=4.42.1->huggingface_hub[cli]) (0.4.6)\n",
      "Requirement already satisfied: charset-normalizer<4,>=2 in c:\\users\\mary\\anaconda3-2024\\lib\\site-packages (from requests->huggingface_hub[cli]) (2.0.4)\n",
      "Requirement already satisfied: idna<4,>=2.5 in c:\\users\\mary\\anaconda3-2024\\lib\\site-packages (from requests->huggingface_hub[cli]) (3.4)\n",
      "Requirement already satisfied: urllib3<3,>=1.21.1 in c:\\users\\mary\\anaconda3-2024\\lib\\site-packages (from requests->huggingface_hub[cli]) (2.0.7)\n",
      "Requirement already satisfied: certifi>=2017.4.17 in c:\\users\\mary\\anaconda3-2024\\lib\\site-packages (from requests->huggingface_hub[cli]) (2024.2.2)\n",
      "Requirement already satisfied: wcwidth in c:\\users\\mary\\anaconda3-2024\\lib\\site-packages (from prompt-toolkit<4.0.0,>=3.0.1->InquirerPy==0.3.4->huggingface_hub[cli]) (0.2.5)\n"
     ]
    }
   ],
   "source": [
    "!pip install -U --user \"huggingface_hub[cli]\""
   ]
  },
  {
   "cell_type": "code",
   "execution_count": 132,
   "id": "89682a4d-8723-4204-b423-34dd2746bf1f",
   "metadata": {},
   "outputs": [
    {
     "name": "stdout",
     "output_type": "stream",
     "text": [
      "The token has not been saved to the git credentials helper. Pass `add_to_git_credential=True` in this function directly or `--add-to-git-credential` if using via `huggingface-cli` if you want to set the git credential as well.\n",
      "Token is valid (permission: write).\n",
      "Your token has been saved to C:\\Users\\mary\\.cache\\huggingface\\token\n",
      "Login successful\n"
     ]
    }
   ],
   "source": [
    "!huggingface-cli login --token=$API_TOKEN"
   ]
  },
  {
   "cell_type": "code",
   "execution_count": 133,
   "id": "b48156c2-073d-44cd-b1b0-b48b46fcd104",
   "metadata": {},
   "outputs": [],
   "source": [
    "import requests\n",
    "headers = {\"Authorization\": f\"Bearer {API_TOKEN}\"}\n",
    "API_URL = \"https://api-inference.huggingface.co/models/mistralai/Mixtral-8x7B-Instruct-v0.1\"\n",
    "\n",
    "def query_mistral(payload):\n",
    "    response = requests.post(API_URL, headers=headers, json=payload)\n",
    "    return response.json()\n",
    "    \n",
    "data = query_mistral({\"inputs\": \"\"\"<s>[INST] I like drinking tea. [/INST] That's great to hear! Tea is a popular beverage...</s> [INST] What is the best way to brew tea? [/INST] \"\"\"})"
   ]
  },
  {
   "cell_type": "code",
   "execution_count": 340,
   "id": "5c326c07-21cf-4706-a9d0-9cc23f0f839f",
   "metadata": {},
   "outputs": [],
   "source": [
    "from huggingface_hub import InferenceClient"
   ]
  },
  {
   "cell_type": "code",
   "execution_count": 341,
   "id": "2ef913bb-ba15-4060-b1bb-297fe45ddde6",
   "metadata": {},
   "outputs": [],
   "source": [
    "headers = {\"Authorization\": f\"Bearer {API_TOKEN}\"}\n",
    "\n",
    "client = InferenceClient(\"mistralai/Mixtral-8x7B-Instruct-v0.1\", headers=headers)"
   ]
  },
  {
   "cell_type": "code",
   "execution_count": 342,
   "id": "4cc764cc-6dd3-4f14-b9de-4febf7acf420",
   "metadata": {},
   "outputs": [],
   "source": [
    "def llm(prompt, max_tokens=500):\n",
    "    return client.text_generation(prompt=prompt, max_new_tokens=max_tokens)"
   ]
  },
  {
   "cell_type": "code",
   "execution_count": 1,
   "id": "9d01fbeb-671a-4d1f-b9a5-64385feceb14",
   "metadata": {},
   "outputs": [],
   "source": [
    "# from transformers import AutoTokenizer, MixtralForCausalLM"
   ]
  },
  {
   "cell_type": "code",
   "execution_count": 3,
   "id": "2a16d179-7398-4b71-8bf2-fbecd54d7022",
   "metadata": {},
   "outputs": [],
   "source": [
    "# model = MixtralForCausalLM.from_pretrained(\"mistralai/Mixtral-8x7B-Instruct-v0.1\")"
   ]
  },
  {
   "cell_type": "code",
   "execution_count": 91,
   "id": "6b90d007-aab9-484f-8b9e-2a9d04c55ff6",
   "metadata": {},
   "outputs": [],
   "source": [
    "# def llm(prompt, max_tokens=500):\n",
    "#     model = MixtralForCausalLM.from_pretrained(\"mistralai/Mixtral-8x7B-Instruct-v0.1\")\n",
    "#     tokenizer = AutoTokenizer.from_pretrained(\"mistralai/Mixtral-8x7B-Instruct-v0.1\")\n",
    "#     inputs = tokenizer(prompt, return_tensors=\"pt\")\n",
    "#     # Generate\n",
    "#     generate_ids = model.generate(inputs.input_ids, max_length=max_tokens)\n",
    "#     return tokenizer.batch_decode(generate_ids, skip_special_tokens=True, clean_up_tokenization_spaces=False)[0]"
   ]
  },
  {
   "cell_type": "markdown",
   "id": "7113740b-1163-437b-b271-0d67b7317b01",
   "metadata": {},
   "source": [
    "Templates for prompts for our tasks:"
   ]
  },
  {
   "cell_type": "code",
   "execution_count": 343,
   "id": "79059c19-2de0-4596-8293-40f52d44c95a",
   "metadata": {},
   "outputs": [],
   "source": [
    "templates = {\n",
    "    'quiz': \"\"\"[INST]\n",
    "You're interviewing a user for a Data Scientist position. Ask a question using the QUESTION and the CONTEXT that you get. \n",
    "The answer to the question that you ask should be in the CONTEXT.\n",
    "You can rephrase the QUESTION or ask something different \n",
    "Make it short, do not give tips, do notgive the answer and do not write notes \n",
    "Don't start with 'Based on the context' or 'Question', just shoot it right away\n",
    "\n",
    "QUESTION: {question}\n",
    "CONTEXT: \n",
    "{context}\n",
    "[/INST]\n",
    "\"\"\",\n",
    "    'question': \"\"\"[INST]\n",
    "You're an assistant, helping to prepare for a Data Scientist interview. Answer the QUESTION based on the CONTEXT from the DS database. \n",
    "Use only the facts from the CONTEXT when answering the QUESTION. If you don't have an answer in CONTEXT, say it and stop. Don't write any additional information. \n",
    "Don't start with 'Based on'\n",
    "\n",
    "QUESTION: {question}\n",
    "\n",
    "CONTEXT: \n",
    "{context}\n",
    "[/INST]\n",
    "\"\"\"\n",
    "}"
   ]
  },
  {
   "cell_type": "code",
   "execution_count": 344,
   "id": "68f3ea52-9ae2-4ea5-ab3d-3ab86f6e12c8",
   "metadata": {},
   "outputs": [],
   "source": [
    "import random"
   ]
  },
  {
   "cell_type": "code",
   "execution_count": 622,
   "id": "d76a7d5d-b4d3-4415-b70d-2eb918813335",
   "metadata": {},
   "outputs": [],
   "source": [
    "def get_body(mode, query=None):\n",
    "    # answering the question mode\n",
    "    if mode == 'question':\n",
    "        body = {\n",
    "            'knn': {\n",
    "                \"field\": \"q+a_vector\",\n",
    "                \"k\": 5,\n",
    "                \"num_candidates\": 100, \n",
    "                \"query_vector\": query\n",
    "                },\n",
    "            '_source': [\"section\", \"question\", \"answer\"]\n",
    "        }\n",
    "    # asking user a question mode\n",
    "    if mode == 'quiz':\n",
    "        body = {\n",
    "    'size': 1,\n",
    "    '_source': [\"section\", \"question\", \"answer\", \"id\"],\n",
    "    'query': \n",
    "    {\n",
    "        \"function_score\": \n",
    "        {\n",
    "            \"random_score\": \n",
    "                {\n",
    "                    \"field\": 'id',\n",
    "                    \"seed\": random.randint(0, 10000000)\n",
    "                },\n",
    "           },\n",
    "        }\n",
    "    }\n",
    "    return body"
   ]
  },
  {
   "cell_type": "code",
   "execution_count": 617,
   "id": "ea279755-61a4-4145-93e4-5c5cbaf42240",
   "metadata": {},
   "outputs": [],
   "source": [
    "def elastic_search(query, mode):\n",
    "    vector_search_term = model.encode(query)\n",
    "    body = get_body(mode, vector_search_term)\n",
    "    response = es_client.search(index=index_name, body=body)\n",
    "    \n",
    "    result_docs = []\n",
    "    \n",
    "    for hit in response['hits']['hits']:\n",
    "        result_docs.append(hit['_source'])\n",
    "    return result_docs"
   ]
  },
  {
   "cell_type": "code",
   "execution_count": 618,
   "id": "de66f18d-8252-4686-9aff-9e44dd2f3962",
   "metadata": {},
   "outputs": [],
   "source": [
    "def build_prompt(query, search_results, mode):\n",
    "    prompt_template = templates[mode].strip()\n",
    "\n",
    "    context = \"\"\n",
    "    \n",
    "    for doc in search_results:\n",
    "        context = context + f\"section: {doc['section']}\\nquestion: {doc['question']}\\nanswer: {doc['answer']}\\n\\n\"\n",
    "    \n",
    "    prompt = prompt_template.format(question=query, context=context).strip()\n",
    "    return prompt"
   ]
  },
  {
   "cell_type": "code",
   "execution_count": 614,
   "id": "f2f99c33-1c08-4063-a5f3-09b0b33db7bf",
   "metadata": {},
   "outputs": [],
   "source": [
    "def rag(query, mode='question'):\n",
    "    search_results = elastic_search(query, mode)\n",
    "    prompt = build_prompt(query, search_results, mode)\n",
    "    answer = llm(prompt)\n",
    "    return answer.strip()"
   ]
  },
  {
   "cell_type": "markdown",
   "id": "8ac94461-f372-43f4-b295-92799dbed9f8",
   "metadata": {},
   "source": [
    "Getting answers to our questions:"
   ]
  },
  {
   "cell_type": "code",
   "execution_count": 564,
   "id": "8bc8ac53-08b1-485d-811c-8780e624b583",
   "metadata": {
    "scrolled": true
   },
   "outputs": [
    {
     "name": "stdout",
     "output_type": "stream",
     "text": [
      "It depends on the situation. More data is not always better, especially if the data is biased or if the model has high bias. There is a trade-off between having more data and the additional storage, computational power, and memory it requires. It is also important to consider the quality of the data and the model being used. In the case of price prediction, data is not normally distributed and may contain skewed values or outliers, which would need to be pre-processed. Plotting the data before performing analysis can help identify these errors and outliers. Additionally, having too many features or dimensions can lead to overfitting and make it difficult to cluster observations.\n"
     ]
    }
   ],
   "source": [
    "print(rag('Do we need a lot of data?'))"
   ]
  },
  {
   "cell_type": "code",
   "execution_count": 619,
   "id": "f6d8e3fe-3dae-4c8f-acec-e7a0f26638d6",
   "metadata": {
    "scrolled": true
   },
   "outputs": [
    {
     "name": "stdout",
     "output_type": "stream",
     "text": [
      "A variance inflation factor (VIF) is a measure of the amount of multicollinearity in regression analysis. It estimates how much the variance of a regression coefficient is inflated due to multicollinearity. A VIF of three or below is not a cause for concern, and a VIF equal to one means variables are not correlated and multicollinearity does not exist in the regression model.\n"
     ]
    }
   ],
   "source": [
    "print(rag('What is VIF?'))"
   ]
  },
  {
   "cell_type": "markdown",
   "id": "28656fc2-8b75-4853-9f24-2a392713deab",
   "metadata": {},
   "source": [
    "Quizzing the user:"
   ]
  },
  {
   "cell_type": "code",
   "execution_count": 620,
   "id": "bfae1247-ae73-40af-ac1b-c316d7f34c2a",
   "metadata": {
    "scrolled": true
   },
   "outputs": [
    {
     "name": "stdout",
     "output_type": "stream",
     "text": [
      "How do AdaBoost and XGBoost differ in the way they update the ensemble of weak learners during the learning process?\n"
     ]
    }
   ],
   "source": [
    "print(rag('', 'quiz'))"
   ]
  },
  {
   "cell_type": "code",
   "execution_count": 621,
   "id": "658822cf-beec-4cd8-8ca1-52d4169bc323",
   "metadata": {
    "scrolled": true
   },
   "outputs": [
    {
     "name": "stdout",
     "output_type": "stream",
     "text": [
      "When working with normalized predictor variables, if a weight is higher for one variable than another, can we conclude that the first variable is more significant in determining the output?\n"
     ]
    }
   ],
   "source": [
    "print(rag('', 'quiz'))"
   ]
  }
 ],
 "metadata": {
  "kernelspec": {
   "display_name": "Python 3 (ipykernel)",
   "language": "python",
   "name": "python3"
  },
  "language_info": {
   "codemirror_mode": {
    "name": "ipython",
    "version": 3
   },
   "file_extension": ".py",
   "mimetype": "text/x-python",
   "name": "python",
   "nbconvert_exporter": "python",
   "pygments_lexer": "ipython3",
   "version": "3.11.7"
  }
 },
 "nbformat": 4,
 "nbformat_minor": 5
}
