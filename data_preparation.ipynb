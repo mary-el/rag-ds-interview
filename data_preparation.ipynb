{
 "cells": [
  {
   "cell_type": "code",
   "execution_count": 1,
   "id": "5cb10de1-1776-4148-b1e6-7df2e0eff6a5",
   "metadata": {},
   "outputs": [
    {
     "name": "stdout",
     "output_type": "stream",
     "text": [
      "Collecting docx2python\n",
      "  Downloading docx2python-2.10.1-py3-none-any.whl.metadata (14 kB)\n",
      "Requirement already satisfied: lxml in c:\\users\\mary\\anaconda3-2024\\lib\\site-packages (from docx2python) (4.9.3)\n",
      "Collecting paragraphs (from docx2python)\n",
      "  Downloading paragraphs-0.2.1-py3-none-any.whl.metadata (5.5 kB)\n",
      "Requirement already satisfied: typing-extensions in c:\\users\\mary\\anaconda3-2024\\lib\\site-packages (from docx2python) (4.9.0)\n",
      "Downloading docx2python-2.10.1-py3-none-any.whl (44 kB)\n",
      "   ---------------------------------------- 0.0/44.5 kB ? eta -:--:--\n",
      "   --------- ------------------------------ 10.2/44.5 kB ? eta -:--:--\n",
      "   ---------------------------------------- 44.5/44.5 kB 729.3 kB/s eta 0:00:00\n",
      "Downloading paragraphs-0.2.1-py3-none-any.whl (5.1 kB)\n",
      "Installing collected packages: paragraphs, docx2python\n",
      "Successfully installed docx2python-2.10.1 paragraphs-0.2.1\n"
     ]
    }
   ],
   "source": [
    "!pip install docx2python"
   ]
  },
  {
   "cell_type": "code",
   "execution_count": 18,
   "id": "0b8ec849-1f57-482f-9c77-efcd860b9b3c",
   "metadata": {
    "scrolled": true
   },
   "outputs": [
    {
     "name": "stdout",
     "output_type": "stream",
     "text": [
      "Collecting python-docx\n",
      "  Downloading python_docx-1.1.2-py3-none-any.whl.metadata (2.0 kB)\n",
      "Requirement already satisfied: lxml>=3.1.0 in c:\\users\\mary\\anaconda3-2024\\lib\\site-packages (from python-docx) (4.9.3)\n",
      "Requirement already satisfied: typing-extensions>=4.9.0 in c:\\users\\mary\\anaconda3-2024\\lib\\site-packages (from python-docx) (4.9.0)\n",
      "Downloading python_docx-1.1.2-py3-none-any.whl (244 kB)\n",
      "   ---------------------------------------- 0.0/244.3 kB ? eta -:--:--\n",
      "   - -------------------------------------- 10.2/244.3 kB ? eta -:--:--\n",
      "   ---- ---------------------------------- 30.7/244.3 kB 435.7 kB/s eta 0:00:01\n",
      "   ----------------- -------------------- 112.6/244.3 kB 939.4 kB/s eta 0:00:01\n",
      "   -------------------------------------- - 235.5/244.3 kB 1.4 MB/s eta 0:00:01\n",
      "   ---------------------------------------- 244.3/244.3 kB 1.2 MB/s eta 0:00:00\n",
      "Installing collected packages: python-docx\n",
      "Successfully installed python-docx-1.1.2\n"
     ]
    }
   ],
   "source": [
    "!pip install python-docx"
   ]
  },
  {
   "cell_type": "code",
   "execution_count": 7,
   "id": "328dedf8-7967-401e-bbe4-fa6c42a71fc9",
   "metadata": {},
   "outputs": [],
   "source": [
    "from docx import Document\n",
    "import pandas as pd\n",
    "import glob\n",
    "import os"
   ]
  },
  {
   "cell_type": "code",
   "execution_count": 8,
   "id": "763de21a-0343-4b2b-81d3-cfc2962524b4",
   "metadata": {},
   "outputs": [],
   "source": [
    "data_folder = 'C:\\ds_interview_preparation'"
   ]
  },
  {
   "cell_type": "code",
   "execution_count": 57,
   "id": "82b80bc7-b216-4b56-b607-b0e609658f8c",
   "metadata": {},
   "outputs": [],
   "source": [
    "def get_data(folder):\n",
    "    files = glob.glob(data_folder + '\\*.docx')\n",
    "    sections = []\n",
    "    questions = []\n",
    "    answers = []\n",
    "    for file in files:\n",
    "        section = os.path.basename(file)[:-5]\n",
    "        doc = Document(file)\n",
    "        current_answer = None\n",
    "        for par in doc.paragraphs:\n",
    "            if par.text.strip() == '':\n",
    "                continue\n",
    "            if par.style.name=='Heading 2':\n",
    "                if current_answer:\n",
    "                    answers.append(current_answer)\n",
    "                if current_answer or current_answer is None:\n",
    "                    questions.append(par.text)\n",
    "                    sections.append(section)\n",
    "                    current_answer = ''\n",
    "            else:\n",
    "                current_answer += par.text + '\\n'\n",
    "        answers.append(current_answer)\n",
    "    return pd.DataFrame({'section': sections, 'question': questions, 'answer': answers})"
   ]
  },
  {
   "cell_type": "code",
   "execution_count": 58,
   "id": "283b3912-0d12-4b7c-af73-9975feac8229",
   "metadata": {},
   "outputs": [
    {
     "data": {
      "text/html": [
       "<div>\n",
       "<style scoped>\n",
       "    .dataframe tbody tr th:only-of-type {\n",
       "        vertical-align: middle;\n",
       "    }\n",
       "\n",
       "    .dataframe tbody tr th {\n",
       "        vertical-align: top;\n",
       "    }\n",
       "\n",
       "    .dataframe thead th {\n",
       "        text-align: right;\n",
       "    }\n",
       "</style>\n",
       "<table border=\"1\" class=\"dataframe\">\n",
       "  <thead>\n",
       "    <tr style=\"text-align: right;\">\n",
       "      <th></th>\n",
       "      <th>section</th>\n",
       "      <th>question</th>\n",
       "      <th>answer</th>\n",
       "    </tr>\n",
       "  </thead>\n",
       "  <tbody>\n",
       "    <tr>\n",
       "      <th>0</th>\n",
       "      <td>Classic_models</td>\n",
       "      <td>What are various ways to predict a binary resp...</td>\n",
       "      <td>Things to look at: N, P, linearly seperable?, ...</td>\n",
       "    </tr>\n",
       "    <tr>\n",
       "      <th>1</th>\n",
       "      <td>Classic_models</td>\n",
       "      <td>What methods for solving linear regression do ...</td>\n",
       "      <td>To solve linear regression, you need to find t...</td>\n",
       "    </tr>\n",
       "    <tr>\n",
       "      <th>2</th>\n",
       "      <td>Classic_models</td>\n",
       "      <td>What clustering algorithms do you know? ‍</td>\n",
       "      <td>k-medoids: Takes the most central point instea...</td>\n",
       "    </tr>\n",
       "    <tr>\n",
       "      <th>3</th>\n",
       "      <td>Classic_models</td>\n",
       "      <td>How does DBScan work?</td>\n",
       "      <td>Two input parameters epsilon (neighborhood rad...</td>\n",
       "    </tr>\n",
       "    <tr>\n",
       "      <th>4</th>\n",
       "      <td>Classic_models</td>\n",
       "      <td>When would you choose K-means and when DBScan? ‍</td>\n",
       "      <td>DBScan is more robust to noise.\\nDBScan is bet...</td>\n",
       "    </tr>\n",
       "    <tr>\n",
       "      <th>...</th>\n",
       "      <td>...</td>\n",
       "      <td>...</td>\n",
       "      <td>...</td>\n",
       "    </tr>\n",
       "    <tr>\n",
       "      <th>99</th>\n",
       "      <td>Statistics</td>\n",
       "      <td>Conjugate Prior</td>\n",
       "      <td>According to Bayes’ theorem (6.23), the poster...</td>\n",
       "    </tr>\n",
       "    <tr>\n",
       "      <th>100</th>\n",
       "      <td>Statistics</td>\n",
       "      <td>Are there any differences between the expected...</td>\n",
       "      <td>Expected value is used when we want to calcula...</td>\n",
       "    </tr>\n",
       "    <tr>\n",
       "      <th>101</th>\n",
       "      <td>Statistics</td>\n",
       "      <td>How do you identify if a coin is biased?</td>\n",
       "      <td>We collect data by flipping the coin 200 times...</td>\n",
       "    </tr>\n",
       "    <tr>\n",
       "      <th>102</th>\n",
       "      <td>Statistics</td>\n",
       "      <td>Exponential Family</td>\n",
       "      <td>An exponential family is a family of probabili...</td>\n",
       "    </tr>\n",
       "    <tr>\n",
       "      <th>103</th>\n",
       "      <td>Statistics</td>\n",
       "      <td>What Is a Statistical Interaction?</td>\n",
       "      <td>A statistical interaction is when two or more ...</td>\n",
       "    </tr>\n",
       "  </tbody>\n",
       "</table>\n",
       "<p>104 rows × 3 columns</p>\n",
       "</div>"
      ],
      "text/plain": [
       "            section                                           question  \\\n",
       "0    Classic_models  What are various ways to predict a binary resp...   \n",
       "1    Classic_models  What methods for solving linear regression do ...   \n",
       "2    Classic_models          What clustering algorithms do you know? ‍   \n",
       "3    Classic_models                              How does DBScan work?   \n",
       "4    Classic_models   When would you choose K-means and when DBScan? ‍   \n",
       "..              ...                                                ...   \n",
       "99       Statistics                                    Conjugate Prior   \n",
       "100      Statistics  Are there any differences between the expected...   \n",
       "101      Statistics           How do you identify if a coin is biased?   \n",
       "102      Statistics                                 Exponential Family   \n",
       "103      Statistics                 What Is a Statistical Interaction?   \n",
       "\n",
       "                                                answer  \n",
       "0    Things to look at: N, P, linearly seperable?, ...  \n",
       "1    To solve linear regression, you need to find t...  \n",
       "2    k-medoids: Takes the most central point instea...  \n",
       "3    Two input parameters epsilon (neighborhood rad...  \n",
       "4    DBScan is more robust to noise.\\nDBScan is bet...  \n",
       "..                                                 ...  \n",
       "99   According to Bayes’ theorem (6.23), the poster...  \n",
       "100  Expected value is used when we want to calcula...  \n",
       "101  We collect data by flipping the coin 200 times...  \n",
       "102  An exponential family is a family of probabili...  \n",
       "103  A statistical interaction is when two or more ...  \n",
       "\n",
       "[104 rows x 3 columns]"
      ]
     },
     "execution_count": 58,
     "metadata": {},
     "output_type": "execute_result"
    }
   ],
   "source": [
    "ds = get_data(r'C:\\ds_interview_preparation')\n",
    "ds"
   ]
  },
  {
   "cell_type": "code",
   "execution_count": 67,
   "id": "95e5adbf-9445-455e-91c0-912eed734fb4",
   "metadata": {},
   "outputs": [
    {
     "data": {
      "text/plain": [
       "'What clustering algorithms do you know? \\u200d'"
      ]
     },
     "execution_count": 67,
     "metadata": {},
     "output_type": "execute_result"
    }
   ],
   "source": [
    "ds['question'][2]"
   ]
  },
  {
   "cell_type": "code",
   "execution_count": 68,
   "id": "b9d0fd1e-167f-4792-8c82-7d25459f8bc7",
   "metadata": {},
   "outputs": [
    {
     "data": {
      "text/plain": [
       "\"To solve linear regression, you need to find the coefficients\\xa0which minimize the sum of squared errors.\\nMatrix Algebra method: Let's say you have\\xa0X, a matrix of features, and\\xa0y, a vector with the values you want to predict. After going through the matrix algebra and minimization problem, you get this solution:\\nBut solving this requires you to find an inverse, which can be time-consuming, if not impossible. Luckily, there are methods like Singular Value Decomposition (SVD) or QR Decomposition that can reliably calculate this part\\xa0\\xa0(called the pseudo-inverse) without actually needing to find an inverse. The popular python ML library\\xa0sklearn\\xa0uses SVD to solve least squares.\\nAlternative method: Gradient Descent. \\n\""
      ]
     },
     "execution_count": 68,
     "metadata": {},
     "output_type": "execute_result"
    }
   ],
   "source": [
    "ds['answer'][1]"
   ]
  },
  {
   "cell_type": "code",
   "execution_count": 75,
   "id": "8af19042-7633-499f-bba6-78b09a2b52c9",
   "metadata": {},
   "outputs": [],
   "source": [
    "ds_cleaned = ds.replace({'\\u200d': '', '\\xa0': ' ', '\\u200b': ''}, regex=True)"
   ]
  },
  {
   "cell_type": "code",
   "execution_count": 76,
   "id": "8d60dc4a-eeea-4b22-8a8b-55f511fb7511",
   "metadata": {},
   "outputs": [
    {
     "data": {
      "text/plain": [
       "'What clustering algorithms do you know? '"
      ]
     },
     "execution_count": 76,
     "metadata": {},
     "output_type": "execute_result"
    }
   ],
   "source": [
    "ds_cleaned['question'][2]"
   ]
  },
  {
   "cell_type": "code",
   "execution_count": 77,
   "id": "840effb3-6598-4252-b10e-bb6bf5bad79e",
   "metadata": {},
   "outputs": [
    {
     "data": {
      "text/plain": [
       "\"To solve linear regression, you need to find the coefficients which minimize the sum of squared errors.\\nMatrix Algebra method: Let's say you have X, a matrix of features, and y, a vector with the values you want to predict. After going through the matrix algebra and minimization problem, you get this solution:\\nBut solving this requires you to find an inverse, which can be time-consuming, if not impossible. Luckily, there are methods like Singular Value Decomposition (SVD) or QR Decomposition that can reliably calculate this part  (called the pseudo-inverse) without actually needing to find an inverse. The popular python ML library sklearn uses SVD to solve least squares.\\nAlternative method: Gradient Descent. \\n\""
      ]
     },
     "execution_count": 77,
     "metadata": {},
     "output_type": "execute_result"
    }
   ],
   "source": [
    "ds_cleaned['answer'][1]"
   ]
  },
  {
   "cell_type": "code",
   "execution_count": 78,
   "id": "abffb572-9033-4b68-991f-70be01594d6f",
   "metadata": {},
   "outputs": [],
   "source": [
    "ds_cleaned.to_csv('data/db.csv', index=False)"
   ]
  }
 ],
 "metadata": {
  "kernelspec": {
   "display_name": "Python 3 (ipykernel)",
   "language": "python",
   "name": "python3"
  },
  "language_info": {
   "codemirror_mode": {
    "name": "ipython",
    "version": 3
   },
   "file_extension": ".py",
   "mimetype": "text/x-python",
   "name": "python",
   "nbconvert_exporter": "python",
   "pygments_lexer": "ipython3",
   "version": "3.11.7"
  }
 },
 "nbformat": 4,
 "nbformat_minor": 5
}
