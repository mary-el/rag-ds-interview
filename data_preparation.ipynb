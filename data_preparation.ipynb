{
 "cells": [
  {
   "cell_type": "code",
   "execution_count": 23,
   "id": "5cb10de1-1776-4148-b1e6-7df2e0eff6a5",
   "metadata": {},
   "outputs": [
    {
     "name": "stdout",
     "output_type": "stream",
     "text": [
      "Requirement already satisfied: pandas==2.2.2 in c:\\users\\mary\\anaconda3-2024\\lib\\site-packages (from -r requirements.txt (line 1)) (2.2.2)\n",
      "Requirement already satisfied: python-docx==1.1.2 in c:\\users\\mary\\anaconda3-2024\\lib\\site-packages (from -r requirements.txt (line 2)) (1.1.2)\n",
      "Requirement already satisfied: sentence-transformers==3.0.1 in c:\\users\\mary\\anaconda3-2024\\lib\\site-packages (from -r requirements.txt (line 3)) (3.0.1)\n",
      "Requirement already satisfied: elasticsearch==8.14.0 in c:\\users\\mary\\anaconda3-2024\\lib\\site-packages (from -r requirements.txt (line 4)) (8.14.0)\n",
      "Requirement already satisfied: huggingface-hub==0.24.5 in c:\\users\\mary\\appdata\\roaming\\python\\python311\\site-packages (from -r requirements.txt (line 5)) (0.24.5)\n",
      "Requirement already satisfied: numpy>=1.23.2 in c:\\users\\mary\\anaconda3-2024\\lib\\site-packages (from pandas==2.2.2->-r requirements.txt (line 1)) (1.26.0)\n",
      "Requirement already satisfied: python-dateutil>=2.8.2 in c:\\users\\mary\\anaconda3-2024\\lib\\site-packages (from pandas==2.2.2->-r requirements.txt (line 1)) (2.8.2)\n",
      "Requirement already satisfied: pytz>=2020.1 in c:\\users\\mary\\anaconda3-2024\\lib\\site-packages (from pandas==2.2.2->-r requirements.txt (line 1)) (2023.3.post1)\n",
      "Requirement already satisfied: tzdata>=2022.7 in c:\\users\\mary\\anaconda3-2024\\lib\\site-packages (from pandas==2.2.2->-r requirements.txt (line 1)) (2023.3)\n",
      "Requirement already satisfied: lxml>=3.1.0 in c:\\users\\mary\\anaconda3-2024\\lib\\site-packages (from python-docx==1.1.2->-r requirements.txt (line 2)) (4.9.3)\n",
      "Requirement already satisfied: typing-extensions>=4.9.0 in c:\\users\\mary\\anaconda3-2024\\lib\\site-packages (from python-docx==1.1.2->-r requirements.txt (line 2)) (4.9.0)\n",
      "Requirement already satisfied: transformers<5.0.0,>=4.34.0 in c:\\users\\mary\\anaconda3-2024\\lib\\site-packages (from sentence-transformers==3.0.1->-r requirements.txt (line 3)) (4.42.3)\n",
      "Requirement already satisfied: tqdm in c:\\users\\mary\\anaconda3-2024\\lib\\site-packages (from sentence-transformers==3.0.1->-r requirements.txt (line 3)) (4.65.0)\n",
      "Requirement already satisfied: torch>=1.11.0 in c:\\users\\mary\\anaconda3-2024\\lib\\site-packages (from sentence-transformers==3.0.1->-r requirements.txt (line 3)) (2.3.1+cu118)\n",
      "Requirement already satisfied: scikit-learn in c:\\users\\mary\\anaconda3-2024\\lib\\site-packages (from sentence-transformers==3.0.1->-r requirements.txt (line 3)) (1.2.2)\n",
      "Requirement already satisfied: scipy in c:\\users\\mary\\anaconda3-2024\\lib\\site-packages (from sentence-transformers==3.0.1->-r requirements.txt (line 3)) (1.11.3)\n",
      "Requirement already satisfied: Pillow in c:\\users\\mary\\anaconda3-2024\\lib\\site-packages (from sentence-transformers==3.0.1->-r requirements.txt (line 3)) (10.2.0)\n",
      "Requirement already satisfied: elastic-transport<9,>=8.13 in c:\\users\\mary\\anaconda3-2024\\lib\\site-packages (from elasticsearch==8.14.0->-r requirements.txt (line 4)) (8.13.1)\n",
      "Requirement already satisfied: filelock in c:\\users\\mary\\anaconda3-2024\\lib\\site-packages (from huggingface-hub==0.24.5->-r requirements.txt (line 5)) (3.13.1)\n",
      "Requirement already satisfied: fsspec>=2023.5.0 in c:\\users\\mary\\anaconda3-2024\\lib\\site-packages (from huggingface-hub==0.24.5->-r requirements.txt (line 5)) (2023.10.0)\n",
      "Requirement already satisfied: packaging>=20.9 in c:\\users\\mary\\anaconda3-2024\\lib\\site-packages (from huggingface-hub==0.24.5->-r requirements.txt (line 5)) (23.1)\n",
      "Requirement already satisfied: pyyaml>=5.1 in c:\\users\\mary\\anaconda3-2024\\lib\\site-packages (from huggingface-hub==0.24.5->-r requirements.txt (line 5)) (6.0.1)\n",
      "Requirement already satisfied: requests in c:\\users\\mary\\anaconda3-2024\\lib\\site-packages (from huggingface-hub==0.24.5->-r requirements.txt (line 5)) (2.31.0)\n",
      "Requirement already satisfied: urllib3<3,>=1.26.2 in c:\\users\\mary\\anaconda3-2024\\lib\\site-packages (from elastic-transport<9,>=8.13->elasticsearch==8.14.0->-r requirements.txt (line 4)) (2.0.7)\n",
      "Requirement already satisfied: certifi in c:\\users\\mary\\anaconda3-2024\\lib\\site-packages (from elastic-transport<9,>=8.13->elasticsearch==8.14.0->-r requirements.txt (line 4)) (2024.2.2)\n",
      "Requirement already satisfied: six>=1.5 in c:\\users\\mary\\anaconda3-2024\\lib\\site-packages (from python-dateutil>=2.8.2->pandas==2.2.2->-r requirements.txt (line 1)) (1.16.0)\n",
      "Requirement already satisfied: sympy in c:\\users\\mary\\anaconda3-2024\\lib\\site-packages (from torch>=1.11.0->sentence-transformers==3.0.1->-r requirements.txt (line 3)) (1.12)\n",
      "Requirement already satisfied: networkx in c:\\users\\mary\\anaconda3-2024\\lib\\site-packages (from torch>=1.11.0->sentence-transformers==3.0.1->-r requirements.txt (line 3)) (3.1)\n",
      "Requirement already satisfied: jinja2 in c:\\users\\mary\\anaconda3-2024\\lib\\site-packages (from torch>=1.11.0->sentence-transformers==3.0.1->-r requirements.txt (line 3)) (3.1.3)\n",
      "Requirement already satisfied: mkl<=2021.4.0,>=2021.1.1 in c:\\users\\mary\\anaconda3-2024\\lib\\site-packages (from torch>=1.11.0->sentence-transformers==3.0.1->-r requirements.txt (line 3)) (2021.4.0)\n",
      "Requirement already satisfied: colorama in c:\\users\\mary\\anaconda3-2024\\lib\\site-packages (from tqdm->sentence-transformers==3.0.1->-r requirements.txt (line 3)) (0.4.6)\n",
      "Requirement already satisfied: regex!=2019.12.17 in c:\\users\\mary\\anaconda3-2024\\lib\\site-packages (from transformers<5.0.0,>=4.34.0->sentence-transformers==3.0.1->-r requirements.txt (line 3)) (2023.10.3)\n",
      "Requirement already satisfied: safetensors>=0.4.1 in c:\\users\\mary\\anaconda3-2024\\lib\\site-packages (from transformers<5.0.0,>=4.34.0->sentence-transformers==3.0.1->-r requirements.txt (line 3)) (0.4.3)\n",
      "Requirement already satisfied: tokenizers<0.20,>=0.19 in c:\\users\\mary\\anaconda3-2024\\lib\\site-packages (from transformers<5.0.0,>=4.34.0->sentence-transformers==3.0.1->-r requirements.txt (line 3)) (0.19.1)\n",
      "Requirement already satisfied: charset-normalizer<4,>=2 in c:\\users\\mary\\anaconda3-2024\\lib\\site-packages (from requests->huggingface-hub==0.24.5->-r requirements.txt (line 5)) (2.0.4)\n",
      "Requirement already satisfied: idna<4,>=2.5 in c:\\users\\mary\\anaconda3-2024\\lib\\site-packages (from requests->huggingface-hub==0.24.5->-r requirements.txt (line 5)) (3.4)\n",
      "Requirement already satisfied: joblib>=1.1.1 in c:\\users\\mary\\anaconda3-2024\\lib\\site-packages (from scikit-learn->sentence-transformers==3.0.1->-r requirements.txt (line 3)) (1.2.0)\n",
      "Requirement already satisfied: threadpoolctl>=2.0.0 in c:\\users\\mary\\anaconda3-2024\\lib\\site-packages (from scikit-learn->sentence-transformers==3.0.1->-r requirements.txt (line 3)) (3.2.0)\n",
      "Requirement already satisfied: intel-openmp==2021.* in c:\\users\\mary\\anaconda3-2024\\lib\\site-packages (from mkl<=2021.4.0,>=2021.1.1->torch>=1.11.0->sentence-transformers==3.0.1->-r requirements.txt (line 3)) (2021.4.0)\n",
      "Requirement already satisfied: tbb==2021.* in c:\\users\\mary\\anaconda3-2024\\lib\\site-packages (from mkl<=2021.4.0,>=2021.1.1->torch>=1.11.0->sentence-transformers==3.0.1->-r requirements.txt (line 3)) (2021.11.0)\n",
      "Requirement already satisfied: MarkupSafe>=2.0 in c:\\users\\mary\\anaconda3-2024\\lib\\site-packages (from jinja2->torch>=1.11.0->sentence-transformers==3.0.1->-r requirements.txt (line 3)) (2.1.3)\n",
      "Requirement already satisfied: mpmath>=0.19 in c:\\users\\mary\\anaconda3-2024\\lib\\site-packages (from sympy->torch>=1.11.0->sentence-transformers==3.0.1->-r requirements.txt (line 3)) (1.3.0)\n"
     ]
    }
   ],
   "source": [
    "!pip install -r requirements.txt"
   ]
  },
  {
   "cell_type": "code",
   "execution_count": 13,
   "id": "328dedf8-7967-401e-bbe4-fa6c42a71fc9",
   "metadata": {},
   "outputs": [],
   "source": [
    "from docx import Document\n",
    "import pandas as pd\n",
    "import glob\n",
    "import os"
   ]
  },
  {
   "cell_type": "code",
   "execution_count": 3,
   "id": "763de21a-0343-4b2b-81d3-cfc2962524b4",
   "metadata": {},
   "outputs": [],
   "source": [
    "data_folder = 'docs'"
   ]
  },
  {
   "cell_type": "code",
   "execution_count": 4,
   "id": "82b80bc7-b216-4b56-b607-b0e609658f8c",
   "metadata": {},
   "outputs": [],
   "source": [
    "def get_data(folder):\n",
    "    files = glob.glob(data_folder + '\\*.docx')\n",
    "    sections = []\n",
    "    questions = []\n",
    "    answers = []\n",
    "    for file in files:\n",
    "        section = os.path.basename(file)[:-5]\n",
    "        doc = Document(file)\n",
    "        current_answer = None\n",
    "        for par in doc.paragraphs:\n",
    "            if par.text.strip() == '':\n",
    "                continue\n",
    "            if par.style.name=='Heading 2':\n",
    "                if current_answer:\n",
    "                    answers.append(current_answer)\n",
    "                if current_answer or current_answer is None:\n",
    "                    questions.append(par.text)\n",
    "                    sections.append(section)\n",
    "                    current_answer = ''\n",
    "            else:\n",
    "                current_answer += par.text + '\\n'\n",
    "        answers.append(current_answer)\n",
    "    return pd.DataFrame({'section': sections, 'question': questions, 'answer': answers})"
   ]
  },
  {
   "cell_type": "code",
   "execution_count": 5,
   "id": "283b3912-0d12-4b7c-af73-9975feac8229",
   "metadata": {},
   "outputs": [
    {
     "data": {
      "text/html": [
       "<div>\n",
       "<style scoped>\n",
       "    .dataframe tbody tr th:only-of-type {\n",
       "        vertical-align: middle;\n",
       "    }\n",
       "\n",
       "    .dataframe tbody tr th {\n",
       "        vertical-align: top;\n",
       "    }\n",
       "\n",
       "    .dataframe thead th {\n",
       "        text-align: right;\n",
       "    }\n",
       "</style>\n",
       "<table border=\"1\" class=\"dataframe\">\n",
       "  <thead>\n",
       "    <tr style=\"text-align: right;\">\n",
       "      <th></th>\n",
       "      <th>section</th>\n",
       "      <th>question</th>\n",
       "      <th>answer</th>\n",
       "    </tr>\n",
       "  </thead>\n",
       "  <tbody>\n",
       "    <tr>\n",
       "      <th>0</th>\n",
       "      <td>Classic_models</td>\n",
       "      <td>What are various ways to predict a binary resp...</td>\n",
       "      <td>Things to look at: N, P, linearly seperable?, ...</td>\n",
       "    </tr>\n",
       "    <tr>\n",
       "      <th>1</th>\n",
       "      <td>Classic_models</td>\n",
       "      <td>What methods for solving linear regression do ...</td>\n",
       "      <td>To solve linear regression, you need to find t...</td>\n",
       "    </tr>\n",
       "    <tr>\n",
       "      <th>2</th>\n",
       "      <td>Classic_models</td>\n",
       "      <td>Maximum Likelihood Estimation for Linear Regre...</td>\n",
       "      <td>Linear regression can be written as a CPD in t...</td>\n",
       "    </tr>\n",
       "    <tr>\n",
       "      <th>3</th>\n",
       "      <td>Classic_models</td>\n",
       "      <td>MAP Estimation as Regularization</td>\n",
       "      <td>Maximum a-posteriori (MAP) method adds a prior...</td>\n",
       "    </tr>\n",
       "    <tr>\n",
       "      <th>4</th>\n",
       "      <td>Classic_models</td>\n",
       "      <td>Bayesian Linear Regression</td>\n",
       "      <td>Bayesian linear regression pushes the idea of ...</td>\n",
       "    </tr>\n",
       "    <tr>\n",
       "      <th>...</th>\n",
       "      <td>...</td>\n",
       "      <td>...</td>\n",
       "      <td>...</td>\n",
       "    </tr>\n",
       "    <tr>\n",
       "      <th>292</th>\n",
       "      <td>Statistics</td>\n",
       "      <td>How do you transform a Skewed Distribution int...</td>\n",
       "      <td>To transform a Skewed Distribution into a Norm...</td>\n",
       "    </tr>\n",
       "    <tr>\n",
       "      <th>293</th>\n",
       "      <td>Statistics</td>\n",
       "      <td>What's the difference between Binomial Distrib...</td>\n",
       "      <td>The Binomial distribution describes the probab...</td>\n",
       "    </tr>\n",
       "    <tr>\n",
       "      <th>294</th>\n",
       "      <td>Statistics</td>\n",
       "      <td>Bayesian Inference</td>\n",
       "      <td>Focusing solely on some statistic of the poste...</td>\n",
       "    </tr>\n",
       "    <tr>\n",
       "      <th>295</th>\n",
       "      <td>Statistics</td>\n",
       "      <td>Latent-Variable Models</td>\n",
       "      <td>In practice, it is sometimes useful to have ad...</td>\n",
       "    </tr>\n",
       "    <tr>\n",
       "      <th>296</th>\n",
       "      <td>Statistics</td>\n",
       "      <td>Simpson’s paradox</td>\n",
       "      <td>Simpson’s paradox refers to the situations in ...</td>\n",
       "    </tr>\n",
       "  </tbody>\n",
       "</table>\n",
       "<p>297 rows × 3 columns</p>\n",
       "</div>"
      ],
      "text/plain": [
       "            section                                           question  \\\n",
       "0    Classic_models  What are various ways to predict a binary resp...   \n",
       "1    Classic_models  What methods for solving linear regression do ...   \n",
       "2    Classic_models  Maximum Likelihood Estimation for Linear Regre...   \n",
       "3    Classic_models                   MAP Estimation as Regularization   \n",
       "4    Classic_models                         Bayesian Linear Regression   \n",
       "..              ...                                                ...   \n",
       "292      Statistics  How do you transform a Skewed Distribution int...   \n",
       "293      Statistics  What's the difference between Binomial Distrib...   \n",
       "294      Statistics                                 Bayesian Inference   \n",
       "295      Statistics                             Latent-Variable Models   \n",
       "296      Statistics                                  Simpson’s paradox   \n",
       "\n",
       "                                                answer  \n",
       "0    Things to look at: N, P, linearly seperable?, ...  \n",
       "1    To solve linear regression, you need to find t...  \n",
       "2    Linear regression can be written as a CPD in t...  \n",
       "3    Maximum a-posteriori (MAP) method adds a prior...  \n",
       "4    Bayesian linear regression pushes the idea of ...  \n",
       "..                                                 ...  \n",
       "292  To transform a Skewed Distribution into a Norm...  \n",
       "293  The Binomial distribution describes the probab...  \n",
       "294  Focusing solely on some statistic of the poste...  \n",
       "295  In practice, it is sometimes useful to have ad...  \n",
       "296  Simpson’s paradox refers to the situations in ...  \n",
       "\n",
       "[297 rows x 3 columns]"
      ]
     },
     "execution_count": 5,
     "metadata": {},
     "output_type": "execute_result"
    }
   ],
   "source": [
    "ds = get_data(data_folder)\n",
    "ds"
   ]
  },
  {
   "cell_type": "code",
   "execution_count": 6,
   "id": "95e5adbf-9445-455e-91c0-912eed734fb4",
   "metadata": {},
   "outputs": [
    {
     "data": {
      "text/plain": [
       "'Maximum Likelihood Estimation for Linear Regression'"
      ]
     },
     "execution_count": 6,
     "metadata": {},
     "output_type": "execute_result"
    }
   ],
   "source": [
    "ds['question'][2]"
   ]
  },
  {
   "cell_type": "code",
   "execution_count": 7,
   "id": "b9d0fd1e-167f-4792-8c82-7d25459f8bc7",
   "metadata": {},
   "outputs": [
    {
     "data": {
      "text/plain": [
       "\"To solve linear regression, you need to find the coefficients\\xa0which minimize the sum of squared errors.\\nMatrix Algebra method: Let's say you have\\xa0X, a matrix of features, and\\xa0y, a vector with the values you want to predict. After going through the matrix algebra and minimization problem, you get this solution:\\nBut solving this requires you to find an inverse, which can be time-consuming, if not impossible. Luckily, there are methods like Singular Value Decomposition (SVD) or QR Decomposition that can reliably calculate this part\\xa0\\xa0(called the pseudo-inverse) without actually needing to find an inverse. The popular python ML library\\xa0sklearn\\xa0uses SVD to solve least squares.\\nAlternative method: Gradient Descent. \\n\""
      ]
     },
     "execution_count": 7,
     "metadata": {},
     "output_type": "execute_result"
    }
   ],
   "source": [
    "ds['answer'][1]"
   ]
  },
  {
   "cell_type": "code",
   "execution_count": 8,
   "id": "8af19042-7633-499f-bba6-78b09a2b52c9",
   "metadata": {},
   "outputs": [],
   "source": [
    "ds_cleaned = ds.replace({'\\u200d': '', '\\xa0': ' ', '\\u200b': ''}, regex=True)"
   ]
  },
  {
   "cell_type": "code",
   "execution_count": 9,
   "id": "8d60dc4a-eeea-4b22-8a8b-55f511fb7511",
   "metadata": {},
   "outputs": [
    {
     "data": {
      "text/plain": [
       "'Maximum Likelihood Estimation for Linear Regression'"
      ]
     },
     "execution_count": 9,
     "metadata": {},
     "output_type": "execute_result"
    }
   ],
   "source": [
    "ds_cleaned['question'][2]"
   ]
  },
  {
   "cell_type": "code",
   "execution_count": 10,
   "id": "840effb3-6598-4252-b10e-bb6bf5bad79e",
   "metadata": {},
   "outputs": [
    {
     "data": {
      "text/plain": [
       "\"To solve linear regression, you need to find the coefficients which minimize the sum of squared errors.\\nMatrix Algebra method: Let's say you have X, a matrix of features, and y, a vector with the values you want to predict. After going through the matrix algebra and minimization problem, you get this solution:\\nBut solving this requires you to find an inverse, which can be time-consuming, if not impossible. Luckily, there are methods like Singular Value Decomposition (SVD) or QR Decomposition that can reliably calculate this part  (called the pseudo-inverse) without actually needing to find an inverse. The popular python ML library sklearn uses SVD to solve least squares.\\nAlternative method: Gradient Descent. \\n\""
      ]
     },
     "execution_count": 10,
     "metadata": {},
     "output_type": "execute_result"
    }
   ],
   "source": [
    "ds_cleaned['answer'][1]"
   ]
  },
  {
   "cell_type": "code",
   "execution_count": 11,
   "id": "abffb572-9033-4b68-991f-70be01594d6f",
   "metadata": {},
   "outputs": [],
   "source": [
    "ds_cleaned.to_csv('data/db.csv', index=False)"
   ]
  }
 ],
 "metadata": {
  "kernelspec": {
   "display_name": "LLM",
   "language": "python",
   "name": "llm-env"
  },
  "language_info": {
   "codemirror_mode": {
    "name": "ipython",
    "version": 3
   },
   "file_extension": ".py",
   "mimetype": "text/x-python",
   "name": "python",
   "nbconvert_exporter": "python",
   "pygments_lexer": "ipython3",
   "version": "3.11.7"
  }
 },
 "nbformat": 4,
 "nbformat_minor": 5
}
